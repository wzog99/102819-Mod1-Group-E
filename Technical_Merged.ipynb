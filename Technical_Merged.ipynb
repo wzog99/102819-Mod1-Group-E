{
 "cells": [
  {
   "cell_type": "markdown",
   "metadata": {},
   "source": [
    "# How do Director's Impact Public Opinion? -Will Herzog "
   ]
  },
  {
   "cell_type": "markdown",
   "metadata": {},
   "source": [
    "#### Import libraries and necessary DataFrames to get us started"
   ]
  },
  {
   "cell_type": "code",
   "execution_count": 1,
   "metadata": {},
   "outputs": [],
   "source": [
    "import pandas as pd\n",
    "import numpy as np\n",
    "import matplotlib.pyplot as plt\n",
    "import seaborn as sns\n",
    "%matplotlib inline"
   ]
  },
  {
   "cell_type": "code",
   "execution_count": 2,
   "metadata": {},
   "outputs": [],
   "source": [
    "imdb_df4 = pd.read_csv('Data/imdb.title.crew.csv') #movie id | directors id | ...\n",
    "imdb_df6 = pd.read_csv('Data/imdb.title.ratings.csv') #movie id | Average rating | number of votes\n",
    "name_df = pd.read_csv('Data/imdb.name.basics.csv') #director id | Name | ..."
   ]
  },
  {
   "cell_type": "markdown",
   "metadata": {},
   "source": [
    "Merge DataFrame imdb_df4  With DataFrame imdb_df6\n",
    "\n",
    "Movie ID | Directors ID --onto-- Movie ID | Average Rating | Number of Votes\n",
    "\n",
    "The cell below completes a right-merge of imdb_df4 onto imdb_df6 across the shared index 'tconst'. This maintains the director's index and removes the extraneous values from imdb_df6 that don't match up with the director index."
   ]
  },
  {
   "cell_type": "code",
   "execution_count": 3,
   "metadata": {},
   "outputs": [
    {
     "name": "stdout",
     "output_type": "stream",
     "text": [
      "This is imdb_df10 info:\n",
      "<class 'pandas.core.frame.DataFrame'>\n",
      "Int64Index: 146144 entries, 0 to 146143\n",
      "Data columns (total 5 columns):\n",
      "tconst           146144 non-null object\n",
      "averagerating    73856 non-null float64\n",
      "numvotes         73856 non-null float64\n",
      "directors        140417 non-null object\n",
      "writers          110261 non-null object\n",
      "dtypes: float64(2), object(3)\n",
      "memory usage: 6.7+ MB\n",
      "This is imdb_df4 info:\n",
      "<class 'pandas.core.frame.DataFrame'>\n",
      "RangeIndex: 146144 entries, 0 to 146143\n",
      "Data columns (total 3 columns):\n",
      "tconst       146144 non-null object\n",
      "directors    140417 non-null object\n",
      "writers      110261 non-null object\n",
      "dtypes: object(3)\n",
      "memory usage: 3.3+ MB\n",
      "This is imdb_df6 info:\n",
      "<class 'pandas.core.frame.DataFrame'>\n",
      "RangeIndex: 73856 entries, 0 to 73855\n",
      "Data columns (total 3 columns):\n",
      "tconst           73856 non-null object\n",
      "averagerating    73856 non-null float64\n",
      "numvotes         73856 non-null int64\n",
      "dtypes: float64(1), int64(1), object(1)\n",
      "memory usage: 1.7+ MB\n"
     ]
    }
   ],
   "source": [
    "imdb_df10 = imdb_df6.merge(imdb_df4, left_on='tconst', right_on = 'tconst', how = 'right')\n",
    "print('This is imdb_df10 info:')\n",
    "imdb_df10.info()\n",
    "print('This is imdb_df4 info:')\n",
    "imdb_df4.info()\n",
    "print('This is imdb_df6 info:')\n",
    "imdb_df6.info()"
   ]
  },
  {
   "cell_type": "markdown",
   "metadata": {},
   "source": [
    "In this cell I am removing the NaN values that would otherwise disrupt the analysis. We also see from above, that the dataframes are not the same size. This will result in a significant number of NaNs. While I have 140,000+ directors in imdb_df4, I only have 73,856 reviews/rankings. Fabricating values to fill the NaN's is a possibility. However, fabricating a summary statistic to represent the missing director's reviews and votes would be inappropriate. This is attributed to the small sample size of each director. Summary statistics would be highly volatile, and would cause more harm than good."
   ]
  },
  {
   "cell_type": "code",
   "execution_count": 4,
   "metadata": {},
   "outputs": [],
   "source": [
    "imdb_df10.dropna(subset = ['averagerating'], inplace=True)\n",
    "imdb_df10.dropna(subset = ['numvotes'], inplace = True)  \n",
    "imdb_df10.dropna(subset = ['directors'], inplace = True)\n",
    "imdb_df10.drop(['writers'],inplace = True, axis = 1)"
   ]
  },
  {
   "cell_type": "markdown",
   "metadata": {},
   "source": [
    "The input below creates a new column called 'pos_reaction'. This is done to better analyse the impact of the number of votes and the review rating. "
   ]
  },
  {
   "cell_type": "code",
   "execution_count": 5,
   "metadata": {},
   "outputs": [],
   "source": [
    "imdb_df10['pos_reaction'] = imdb_df10['averagerating'] * imdb_df10['numvotes']"
   ]
  },
  {
   "cell_type": "markdown",
   "metadata": {},
   "source": [
    "Below, we are grouping by the director, and summing to convert the dataframe groupby type to a dataframe type. The unique directors are also formated as an index to be referred to later. "
   ]
  },
  {
   "cell_type": "code",
   "execution_count": 42,
   "metadata": {},
   "outputs": [],
   "source": [
    "pos_reaction = pd.DataFrame(imdb_df10.groupby('directors').sum())['pos_reaction']\n",
    "pos_reaction.index;"
   ]
  },
  {
   "cell_type": "markdown",
   "metadata": {},
   "source": [
    "Here the code is counting the unique itterations of the directors, as well as the number of counts that it shows up.\n",
    "We initialize an empty dictionary, to place key, value pairs of the director index and the average positive reaction that gets synthisized in the for loop."
   ]
  },
  {
   "cell_type": "code",
   "execution_count": 43,
   "metadata": {},
   "outputs": [],
   "source": [
    "directors, counts = np.unique(imdb_df10['directors'], return_counts=True)\n",
    "\n",
    "dir_pos = {}\n",
    "for director, count in zip(directors, counts):\n",
    "    dir_pos[director] = ((pos_reaction.loc[director])/count) #gets the total pos_reaction / count of films made "
   ]
  },
  {
   "cell_type": "markdown",
   "metadata": {},
   "source": [
    "Below, is the result of the dictionary, now converted over to a dataframe type object, titled: top_10_directors"
   ]
  },
  {
   "cell_type": "code",
   "execution_count": 44,
   "metadata": {},
   "outputs": [
    {
     "data": {
      "text/html": [
       "<div>\n",
       "<style scoped>\n",
       "    .dataframe tbody tr th:only-of-type {\n",
       "        vertical-align: middle;\n",
       "    }\n",
       "\n",
       "    .dataframe tbody tr th {\n",
       "        vertical-align: top;\n",
       "    }\n",
       "\n",
       "    .dataframe thead th {\n",
       "        text-align: right;\n",
       "    }\n",
       "</style>\n",
       "<table border=\"1\" class=\"dataframe\">\n",
       "  <thead>\n",
       "    <tr style=\"text-align: right;\">\n",
       "      <th></th>\n",
       "      <th>directors</th>\n",
       "      <th>avg_positive_reaction</th>\n",
       "    </tr>\n",
       "  </thead>\n",
       "  <tbody>\n",
       "    <tr>\n",
       "      <td>0</td>\n",
       "      <td>nm0000080</td>\n",
       "      <td>31167.300</td>\n",
       "    </tr>\n",
       "    <tr>\n",
       "      <td>1</td>\n",
       "      <td>nm0000095</td>\n",
       "      <td>759245.975</td>\n",
       "    </tr>\n",
       "    <tr>\n",
       "      <td>2</td>\n",
       "      <td>nm0000108</td>\n",
       "      <td>726711.650</td>\n",
       "    </tr>\n",
       "    <tr>\n",
       "      <td>3</td>\n",
       "      <td>nm0000110</td>\n",
       "      <td>1529239.040</td>\n",
       "    </tr>\n",
       "    <tr>\n",
       "      <td>4</td>\n",
       "      <td>nm0000118</td>\n",
       "      <td>214407.200</td>\n",
       "    </tr>\n",
       "  </tbody>\n",
       "</table>\n",
       "</div>"
      ],
      "text/plain": [
       "   directors  avg_positive_reaction\n",
       "0  nm0000080              31167.300\n",
       "1  nm0000095             759245.975\n",
       "2  nm0000108             726711.650\n",
       "3  nm0000110            1529239.040\n",
       "4  nm0000118             214407.200"
      ]
     },
     "execution_count": 44,
     "metadata": {},
     "output_type": "execute_result"
    }
   ],
   "source": [
    "top_10_directors = pd.DataFrame(list(dir_pos.items()), columns=['directors', 'avg_positive_reaction'])\n",
    "top_10_directors.head()"
   ]
  },
  {
   "cell_type": "markdown",
   "metadata": {},
   "source": [
    "Since we're only concerned about the top 10 directors, we sort the table based on the average positive reaction. Then reassigning the working data frame as the first 10 values. In anticipation of our next process, we reset the index so we may access it more easily in the following steps."
   ]
  },
  {
   "cell_type": "code",
   "execution_count": 26,
   "metadata": {},
   "outputs": [],
   "source": [
    "top_10_directors = top_10_directors.sort_values('avg_positive_reaction', ascending = False).head(10).reset_index()"
   ]
  },
  {
   "cell_type": "markdown",
   "metadata": {},
   "source": [
    "#### The purpose of the next few lines is to seperate the directors column into 2 columns, to account for multiple directors\n",
    "##### The reason being, when multiple directors contribute to the film, the database simply adds the additional director into the column. By spliting the column at a ',' we are able to refrence each director's specific ID to investigate the person's name, and any additional information we might need.\n",
    "\n",
    "Below, we define a function that trys to split the column at a ',' but if it throws an error, it will return an empty string to the new column, instead of crashing the translation."
   ]
  },
  {
   "cell_type": "code",
   "execution_count": 27,
   "metadata": {},
   "outputs": [],
   "source": [
    "def split_column(director_str):\n",
    "    mk_split = director_str.split(',')\n",
    "    try:\n",
    "        return mk_split[1]\n",
    "    except:\n",
    "        return ''"
   ]
  },
  {
   "cell_type": "markdown",
   "metadata": {},
   "source": [
    "Here we approach splitting the column in 2 different manners:\n",
    "\n",
    "The first line will split the first director off at the commam, and insert it into a new column labeled 'director1'\n",
    "\n",
    "The second line applies the function and will circumvent any error that might be triggered by indexes not matching."
   ]
  },
  {
   "cell_type": "code",
   "execution_count": 28,
   "metadata": {},
   "outputs": [
    {
     "data": {
      "text/html": [
       "<div>\n",
       "<style scoped>\n",
       "    .dataframe tbody tr th:only-of-type {\n",
       "        vertical-align: middle;\n",
       "    }\n",
       "\n",
       "    .dataframe tbody tr th {\n",
       "        vertical-align: top;\n",
       "    }\n",
       "\n",
       "    .dataframe thead th {\n",
       "        text-align: right;\n",
       "    }\n",
       "</style>\n",
       "<table border=\"1\" class=\"dataframe\">\n",
       "  <thead>\n",
       "    <tr style=\"text-align: right;\">\n",
       "      <th></th>\n",
       "      <th>index</th>\n",
       "      <th>directors</th>\n",
       "      <th>avg_positive_reaction</th>\n",
       "      <th>director1</th>\n",
       "      <th>director2</th>\n",
       "    </tr>\n",
       "  </thead>\n",
       "  <tbody>\n",
       "    <tr>\n",
       "      <td>0</td>\n",
       "      <td>7622</td>\n",
       "      <td>nm0634240</td>\n",
       "      <td>1.067972e+07</td>\n",
       "      <td>nm0634240</td>\n",
       "      <td></td>\n",
       "    </tr>\n",
       "    <tr>\n",
       "      <td>1</td>\n",
       "      <td>18805</td>\n",
       "      <td>nm1783265</td>\n",
       "      <td>6.566776e+06</td>\n",
       "      <td>nm1783265</td>\n",
       "      <td></td>\n",
       "    </tr>\n",
       "    <tr>\n",
       "      <td>2</td>\n",
       "      <td>438</td>\n",
       "      <td>nm0004306</td>\n",
       "      <td>6.325371e+06</td>\n",
       "      <td>nm0004306</td>\n",
       "      <td></td>\n",
       "    </tr>\n",
       "    <tr>\n",
       "      <td>3</td>\n",
       "      <td>10404</td>\n",
       "      <td>nm0881279</td>\n",
       "      <td>5.662409e+06</td>\n",
       "      <td>nm0881279</td>\n",
       "      <td></td>\n",
       "    </tr>\n",
       "    <tr>\n",
       "      <td>4</td>\n",
       "      <td>8989</td>\n",
       "      <td>nm0761498,nm0213450</td>\n",
       "      <td>4.951522e+06</td>\n",
       "      <td>nm0761498</td>\n",
       "      <td>nm0213450</td>\n",
       "    </tr>\n",
       "    <tr>\n",
       "      <td>5</td>\n",
       "      <td>10853</td>\n",
       "      <td>nm0923736</td>\n",
       "      <td>4.852477e+06</td>\n",
       "      <td>nm0923736</td>\n",
       "      <td></td>\n",
       "    </tr>\n",
       "    <tr>\n",
       "      <td>6</td>\n",
       "      <td>8862</td>\n",
       "      <td>nm0751577,nm0751648</td>\n",
       "      <td>4.833245e+06</td>\n",
       "      <td>nm0751577</td>\n",
       "      <td>nm0751648</td>\n",
       "    </tr>\n",
       "    <tr>\n",
       "      <td>7</td>\n",
       "      <td>62</td>\n",
       "      <td>nm0000399</td>\n",
       "      <td>4.523357e+06</td>\n",
       "      <td>nm0000399</td>\n",
       "      <td></td>\n",
       "    </tr>\n",
       "    <tr>\n",
       "      <td>8</td>\n",
       "      <td>3075</td>\n",
       "      <td>nm0230032,nm0215455</td>\n",
       "      <td>4.396684e+06</td>\n",
       "      <td>nm0230032</td>\n",
       "      <td>nm0215455</td>\n",
       "    </tr>\n",
       "    <tr>\n",
       "      <td>9</td>\n",
       "      <td>608</td>\n",
       "      <td>nm0009190</td>\n",
       "      <td>3.984295e+06</td>\n",
       "      <td>nm0009190</td>\n",
       "      <td></td>\n",
       "    </tr>\n",
       "  </tbody>\n",
       "</table>\n",
       "</div>"
      ],
      "text/plain": [
       "   index            directors  avg_positive_reaction  director1  director2\n",
       "0   7622            nm0634240           1.067972e+07  nm0634240           \n",
       "1  18805            nm1783265           6.566776e+06  nm1783265           \n",
       "2    438            nm0004306           6.325371e+06  nm0004306           \n",
       "3  10404            nm0881279           5.662409e+06  nm0881279           \n",
       "4   8989  nm0761498,nm0213450           4.951522e+06  nm0761498  nm0213450\n",
       "5  10853            nm0923736           4.852477e+06  nm0923736           \n",
       "6   8862  nm0751577,nm0751648           4.833245e+06  nm0751577  nm0751648\n",
       "7     62            nm0000399           4.523357e+06  nm0000399           \n",
       "8   3075  nm0230032,nm0215455           4.396684e+06  nm0230032  nm0215455\n",
       "9    608            nm0009190           3.984295e+06  nm0009190           "
      ]
     },
     "execution_count": 28,
     "metadata": {},
     "output_type": "execute_result"
    }
   ],
   "source": [
    "top_10_directors['director1'] = top_10_directors['directors'].apply(lambda x: x.split(',')[0])\n",
    "top_10_directors['director2'] = top_10_directors['directors'].apply(split_column)\n",
    "top_10_directors"
   ]
  },
  {
   "cell_type": "markdown",
   "metadata": {},
   "source": [
    "#### The objective of this next section is to merge name_df onto top_10_directors. \n",
    "##### This will require 2 merges due to the fact that we are finding the corresponding director for 2 columns.\n",
    "\n",
    "Here we are opening a new csv file that combines the director refrence number and the paired name"
   ]
  },
  {
   "cell_type": "code",
   "execution_count": 29,
   "metadata": {},
   "outputs": [],
   "source": [
    "name_df = pd.read_csv('Data/imdb.name.basics.csv')\n",
    "name_df['name_directors'] = name_df['primary_name']"
   ]
  },
  {
   "cell_type": "code",
   "execution_count": 30,
   "metadata": {},
   "outputs": [
    {
     "data": {
      "text/html": [
       "<div>\n",
       "<style scoped>\n",
       "    .dataframe tbody tr th:only-of-type {\n",
       "        vertical-align: middle;\n",
       "    }\n",
       "\n",
       "    .dataframe tbody tr th {\n",
       "        vertical-align: top;\n",
       "    }\n",
       "\n",
       "    .dataframe thead th {\n",
       "        text-align: right;\n",
       "    }\n",
       "</style>\n",
       "<table border=\"1\" class=\"dataframe\">\n",
       "  <thead>\n",
       "    <tr style=\"text-align: right;\">\n",
       "      <th></th>\n",
       "      <th>nconst</th>\n",
       "      <th>primary_name</th>\n",
       "      <th>birth_year</th>\n",
       "      <th>death_year</th>\n",
       "      <th>primary_profession</th>\n",
       "      <th>known_for_titles</th>\n",
       "      <th>name_directors</th>\n",
       "    </tr>\n",
       "  </thead>\n",
       "  <tbody>\n",
       "    <tr>\n",
       "      <td>0</td>\n",
       "      <td>nm0061671</td>\n",
       "      <td>Mary Ellen Bauder</td>\n",
       "      <td>NaN</td>\n",
       "      <td>NaN</td>\n",
       "      <td>miscellaneous,production_manager,producer</td>\n",
       "      <td>tt0837562,tt2398241,tt0844471,tt0118553</td>\n",
       "      <td>Mary Ellen Bauder</td>\n",
       "    </tr>\n",
       "  </tbody>\n",
       "</table>\n",
       "</div>"
      ],
      "text/plain": [
       "      nconst       primary_name  birth_year  death_year  \\\n",
       "0  nm0061671  Mary Ellen Bauder         NaN         NaN   \n",
       "\n",
       "                          primary_profession  \\\n",
       "0  miscellaneous,production_manager,producer   \n",
       "\n",
       "                          known_for_titles     name_directors  \n",
       "0  tt0837562,tt2398241,tt0844471,tt0118553  Mary Ellen Bauder  "
      ]
     },
     "execution_count": 30,
     "metadata": {},
     "output_type": "execute_result"
    }
   ],
   "source": [
    "name_df.head(1)"
   ]
  },
  {
   "cell_type": "code",
   "execution_count": 31,
   "metadata": {},
   "outputs": [
    {
     "data": {
      "text/html": [
       "<div>\n",
       "<style scoped>\n",
       "    .dataframe tbody tr th:only-of-type {\n",
       "        vertical-align: middle;\n",
       "    }\n",
       "\n",
       "    .dataframe tbody tr th {\n",
       "        vertical-align: top;\n",
       "    }\n",
       "\n",
       "    .dataframe thead th {\n",
       "        text-align: right;\n",
       "    }\n",
       "</style>\n",
       "<table border=\"1\" class=\"dataframe\">\n",
       "  <thead>\n",
       "    <tr style=\"text-align: right;\">\n",
       "      <th></th>\n",
       "      <th>index</th>\n",
       "      <th>directors</th>\n",
       "      <th>avg_positive_reaction</th>\n",
       "      <th>director1</th>\n",
       "      <th>director2</th>\n",
       "    </tr>\n",
       "  </thead>\n",
       "  <tbody>\n",
       "    <tr>\n",
       "      <td>0</td>\n",
       "      <td>7622</td>\n",
       "      <td>nm0634240</td>\n",
       "      <td>10679723.7</td>\n",
       "      <td>nm0634240</td>\n",
       "      <td></td>\n",
       "    </tr>\n",
       "  </tbody>\n",
       "</table>\n",
       "</div>"
      ],
      "text/plain": [
       "   index  directors  avg_positive_reaction  director1 director2\n",
       "0   7622  nm0634240             10679723.7  nm0634240          "
      ]
     },
     "execution_count": 31,
     "metadata": {},
     "output_type": "execute_result"
    }
   ],
   "source": [
    "top_10_directors.head(1)"
   ]
  },
  {
   "cell_type": "markdown",
   "metadata": {},
   "source": [
    "This merge is being excecuted on top_10_directors, maintaining the index on the left-hand of the function.\n",
    "The shared column thats being refrenced is \"director1\" from top_10_directors and \"nconst\" from name_df."
   ]
  },
  {
   "cell_type": "code",
   "execution_count": 32,
   "metadata": {},
   "outputs": [
    {
     "data": {
      "text/html": [
       "<div>\n",
       "<style scoped>\n",
       "    .dataframe tbody tr th:only-of-type {\n",
       "        vertical-align: middle;\n",
       "    }\n",
       "\n",
       "    .dataframe tbody tr th {\n",
       "        vertical-align: top;\n",
       "    }\n",
       "\n",
       "    .dataframe thead th {\n",
       "        text-align: right;\n",
       "    }\n",
       "</style>\n",
       "<table border=\"1\" class=\"dataframe\">\n",
       "  <thead>\n",
       "    <tr style=\"text-align: right;\">\n",
       "      <th></th>\n",
       "      <th>index</th>\n",
       "      <th>directors</th>\n",
       "      <th>avg_positive_reaction</th>\n",
       "      <th>director1</th>\n",
       "      <th>director2</th>\n",
       "      <th>nconst</th>\n",
       "      <th>primary_name</th>\n",
       "      <th>birth_year</th>\n",
       "      <th>death_year</th>\n",
       "      <th>primary_profession</th>\n",
       "      <th>known_for_titles</th>\n",
       "      <th>name_directors</th>\n",
       "    </tr>\n",
       "  </thead>\n",
       "  <tbody>\n",
       "    <tr>\n",
       "      <td>0</td>\n",
       "      <td>7622</td>\n",
       "      <td>nm0634240</td>\n",
       "      <td>10679723.7</td>\n",
       "      <td>nm0634240</td>\n",
       "      <td></td>\n",
       "      <td>nm0634240</td>\n",
       "      <td>Christopher Nolan</td>\n",
       "      <td>1970.0</td>\n",
       "      <td>NaN</td>\n",
       "      <td>writer,producer,director</td>\n",
       "      <td>tt0482571,tt1375666,tt5013056,tt0154506</td>\n",
       "      <td>Christopher Nolan</td>\n",
       "    </tr>\n",
       "  </tbody>\n",
       "</table>\n",
       "</div>"
      ],
      "text/plain": [
       "   index  directors  avg_positive_reaction  director1 director2     nconst  \\\n",
       "0   7622  nm0634240             10679723.7  nm0634240            nm0634240   \n",
       "\n",
       "        primary_name  birth_year  death_year        primary_profession  \\\n",
       "0  Christopher Nolan      1970.0         NaN  writer,producer,director   \n",
       "\n",
       "                          known_for_titles     name_directors  \n",
       "0  tt0482571,tt1375666,tt5013056,tt0154506  Christopher Nolan  "
      ]
     },
     "execution_count": 32,
     "metadata": {},
     "output_type": "execute_result"
    }
   ],
   "source": [
    "top_10_directors_names = top_10_directors.merge(name_df, left_on = 'director1', right_on = 'nconst', how = 'left')\n",
    "top_10_directors_names.head(1)\n"
   ]
  },
  {
   "cell_type": "markdown",
   "metadata": {},
   "source": [
    "A similar process is done to link the second director to the name_df.\n",
    "\n",
    "This time we refrence 'director2' as the left-hand pair to be linked with 'nconst' from the name_df."
   ]
  },
  {
   "cell_type": "code",
   "execution_count": 33,
   "metadata": {},
   "outputs": [
    {
     "data": {
      "text/html": [
       "<div>\n",
       "<style scoped>\n",
       "    .dataframe tbody tr th:only-of-type {\n",
       "        vertical-align: middle;\n",
       "    }\n",
       "\n",
       "    .dataframe tbody tr th {\n",
       "        vertical-align: top;\n",
       "    }\n",
       "\n",
       "    .dataframe thead th {\n",
       "        text-align: right;\n",
       "    }\n",
       "</style>\n",
       "<table border=\"1\" class=\"dataframe\">\n",
       "  <thead>\n",
       "    <tr style=\"text-align: right;\">\n",
       "      <th></th>\n",
       "      <th>index</th>\n",
       "      <th>directors</th>\n",
       "      <th>avg_positive_reaction</th>\n",
       "      <th>director1</th>\n",
       "      <th>director2</th>\n",
       "      <th>nconst_x</th>\n",
       "      <th>primary_name_x</th>\n",
       "      <th>birth_year_x</th>\n",
       "      <th>death_year_x</th>\n",
       "      <th>primary_profession_x</th>\n",
       "      <th>known_for_titles_x</th>\n",
       "      <th>name_directors_x</th>\n",
       "      <th>nconst_y</th>\n",
       "      <th>primary_name_y</th>\n",
       "      <th>birth_year_y</th>\n",
       "      <th>death_year_y</th>\n",
       "      <th>primary_profession_y</th>\n",
       "      <th>known_for_titles_y</th>\n",
       "      <th>name_directors_y</th>\n",
       "    </tr>\n",
       "  </thead>\n",
       "  <tbody>\n",
       "    <tr>\n",
       "      <td>0</td>\n",
       "      <td>7622</td>\n",
       "      <td>nm0634240</td>\n",
       "      <td>10679723.7</td>\n",
       "      <td>nm0634240</td>\n",
       "      <td></td>\n",
       "      <td>nm0634240</td>\n",
       "      <td>Christopher Nolan</td>\n",
       "      <td>1970.0</td>\n",
       "      <td>NaN</td>\n",
       "      <td>writer,producer,director</td>\n",
       "      <td>tt0482571,tt1375666,tt5013056,tt0154506</td>\n",
       "      <td>Christopher Nolan</td>\n",
       "      <td>NaN</td>\n",
       "      <td>NaN</td>\n",
       "      <td>NaN</td>\n",
       "      <td>NaN</td>\n",
       "      <td>NaN</td>\n",
       "      <td>NaN</td>\n",
       "      <td>NaN</td>\n",
       "    </tr>\n",
       "  </tbody>\n",
       "</table>\n",
       "</div>"
      ],
      "text/plain": [
       "   index  directors  avg_positive_reaction  director1 director2   nconst_x  \\\n",
       "0   7622  nm0634240             10679723.7  nm0634240            nm0634240   \n",
       "\n",
       "      primary_name_x  birth_year_x  death_year_x      primary_profession_x  \\\n",
       "0  Christopher Nolan        1970.0           NaN  writer,producer,director   \n",
       "\n",
       "                        known_for_titles_x   name_directors_x nconst_y  \\\n",
       "0  tt0482571,tt1375666,tt5013056,tt0154506  Christopher Nolan      NaN   \n",
       "\n",
       "  primary_name_y  birth_year_y  death_year_y primary_profession_y  \\\n",
       "0            NaN           NaN           NaN                  NaN   \n",
       "\n",
       "  known_for_titles_y name_directors_y  \n",
       "0                NaN              NaN  "
      ]
     },
     "execution_count": 33,
     "metadata": {},
     "output_type": "execute_result"
    }
   ],
   "source": [
    "top_10_directors_names2 = top_10_directors_names.merge(name_df, left_on = 'director2', right_on = 'nconst', how = 'left')\n",
    "top_10_directors_names2.head(1)"
   ]
  },
  {
   "cell_type": "markdown",
   "metadata": {},
   "source": [
    "The above dataframe is very messy as a result of the merge. \n",
    "\n",
    "In order to expedite the process, below, I created an empty dataframe to be populated by the data that is deemed usefull.\n",
    "\n",
    "The final column 'Director(s)' will be refrenced in the graphing section that follows. It is simply a summation of 'Director1' and 'Director2' columns. In the event of having only one director, we replace the NaN value that is created as a result of the summation, with the value from 'Director1'."
   ]
  },
  {
   "cell_type": "code",
   "execution_count": 34,
   "metadata": {},
   "outputs": [],
   "source": [
    "final_df = pd.DataFrame()\n",
    "final_df['Director_ID'] = top_10_directors_names2['directors']\n",
    "final_df['Avg_Positive_Reaction'] = top_10_directors_names2['avg_positive_reaction']\n",
    "final_df['Director_1'] = top_10_directors_names2['primary_name_x']\n",
    "final_df['Director_2'] = top_10_directors_names2['primary_name_y']\n",
    "#final_df['Director(s)'] = pd.Series()\n",
    "final_df['Director(s)'] = final_df['Director_1'] + ', ' + final_df['Director_2']\n",
    "final_df['Director(s)'].fillna(final_df['Director_1'], inplace = True)"
   ]
  },
  {
   "cell_type": "code",
   "execution_count": 35,
   "metadata": {},
   "outputs": [
    {
     "data": {
      "text/html": [
       "<div>\n",
       "<style scoped>\n",
       "    .dataframe tbody tr th:only-of-type {\n",
       "        vertical-align: middle;\n",
       "    }\n",
       "\n",
       "    .dataframe tbody tr th {\n",
       "        vertical-align: top;\n",
       "    }\n",
       "\n",
       "    .dataframe thead th {\n",
       "        text-align: right;\n",
       "    }\n",
       "</style>\n",
       "<table border=\"1\" class=\"dataframe\">\n",
       "  <thead>\n",
       "    <tr style=\"text-align: right;\">\n",
       "      <th></th>\n",
       "      <th>Director_ID</th>\n",
       "      <th>Avg_Positive_Reaction</th>\n",
       "      <th>Director_1</th>\n",
       "      <th>Director_2</th>\n",
       "      <th>Director(s)</th>\n",
       "    </tr>\n",
       "  </thead>\n",
       "  <tbody>\n",
       "    <tr>\n",
       "      <td>0</td>\n",
       "      <td>nm0634240</td>\n",
       "      <td>1.067972e+07</td>\n",
       "      <td>Christopher Nolan</td>\n",
       "      <td>NaN</td>\n",
       "      <td>Christopher Nolan</td>\n",
       "    </tr>\n",
       "    <tr>\n",
       "      <td>1</td>\n",
       "      <td>nm1783265</td>\n",
       "      <td>6.566776e+06</td>\n",
       "      <td>Tim Miller</td>\n",
       "      <td>NaN</td>\n",
       "      <td>Tim Miller</td>\n",
       "    </tr>\n",
       "    <tr>\n",
       "      <td>2</td>\n",
       "      <td>nm0004306</td>\n",
       "      <td>6.325371e+06</td>\n",
       "      <td>George Miller</td>\n",
       "      <td>NaN</td>\n",
       "      <td>George Miller</td>\n",
       "    </tr>\n",
       "    <tr>\n",
       "      <td>3</td>\n",
       "      <td>nm0881279</td>\n",
       "      <td>5.662409e+06</td>\n",
       "      <td>Lee Unkrich</td>\n",
       "      <td>NaN</td>\n",
       "      <td>Lee Unkrich</td>\n",
       "    </tr>\n",
       "    <tr>\n",
       "      <td>4</td>\n",
       "      <td>nm0761498,nm0213450</td>\n",
       "      <td>4.951522e+06</td>\n",
       "      <td>Chris Sanders</td>\n",
       "      <td>Dean DeBlois</td>\n",
       "      <td>Chris Sanders, Dean DeBlois</td>\n",
       "    </tr>\n",
       "    <tr>\n",
       "      <td>5</td>\n",
       "      <td>nm0923736</td>\n",
       "      <td>4.852477e+06</td>\n",
       "      <td>Joss Whedon</td>\n",
       "      <td>NaN</td>\n",
       "      <td>Joss Whedon</td>\n",
       "    </tr>\n",
       "    <tr>\n",
       "      <td>6</td>\n",
       "      <td>nm0751577,nm0751648</td>\n",
       "      <td>4.833245e+06</td>\n",
       "      <td>Anthony Russo</td>\n",
       "      <td>Joe Russo</td>\n",
       "      <td>Anthony Russo, Joe Russo</td>\n",
       "    </tr>\n",
       "    <tr>\n",
       "      <td>7</td>\n",
       "      <td>nm0000399</td>\n",
       "      <td>4.523357e+06</td>\n",
       "      <td>David Fincher</td>\n",
       "      <td>NaN</td>\n",
       "      <td>David Fincher</td>\n",
       "    </tr>\n",
       "    <tr>\n",
       "      <td>8</td>\n",
       "      <td>nm0230032,nm0215455</td>\n",
       "      <td>4.396684e+06</td>\n",
       "      <td>Pete Docter</td>\n",
       "      <td>Ronnie Del Carmen</td>\n",
       "      <td>Pete Docter, Ronnie Del Carmen</td>\n",
       "    </tr>\n",
       "    <tr>\n",
       "      <td>9</td>\n",
       "      <td>nm0009190</td>\n",
       "      <td>3.984295e+06</td>\n",
       "      <td>J.J. Abrams</td>\n",
       "      <td>NaN</td>\n",
       "      <td>J.J. Abrams</td>\n",
       "    </tr>\n",
       "  </tbody>\n",
       "</table>\n",
       "</div>"
      ],
      "text/plain": [
       "           Director_ID  Avg_Positive_Reaction         Director_1  \\\n",
       "0            nm0634240           1.067972e+07  Christopher Nolan   \n",
       "1            nm1783265           6.566776e+06         Tim Miller   \n",
       "2            nm0004306           6.325371e+06      George Miller   \n",
       "3            nm0881279           5.662409e+06        Lee Unkrich   \n",
       "4  nm0761498,nm0213450           4.951522e+06      Chris Sanders   \n",
       "5            nm0923736           4.852477e+06        Joss Whedon   \n",
       "6  nm0751577,nm0751648           4.833245e+06      Anthony Russo   \n",
       "7            nm0000399           4.523357e+06      David Fincher   \n",
       "8  nm0230032,nm0215455           4.396684e+06        Pete Docter   \n",
       "9            nm0009190           3.984295e+06        J.J. Abrams   \n",
       "\n",
       "          Director_2                     Director(s)  \n",
       "0                NaN               Christopher Nolan  \n",
       "1                NaN                      Tim Miller  \n",
       "2                NaN                   George Miller  \n",
       "3                NaN                     Lee Unkrich  \n",
       "4       Dean DeBlois     Chris Sanders, Dean DeBlois  \n",
       "5                NaN                     Joss Whedon  \n",
       "6          Joe Russo        Anthony Russo, Joe Russo  \n",
       "7                NaN                   David Fincher  \n",
       "8  Ronnie Del Carmen  Pete Docter, Ronnie Del Carmen  \n",
       "9                NaN                     J.J. Abrams  "
      ]
     },
     "execution_count": 35,
     "metadata": {},
     "output_type": "execute_result"
    }
   ],
   "source": [
    "final_df "
   ]
  },
  {
   "cell_type": "code",
   "execution_count": 36,
   "metadata": {},
   "outputs": [
    {
     "data": {
      "text/html": [
       "<div>\n",
       "<style scoped>\n",
       "    .dataframe tbody tr th:only-of-type {\n",
       "        vertical-align: middle;\n",
       "    }\n",
       "\n",
       "    .dataframe tbody tr th {\n",
       "        vertical-align: top;\n",
       "    }\n",
       "\n",
       "    .dataframe thead th {\n",
       "        text-align: right;\n",
       "    }\n",
       "</style>\n",
       "<table border=\"1\" class=\"dataframe\">\n",
       "  <thead>\n",
       "    <tr style=\"text-align: right;\">\n",
       "      <th></th>\n",
       "      <th>tconst</th>\n",
       "      <th>averagerating</th>\n",
       "      <th>numvotes</th>\n",
       "      <th>directors</th>\n",
       "      <th>pos_reaction</th>\n",
       "    </tr>\n",
       "  </thead>\n",
       "  <tbody>\n",
       "    <tr>\n",
       "      <td>8738</td>\n",
       "      <td>tt1345836</td>\n",
       "      <td>8.4</td>\n",
       "      <td>1387769.0</td>\n",
       "      <td>nm0634240</td>\n",
       "      <td>11657259.6</td>\n",
       "    </tr>\n",
       "    <tr>\n",
       "      <td>24920</td>\n",
       "      <td>tt0816692</td>\n",
       "      <td>8.6</td>\n",
       "      <td>1299334.0</td>\n",
       "      <td>nm0634240</td>\n",
       "      <td>11174272.4</td>\n",
       "    </tr>\n",
       "    <tr>\n",
       "      <td>49039</td>\n",
       "      <td>tt5013056</td>\n",
       "      <td>7.9</td>\n",
       "      <td>466580.0</td>\n",
       "      <td>nm0634240</td>\n",
       "      <td>3685982.0</td>\n",
       "    </tr>\n",
       "    <tr>\n",
       "      <td>63498</td>\n",
       "      <td>tt1375666</td>\n",
       "      <td>8.8</td>\n",
       "      <td>1841066.0</td>\n",
       "      <td>nm0634240</td>\n",
       "      <td>16201380.8</td>\n",
       "    </tr>\n",
       "  </tbody>\n",
       "</table>\n",
       "</div>"
      ],
      "text/plain": [
       "          tconst  averagerating   numvotes  directors  pos_reaction\n",
       "8738   tt1345836            8.4  1387769.0  nm0634240    11657259.6\n",
       "24920  tt0816692            8.6  1299334.0  nm0634240    11174272.4\n",
       "49039  tt5013056            7.9   466580.0  nm0634240     3685982.0\n",
       "63498  tt1375666            8.8  1841066.0  nm0634240    16201380.8"
      ]
     },
     "execution_count": 36,
     "metadata": {},
     "output_type": "execute_result"
    }
   ],
   "source": [
    "imdb_df10.loc[imdb_df10['directors'] == 'nm0634240']"
   ]
  },
  {
   "cell_type": "markdown",
   "metadata": {},
   "source": [
    "#### This bar plot illustrates that when compared to his peers in the group Christorpher Nolan has a significantly higher positive reaction on those viewing his films."
   ]
  },
  {
   "cell_type": "code",
   "execution_count": 55,
   "metadata": {},
   "outputs": [
    {
     "data": {
      "image/png": "[encoded data removed]",
      "text/plain": [
       "<Figure size 432x288 with 1 Axes>"
      ]
     },
     "metadata": {
      "needs_background": "light"
     },
     "output_type": "display_data"
    }
   ],
   "source": [
    "directors = sns.barplot(x= final_df['Director(s)'], y= final_df['Avg_Positive_Reaction'], color= 'blue')\n",
    "directors.set_xticklabels(directors.get_xticklabels(), rotation=45, ha='right');\n",
    "plt.title('Director(s) vs Avg Positive Reaction');"
   ]
  },
  {
   "cell_type": "code",
   "execution_count": null,
   "metadata": {},
   "outputs": [],
   "source": []
  },
  {
   "cell_type": "markdown",
   "metadata": {},
   "source": [
    "# How do Sequels Affect Cashflow? -Will Herzog\n"
   ]
  },
  {
   "cell_type": "markdown",
   "metadata": {},
   "source": [
    "#### Import the necesarry libraries "
   ]
  },
  {
   "cell_type": "code",
   "execution_count": 56,
   "metadata": {},
   "outputs": [],
   "source": [
    "import pandas as pd\n",
    "import numpy as np\n",
    "import matplotlib.pyplot as plt\n",
    "import seaborn as sns\n",
    "%matplotlib inline"
   ]
  },
  {
   "cell_type": "markdown",
   "metadata": {},
   "source": [
    "#### Import dataframe"
   ]
  },
  {
   "cell_type": "code",
   "execution_count": 57,
   "metadata": {},
   "outputs": [],
   "source": [
    "tn_df10 = pd.read_csv('Data/tn.movie_budgets.csv')"
   ]
  },
  {
   "cell_type": "markdown",
   "metadata": {},
   "source": [
    "Below, we are modifying the columns in tn_df10 to drop the non-numerical values that show up, ',' and '$' and convert it to an integer.\n",
    "\n",
    "This will allow us to further manipulate the dataframe to answer our question."
   ]
  },
  {
   "cell_type": "code",
   "execution_count": 59,
   "metadata": {},
   "outputs": [],
   "source": [
    "tn_df10['production_budget'] = tn_df10['production_budget'].astype(str)\n",
    "tn_df10['production_budget'] = tn_df10['production_budget'].str.replace(\",\", \"\", regex = True)\n",
    "tn_df10['production_budget'] = tn_df10['production_budget'].str.replace(\"$\", \"\", regex = True)\n",
    "tn_df10['production_budget'] = tn_df10['production_budget'].astype(int)\n",
    "\n",
    "tn_df10['domestic_gross'] = tn_df10['domestic_gross'].astype(str)\n",
    "tn_df10['domestic_gross'] = tn_df10['domestic_gross'].str.replace(\",\", \"\", regex = True)\n",
    "tn_df10['domestic_gross'] = tn_df10['domestic_gross'].str.replace(\"$\", \"\", regex = True)\n",
    "tn_df10['domestic_gross'] = tn_df10['domestic_gross'].astype(int)\n",
    "\n",
    "tn_df10['worldwide_gross'] = tn_df10['worldwide_gross'].astype(str)\n",
    "tn_df10['worldwide_gross'] = tn_df10['worldwide_gross'].str.replace(\",\", \"\", regex = True)\n",
    "tn_df10['worldwide_gross'] = tn_df10['worldwide_gross'].str.replace(\"$\", \"\", regex = True)\n",
    "tn_df10['worldwide_gross'] = tn_df10['worldwide_gross'].astype(int)"
   ]
  },
  {
   "cell_type": "markdown",
   "metadata": {},
   "source": [
    "In the cell below, we are creating a new column that subtracts the production budget column from the worldwide_gross column.\n",
    "\n",
    "This column with give us the profit of the film, which is a good indication of how the film performed vs its peers."
   ]
  },
  {
   "cell_type": "code",
   "execution_count": 72,
   "metadata": {},
   "outputs": [],
   "source": [
    "tn_df10['profit'] = tn_df10['worldwide_gross'] - tn_df10['production_budget']"
   ]
  },
  {
   "cell_type": "markdown",
   "metadata": {},
   "source": [
    "Below is shoing the resulting table with the new column profit added at the end."
   ]
  },
  {
   "cell_type": "code",
   "execution_count": 73,
   "metadata": {},
   "outputs": [
    {
     "data": {
      "text/html": [
       "<div>\n",
       "<style scoped>\n",
       "    .dataframe tbody tr th:only-of-type {\n",
       "        vertical-align: middle;\n",
       "    }\n",
       "\n",
       "    .dataframe tbody tr th {\n",
       "        vertical-align: top;\n",
       "    }\n",
       "\n",
       "    .dataframe thead th {\n",
       "        text-align: right;\n",
       "    }\n",
       "</style>\n",
       "<table border=\"1\" class=\"dataframe\">\n",
       "  <thead>\n",
       "    <tr style=\"text-align: right;\">\n",
       "      <th></th>\n",
       "      <th>id</th>\n",
       "      <th>release_date</th>\n",
       "      <th>movie</th>\n",
       "      <th>production_budget</th>\n",
       "      <th>domestic_gross</th>\n",
       "      <th>worldwide_gross</th>\n",
       "      <th>profit</th>\n",
       "    </tr>\n",
       "  </thead>\n",
       "  <tbody>\n",
       "    <tr>\n",
       "      <td>0</td>\n",
       "      <td>1</td>\n",
       "      <td>Dec 18, 2009</td>\n",
       "      <td>Avatar</td>\n",
       "      <td>425000000</td>\n",
       "      <td>760507625</td>\n",
       "      <td>2776345279</td>\n",
       "      <td>2351345279</td>\n",
       "    </tr>\n",
       "    <tr>\n",
       "      <td>1</td>\n",
       "      <td>2</td>\n",
       "      <td>May 20, 2011</td>\n",
       "      <td>Pirates of the Caribbean: On Stranger Tides</td>\n",
       "      <td>410600000</td>\n",
       "      <td>241063875</td>\n",
       "      <td>1045663875</td>\n",
       "      <td>635063875</td>\n",
       "    </tr>\n",
       "    <tr>\n",
       "      <td>2</td>\n",
       "      <td>3</td>\n",
       "      <td>Jun 7, 2019</td>\n",
       "      <td>Dark Phoenix</td>\n",
       "      <td>350000000</td>\n",
       "      <td>42762350</td>\n",
       "      <td>149762350</td>\n",
       "      <td>-200237650</td>\n",
       "    </tr>\n",
       "    <tr>\n",
       "      <td>3</td>\n",
       "      <td>4</td>\n",
       "      <td>May 1, 2015</td>\n",
       "      <td>Avengers: Age of Ultron</td>\n",
       "      <td>330600000</td>\n",
       "      <td>459005868</td>\n",
       "      <td>1403013963</td>\n",
       "      <td>1072413963</td>\n",
       "    </tr>\n",
       "    <tr>\n",
       "      <td>4</td>\n",
       "      <td>5</td>\n",
       "      <td>Dec 15, 2017</td>\n",
       "      <td>Star Wars Ep. VIII: The Last Jedi</td>\n",
       "      <td>317000000</td>\n",
       "      <td>620181382</td>\n",
       "      <td>1316721747</td>\n",
       "      <td>999721747</td>\n",
       "    </tr>\n",
       "    <tr>\n",
       "      <td>5</td>\n",
       "      <td>6</td>\n",
       "      <td>Dec 18, 2015</td>\n",
       "      <td>Star Wars Ep. VII: The Force Awakens</td>\n",
       "      <td>306000000</td>\n",
       "      <td>936662225</td>\n",
       "      <td>2053311220</td>\n",
       "      <td>1747311220</td>\n",
       "    </tr>\n",
       "    <tr>\n",
       "      <td>6</td>\n",
       "      <td>7</td>\n",
       "      <td>Apr 27, 2018</td>\n",
       "      <td>Avengers: Infinity War</td>\n",
       "      <td>300000000</td>\n",
       "      <td>678815482</td>\n",
       "      <td>2048134200</td>\n",
       "      <td>1748134200</td>\n",
       "    </tr>\n",
       "    <tr>\n",
       "      <td>7</td>\n",
       "      <td>8</td>\n",
       "      <td>May 24, 2007</td>\n",
       "      <td>Pirates of the Caribbean: At Worldâs End</td>\n",
       "      <td>300000000</td>\n",
       "      <td>309420425</td>\n",
       "      <td>963420425</td>\n",
       "      <td>663420425</td>\n",
       "    </tr>\n",
       "    <tr>\n",
       "      <td>8</td>\n",
       "      <td>9</td>\n",
       "      <td>Nov 17, 2017</td>\n",
       "      <td>Justice League</td>\n",
       "      <td>300000000</td>\n",
       "      <td>229024295</td>\n",
       "      <td>655945209</td>\n",
       "      <td>355945209</td>\n",
       "    </tr>\n",
       "    <tr>\n",
       "      <td>9</td>\n",
       "      <td>10</td>\n",
       "      <td>Nov 6, 2015</td>\n",
       "      <td>Spectre</td>\n",
       "      <td>300000000</td>\n",
       "      <td>200074175</td>\n",
       "      <td>879620923</td>\n",
       "      <td>579620923</td>\n",
       "    </tr>\n",
       "    <tr>\n",
       "      <td>10</td>\n",
       "      <td>11</td>\n",
       "      <td>Jul 20, 2012</td>\n",
       "      <td>The Dark Knight Rises</td>\n",
       "      <td>275000000</td>\n",
       "      <td>448139099</td>\n",
       "      <td>1084439099</td>\n",
       "      <td>809439099</td>\n",
       "    </tr>\n",
       "    <tr>\n",
       "      <td>11</td>\n",
       "      <td>12</td>\n",
       "      <td>May 25, 2018</td>\n",
       "      <td>Solo: A Star Wars Story</td>\n",
       "      <td>275000000</td>\n",
       "      <td>213767512</td>\n",
       "      <td>393151347</td>\n",
       "      <td>118151347</td>\n",
       "    </tr>\n",
       "    <tr>\n",
       "      <td>12</td>\n",
       "      <td>13</td>\n",
       "      <td>Jul 2, 2013</td>\n",
       "      <td>The Lone Ranger</td>\n",
       "      <td>275000000</td>\n",
       "      <td>89302115</td>\n",
       "      <td>260002115</td>\n",
       "      <td>-14997885</td>\n",
       "    </tr>\n",
       "    <tr>\n",
       "      <td>13</td>\n",
       "      <td>14</td>\n",
       "      <td>Mar 9, 2012</td>\n",
       "      <td>John Carter</td>\n",
       "      <td>275000000</td>\n",
       "      <td>73058679</td>\n",
       "      <td>282778100</td>\n",
       "      <td>7778100</td>\n",
       "    </tr>\n",
       "    <tr>\n",
       "      <td>14</td>\n",
       "      <td>15</td>\n",
       "      <td>Nov 24, 2010</td>\n",
       "      <td>Tangled</td>\n",
       "      <td>260000000</td>\n",
       "      <td>200821936</td>\n",
       "      <td>586477240</td>\n",
       "      <td>326477240</td>\n",
       "    </tr>\n",
       "    <tr>\n",
       "      <td>15</td>\n",
       "      <td>16</td>\n",
       "      <td>May 4, 2007</td>\n",
       "      <td>Spider-Man 3</td>\n",
       "      <td>258000000</td>\n",
       "      <td>336530303</td>\n",
       "      <td>894860230</td>\n",
       "      <td>636860230</td>\n",
       "    </tr>\n",
       "    <tr>\n",
       "      <td>16</td>\n",
       "      <td>17</td>\n",
       "      <td>May 6, 2016</td>\n",
       "      <td>Captain America: Civil War</td>\n",
       "      <td>250000000</td>\n",
       "      <td>408084349</td>\n",
       "      <td>1140069413</td>\n",
       "      <td>890069413</td>\n",
       "    </tr>\n",
       "    <tr>\n",
       "      <td>17</td>\n",
       "      <td>18</td>\n",
       "      <td>Mar 25, 2016</td>\n",
       "      <td>Batman v Superman: Dawn of Justice</td>\n",
       "      <td>250000000</td>\n",
       "      <td>330360194</td>\n",
       "      <td>867500281</td>\n",
       "      <td>617500281</td>\n",
       "    </tr>\n",
       "    <tr>\n",
       "      <td>18</td>\n",
       "      <td>19</td>\n",
       "      <td>Dec 14, 2012</td>\n",
       "      <td>The Hobbit: An Unexpected Journey</td>\n",
       "      <td>250000000</td>\n",
       "      <td>303003568</td>\n",
       "      <td>1017003568</td>\n",
       "      <td>767003568</td>\n",
       "    </tr>\n",
       "    <tr>\n",
       "      <td>19</td>\n",
       "      <td>20</td>\n",
       "      <td>Jul 15, 2009</td>\n",
       "      <td>Harry Potter and the Half-Blood Prince</td>\n",
       "      <td>250000000</td>\n",
       "      <td>302089278</td>\n",
       "      <td>935213767</td>\n",
       "      <td>685213767</td>\n",
       "    </tr>\n",
       "    <tr>\n",
       "      <td>20</td>\n",
       "      <td>21</td>\n",
       "      <td>Dec 13, 2013</td>\n",
       "      <td>The Hobbit: The Desolation of Smaug</td>\n",
       "      <td>250000000</td>\n",
       "      <td>258366855</td>\n",
       "      <td>960366855</td>\n",
       "      <td>710366855</td>\n",
       "    </tr>\n",
       "    <tr>\n",
       "      <td>21</td>\n",
       "      <td>22</td>\n",
       "      <td>Dec 17, 2014</td>\n",
       "      <td>The Hobbit: The Battle of the Five Armies</td>\n",
       "      <td>250000000</td>\n",
       "      <td>255119788</td>\n",
       "      <td>945577621</td>\n",
       "      <td>695577621</td>\n",
       "    </tr>\n",
       "    <tr>\n",
       "      <td>22</td>\n",
       "      <td>23</td>\n",
       "      <td>Apr 14, 2017</td>\n",
       "      <td>The Fate of the Furious</td>\n",
       "      <td>250000000</td>\n",
       "      <td>225764765</td>\n",
       "      <td>1234846267</td>\n",
       "      <td>984846267</td>\n",
       "    </tr>\n",
       "    <tr>\n",
       "      <td>23</td>\n",
       "      <td>24</td>\n",
       "      <td>Jun 28, 2006</td>\n",
       "      <td>Superman Returns</td>\n",
       "      <td>232000000</td>\n",
       "      <td>200120000</td>\n",
       "      <td>374085065</td>\n",
       "      <td>142085065</td>\n",
       "    </tr>\n",
       "    <tr>\n",
       "      <td>24</td>\n",
       "      <td>25</td>\n",
       "      <td>May 26, 2017</td>\n",
       "      <td>Pirates of the Caribbean: Dead Men Tell No Tales</td>\n",
       "      <td>230000000</td>\n",
       "      <td>172558876</td>\n",
       "      <td>788241137</td>\n",
       "      <td>558241137</td>\n",
       "    </tr>\n",
       "    <tr>\n",
       "      <td>25</td>\n",
       "      <td>26</td>\n",
       "      <td>Nov 14, 2008</td>\n",
       "      <td>Quantum of Solace</td>\n",
       "      <td>230000000</td>\n",
       "      <td>169368427</td>\n",
       "      <td>591692078</td>\n",
       "      <td>361692078</td>\n",
       "    </tr>\n",
       "    <tr>\n",
       "      <td>26</td>\n",
       "      <td>27</td>\n",
       "      <td>May 4, 2012</td>\n",
       "      <td>The Avengers</td>\n",
       "      <td>225000000</td>\n",
       "      <td>623279547</td>\n",
       "      <td>1517935897</td>\n",
       "      <td>1292935897</td>\n",
       "    </tr>\n",
       "    <tr>\n",
       "      <td>27</td>\n",
       "      <td>28</td>\n",
       "      <td>Jul 7, 2006</td>\n",
       "      <td>Pirates of the Caribbean: Dead Manâs Chest</td>\n",
       "      <td>225000000</td>\n",
       "      <td>423315812</td>\n",
       "      <td>1066215812</td>\n",
       "      <td>841215812</td>\n",
       "    </tr>\n",
       "    <tr>\n",
       "      <td>28</td>\n",
       "      <td>29</td>\n",
       "      <td>Jun 14, 2013</td>\n",
       "      <td>Man of Steel</td>\n",
       "      <td>225000000</td>\n",
       "      <td>291045518</td>\n",
       "      <td>667999518</td>\n",
       "      <td>442999518</td>\n",
       "    </tr>\n",
       "    <tr>\n",
       "      <td>29</td>\n",
       "      <td>30</td>\n",
       "      <td>May 16, 2008</td>\n",
       "      <td>The Chronicles of Narnia: Prince Caspian</td>\n",
       "      <td>225000000</td>\n",
       "      <td>141621490</td>\n",
       "      <td>417341288</td>\n",
       "      <td>192341288</td>\n",
       "    </tr>\n",
       "    <tr>\n",
       "      <td>30</td>\n",
       "      <td>31</td>\n",
       "      <td>Jul 3, 2012</td>\n",
       "      <td>The Amazing Spider-Man</td>\n",
       "      <td>220000000</td>\n",
       "      <td>262030663</td>\n",
       "      <td>757890267</td>\n",
       "      <td>537890267</td>\n",
       "    </tr>\n",
       "    <tr>\n",
       "      <td>31</td>\n",
       "      <td>32</td>\n",
       "      <td>May 18, 2012</td>\n",
       "      <td>Battleship</td>\n",
       "      <td>220000000</td>\n",
       "      <td>65233400</td>\n",
       "      <td>313477717</td>\n",
       "      <td>93477717</td>\n",
       "    </tr>\n",
       "    <tr>\n",
       "      <td>32</td>\n",
       "      <td>33</td>\n",
       "      <td>Jun 21, 2017</td>\n",
       "      <td>Transformers: The Last Knight</td>\n",
       "      <td>217000000</td>\n",
       "      <td>130168683</td>\n",
       "      <td>602893340</td>\n",
       "      <td>385893340</td>\n",
       "    </tr>\n",
       "    <tr>\n",
       "      <td>33</td>\n",
       "      <td>34</td>\n",
       "      <td>Jun 12, 2015</td>\n",
       "      <td>Jurassic World</td>\n",
       "      <td>215000000</td>\n",
       "      <td>652270625</td>\n",
       "      <td>1648854864</td>\n",
       "      <td>1433854864</td>\n",
       "    </tr>\n",
       "    <tr>\n",
       "      <td>34</td>\n",
       "      <td>35</td>\n",
       "      <td>May 25, 2012</td>\n",
       "      <td>Men in Black 3</td>\n",
       "      <td>215000000</td>\n",
       "      <td>179020854</td>\n",
       "      <td>654213485</td>\n",
       "      <td>439213485</td>\n",
       "    </tr>\n",
       "    <tr>\n",
       "      <td>35</td>\n",
       "      <td>36</td>\n",
       "      <td>Jun 24, 2009</td>\n",
       "      <td>Transformers: Revenge of the Fallen</td>\n",
       "      <td>210000000</td>\n",
       "      <td>402111870</td>\n",
       "      <td>836519699</td>\n",
       "      <td>626519699</td>\n",
       "    </tr>\n",
       "    <tr>\n",
       "      <td>36</td>\n",
       "      <td>37</td>\n",
       "      <td>Jun 27, 2014</td>\n",
       "      <td>Transformers: Age of Extinction</td>\n",
       "      <td>210000000</td>\n",
       "      <td>245439076</td>\n",
       "      <td>1104039076</td>\n",
       "      <td>894039076</td>\n",
       "    </tr>\n",
       "    <tr>\n",
       "      <td>37</td>\n",
       "      <td>38</td>\n",
       "      <td>May 26, 2006</td>\n",
       "      <td>X-Men: The Last Stand</td>\n",
       "      <td>210000000</td>\n",
       "      <td>234362462</td>\n",
       "      <td>459260946</td>\n",
       "      <td>249260946</td>\n",
       "    </tr>\n",
       "    <tr>\n",
       "      <td>38</td>\n",
       "      <td>39</td>\n",
       "      <td>May 14, 2010</td>\n",
       "      <td>Robin Hood</td>\n",
       "      <td>210000000</td>\n",
       "      <td>105487148</td>\n",
       "      <td>322459006</td>\n",
       "      <td>112459006</td>\n",
       "    </tr>\n",
       "    <tr>\n",
       "      <td>39</td>\n",
       "      <td>40</td>\n",
       "      <td>Dec 14, 2005</td>\n",
       "      <td>King Kong</td>\n",
       "      <td>207000000</td>\n",
       "      <td>218080025</td>\n",
       "      <td>550517357</td>\n",
       "      <td>343517357</td>\n",
       "    </tr>\n",
       "    <tr>\n",
       "      <td>40</td>\n",
       "      <td>41</td>\n",
       "      <td>Dec 7, 2007</td>\n",
       "      <td>The Golden Compass</td>\n",
       "      <td>205000000</td>\n",
       "      <td>70107728</td>\n",
       "      <td>367262558</td>\n",
       "      <td>162262558</td>\n",
       "    </tr>\n",
       "    <tr>\n",
       "      <td>41</td>\n",
       "      <td>42</td>\n",
       "      <td>Feb 16, 2018</td>\n",
       "      <td>Black Panther</td>\n",
       "      <td>200000000</td>\n",
       "      <td>700059566</td>\n",
       "      <td>1348258224</td>\n",
       "      <td>1148258224</td>\n",
       "    </tr>\n",
       "    <tr>\n",
       "      <td>42</td>\n",
       "      <td>43</td>\n",
       "      <td>Dec 19, 1997</td>\n",
       "      <td>Titanic</td>\n",
       "      <td>200000000</td>\n",
       "      <td>659363944</td>\n",
       "      <td>2208208395</td>\n",
       "      <td>2008208395</td>\n",
       "    </tr>\n",
       "    <tr>\n",
       "      <td>43</td>\n",
       "      <td>44</td>\n",
       "      <td>Jun 15, 2018</td>\n",
       "      <td>Incredibles 2</td>\n",
       "      <td>200000000</td>\n",
       "      <td>608581744</td>\n",
       "      <td>1242520711</td>\n",
       "      <td>1042520711</td>\n",
       "    </tr>\n",
       "    <tr>\n",
       "      <td>44</td>\n",
       "      <td>45</td>\n",
       "      <td>Dec 16, 2016</td>\n",
       "      <td>Rogue One: A Star Wars Story</td>\n",
       "      <td>200000000</td>\n",
       "      <td>532177324</td>\n",
       "      <td>1049102856</td>\n",
       "      <td>849102856</td>\n",
       "    </tr>\n",
       "    <tr>\n",
       "      <td>45</td>\n",
       "      <td>46</td>\n",
       "      <td>Jun 17, 2016</td>\n",
       "      <td>Finding Dory</td>\n",
       "      <td>200000000</td>\n",
       "      <td>486295561</td>\n",
       "      <td>1021215193</td>\n",
       "      <td>821215193</td>\n",
       "    </tr>\n",
       "    <tr>\n",
       "      <td>46</td>\n",
       "      <td>47</td>\n",
       "      <td>Jun 18, 2010</td>\n",
       "      <td>Toy Story 3</td>\n",
       "      <td>200000000</td>\n",
       "      <td>415004880</td>\n",
       "      <td>1068879522</td>\n",
       "      <td>868879522</td>\n",
       "    </tr>\n",
       "    <tr>\n",
       "      <td>47</td>\n",
       "      <td>48</td>\n",
       "      <td>May 3, 2013</td>\n",
       "      <td>Iron Man 3</td>\n",
       "      <td>200000000</td>\n",
       "      <td>408992272</td>\n",
       "      <td>1215392272</td>\n",
       "      <td>1015392272</td>\n",
       "    </tr>\n",
       "    <tr>\n",
       "      <td>48</td>\n",
       "      <td>49</td>\n",
       "      <td>May 5, 2017</td>\n",
       "      <td>Guardians of the Galaxy Vol 2</td>\n",
       "      <td>200000000</td>\n",
       "      <td>389813101</td>\n",
       "      <td>862316233</td>\n",
       "      <td>662316233</td>\n",
       "    </tr>\n",
       "    <tr>\n",
       "      <td>49</td>\n",
       "      <td>50</td>\n",
       "      <td>Jun 30, 2004</td>\n",
       "      <td>Spider-Man 2</td>\n",
       "      <td>200000000</td>\n",
       "      <td>373524485</td>\n",
       "      <td>795110670</td>\n",
       "      <td>595110670</td>\n",
       "    </tr>\n",
       "  </tbody>\n",
       "</table>\n",
       "</div>"
      ],
      "text/plain": [
       "    id  release_date                                             movie  \\\n",
       "0    1  Dec 18, 2009                                            Avatar   \n",
       "1    2  May 20, 2011       Pirates of the Caribbean: On Stranger Tides   \n",
       "2    3   Jun 7, 2019                                      Dark Phoenix   \n",
       "3    4   May 1, 2015                           Avengers: Age of Ultron   \n",
       "4    5  Dec 15, 2017                 Star Wars Ep. VIII: The Last Jedi   \n",
       "5    6  Dec 18, 2015              Star Wars Ep. VII: The Force Awakens   \n",
       "6    7  Apr 27, 2018                            Avengers: Infinity War   \n",
       "7    8  May 24, 2007        Pirates of the Caribbean: At Worldâs End   \n",
       "8    9  Nov 17, 2017                                    Justice League   \n",
       "9   10   Nov 6, 2015                                           Spectre   \n",
       "10  11  Jul 20, 2012                             The Dark Knight Rises   \n",
       "11  12  May 25, 2018                           Solo: A Star Wars Story   \n",
       "12  13   Jul 2, 2013                                   The Lone Ranger   \n",
       "13  14   Mar 9, 2012                                       John Carter   \n",
       "14  15  Nov 24, 2010                                           Tangled   \n",
       "15  16   May 4, 2007                                      Spider-Man 3   \n",
       "16  17   May 6, 2016                        Captain America: Civil War   \n",
       "17  18  Mar 25, 2016                Batman v Superman: Dawn of Justice   \n",
       "18  19  Dec 14, 2012                 The Hobbit: An Unexpected Journey   \n",
       "19  20  Jul 15, 2009            Harry Potter and the Half-Blood Prince   \n",
       "20  21  Dec 13, 2013               The Hobbit: The Desolation of Smaug   \n",
       "21  22  Dec 17, 2014         The Hobbit: The Battle of the Five Armies   \n",
       "22  23  Apr 14, 2017                           The Fate of the Furious   \n",
       "23  24  Jun 28, 2006                                  Superman Returns   \n",
       "24  25  May 26, 2017  Pirates of the Caribbean: Dead Men Tell No Tales   \n",
       "25  26  Nov 14, 2008                                 Quantum of Solace   \n",
       "26  27   May 4, 2012                                      The Avengers   \n",
       "27  28   Jul 7, 2006      Pirates of the Caribbean: Dead Manâs Chest   \n",
       "28  29  Jun 14, 2013                                      Man of Steel   \n",
       "29  30  May 16, 2008          The Chronicles of Narnia: Prince Caspian   \n",
       "30  31   Jul 3, 2012                            The Amazing Spider-Man   \n",
       "31  32  May 18, 2012                                        Battleship   \n",
       "32  33  Jun 21, 2017                     Transformers: The Last Knight   \n",
       "33  34  Jun 12, 2015                                    Jurassic World   \n",
       "34  35  May 25, 2012                                    Men in Black 3   \n",
       "35  36  Jun 24, 2009               Transformers: Revenge of the Fallen   \n",
       "36  37  Jun 27, 2014                   Transformers: Age of Extinction   \n",
       "37  38  May 26, 2006                             X-Men: The Last Stand   \n",
       "38  39  May 14, 2010                                        Robin Hood   \n",
       "39  40  Dec 14, 2005                                         King Kong   \n",
       "40  41   Dec 7, 2007                                The Golden Compass   \n",
       "41  42  Feb 16, 2018                                     Black Panther   \n",
       "42  43  Dec 19, 1997                                           Titanic   \n",
       "43  44  Jun 15, 2018                                     Incredibles 2   \n",
       "44  45  Dec 16, 2016                      Rogue One: A Star Wars Story   \n",
       "45  46  Jun 17, 2016                                      Finding Dory   \n",
       "46  47  Jun 18, 2010                                       Toy Story 3   \n",
       "47  48   May 3, 2013                                        Iron Man 3   \n",
       "48  49   May 5, 2017                     Guardians of the Galaxy Vol 2   \n",
       "49  50  Jun 30, 2004                                      Spider-Man 2   \n",
       "\n",
       "    production_budget  domestic_gross  worldwide_gross      profit  \n",
       "0           425000000       760507625       2776345279  2351345279  \n",
       "1           410600000       241063875       1045663875   635063875  \n",
       "2           350000000        42762350        149762350  -200237650  \n",
       "3           330600000       459005868       1403013963  1072413963  \n",
       "4           317000000       620181382       1316721747   999721747  \n",
       "5           306000000       936662225       2053311220  1747311220  \n",
       "6           300000000       678815482       2048134200  1748134200  \n",
       "7           300000000       309420425        963420425   663420425  \n",
       "8           300000000       229024295        655945209   355945209  \n",
       "9           300000000       200074175        879620923   579620923  \n",
       "10          275000000       448139099       1084439099   809439099  \n",
       "11          275000000       213767512        393151347   118151347  \n",
       "12          275000000        89302115        260002115   -14997885  \n",
       "13          275000000        73058679        282778100     7778100  \n",
       "14          260000000       200821936        586477240   326477240  \n",
       "15          258000000       336530303        894860230   636860230  \n",
       "16          250000000       408084349       1140069413   890069413  \n",
       "17          250000000       330360194        867500281   617500281  \n",
       "18          250000000       303003568       1017003568   767003568  \n",
       "19          250000000       302089278        935213767   685213767  \n",
       "20          250000000       258366855        960366855   710366855  \n",
       "21          250000000       255119788        945577621   695577621  \n",
       "22          250000000       225764765       1234846267   984846267  \n",
       "23          232000000       200120000        374085065   142085065  \n",
       "24          230000000       172558876        788241137   558241137  \n",
       "25          230000000       169368427        591692078   361692078  \n",
       "26          225000000       623279547       1517935897  1292935897  \n",
       "27          225000000       423315812       1066215812   841215812  \n",
       "28          225000000       291045518        667999518   442999518  \n",
       "29          225000000       141621490        417341288   192341288  \n",
       "30          220000000       262030663        757890267   537890267  \n",
       "31          220000000        65233400        313477717    93477717  \n",
       "32          217000000       130168683        602893340   385893340  \n",
       "33          215000000       652270625       1648854864  1433854864  \n",
       "34          215000000       179020854        654213485   439213485  \n",
       "35          210000000       402111870        836519699   626519699  \n",
       "36          210000000       245439076       1104039076   894039076  \n",
       "37          210000000       234362462        459260946   249260946  \n",
       "38          210000000       105487148        322459006   112459006  \n",
       "39          207000000       218080025        550517357   343517357  \n",
       "40          205000000        70107728        367262558   162262558  \n",
       "41          200000000       700059566       1348258224  1148258224  \n",
       "42          200000000       659363944       2208208395  2008208395  \n",
       "43          200000000       608581744       1242520711  1042520711  \n",
       "44          200000000       532177324       1049102856   849102856  \n",
       "45          200000000       486295561       1021215193   821215193  \n",
       "46          200000000       415004880       1068879522   868879522  \n",
       "47          200000000       408992272       1215392272  1015392272  \n",
       "48          200000000       389813101        862316233   662316233  \n",
       "49          200000000       373524485        795110670   595110670  "
      ]
     },
     "execution_count": 73,
     "metadata": {},
     "output_type": "execute_result"
    }
   ],
   "source": [
    "tn_df10.head(50)"
   ]
  },
  {
   "cell_type": "markdown",
   "metadata": {},
   "source": [
    "From the table above, we are looking for similar words that would tie series together into groups Idealy there would be some sort of indetifer we could group by and automate this string search.\n",
    "\n",
    "Below, to circumvent this gap in the data, we select a grouping of words that would be contained in sequel series, and insert them into a new dataframe that is specific to that sequel group.\n",
    "\n",
    "From each sequel group, we take the sum to get the total profit for the sequel group."
   ]
  },
  {
   "cell_type": "code",
   "execution_count": 74,
   "metadata": {},
   "outputs": [],
   "source": [
    "pirates = tn_df10[tn_df10['movie'].str.contains('Pirates of the')]\n",
    "pirates_profit = pirates['profit'].sum()\n",
    "\n",
    "avengers = tn_df10[tn_df10['movie'].str.contains('Avengers')]\n",
    "avengers_profit = avengers['profit'].sum()\n",
    "\n",
    "star_wars = tn_df10[tn_df10['movie'].str.contains('Star Wars')]\n",
    "star_wars_profit = star_wars['profit'].sum()\n",
    "\n",
    "transformers = tn_df10[tn_df10['movie'].str.contains('Transformers')]\n",
    "transformers_profit = transformers['profit'].sum()\n",
    "\n",
    "x_men = tn_df10[tn_df10['movie'].str.contains('X-Men')]\n",
    "x_men_profit = x_men['profit'].sum()\n",
    "\n",
    "harry_potters = tn_df10[tn_df10['movie'].str.contains('Harry Potter')]\n",
    "harry_potters_profit = harry_potters['profit'].sum()\n",
    "\n",
    "fast_furious = tn_df10[tn_df10['movie'].str.contains('Furious')]\n",
    "fast_furious_profit = fast_furious['profit'].sum()\n",
    "\n",
    "jurassics = tn_df10[tn_df10['movie'].str.contains('Jurassic')]\n",
    "jurassics_profit = jurassics['profit'].sum()"
   ]
  },
  {
   "cell_type": "markdown",
   "metadata": {},
   "source": [
    "Here we are gouping the values from above as key-value pairs, where the key is the sequel grouping and the value is the total profit the sequel group.\n",
    "This will help in converting to dataframe for further analysis."
   ]
  },
  {
   "cell_type": "code",
   "execution_count": 75,
   "metadata": {},
   "outputs": [],
   "source": [
    "profits = {'Jurassic Park': jurassics_profit, 'Fast and the Furious': fast_furious_profit, 'Harry Potter': harry_potters_profit, 'Pirates of the Carribean': pirates_profit, 'Avengers': avengers_profit, 'Starwars': star_wars_profit, 'Transformers': transformers_profit, 'X Men': x_men_profit}"
   ]
  },
  {
   "cell_type": "markdown",
   "metadata": {},
   "source": [
    "Converting the dictionary into a dataframe."
   ]
  },
  {
   "cell_type": "code",
   "execution_count": 77,
   "metadata": {},
   "outputs": [],
   "source": [
    "sequel_profits = pd.DataFrame(list(profits.items()), columns=['sequel_title', 'total_profit'])"
   ]
  },
  {
   "cell_type": "markdown",
   "metadata": {},
   "source": [
    "Below, we sort based on total profit.\n",
    "\n",
    "We reset the index, for ease of refrence later.\n",
    "\n",
    "We created a new column called \"total profit billions\" which is total profit devided by a billion. This will make it easier to interprete for the audience."
   ]
  },
  {
   "cell_type": "code",
   "execution_count": 78,
   "metadata": {},
   "outputs": [],
   "source": [
    "sequel_profits.sort_values('total_profit', ascending = False, inplace = True)\n",
    "sequel_profits.reset_index(inplace = True)\n",
    "sequel_profits['Total_profit_billions'] = (sequel_profits['total_profit'] / 1000000000)"
   ]
  },
  {
   "cell_type": "code",
   "execution_count": 79,
   "metadata": {},
   "outputs": [
    {
     "data": {
      "text/html": [
       "<div>\n",
       "<style scoped>\n",
       "    .dataframe tbody tr th:only-of-type {\n",
       "        vertical-align: middle;\n",
       "    }\n",
       "\n",
       "    .dataframe tbody tr th {\n",
       "        vertical-align: top;\n",
       "    }\n",
       "\n",
       "    .dataframe thead th {\n",
       "        text-align: right;\n",
       "    }\n",
       "</style>\n",
       "<table border=\"1\" class=\"dataframe\">\n",
       "  <thead>\n",
       "    <tr style=\"text-align: right;\">\n",
       "      <th></th>\n",
       "      <th>index</th>\n",
       "      <th>sequel_title</th>\n",
       "      <th>total_profit</th>\n",
       "      <th>Total_profit_billions</th>\n",
       "    </tr>\n",
       "  </thead>\n",
       "  <tbody>\n",
       "    <tr>\n",
       "      <td>0</td>\n",
       "      <td>5</td>\n",
       "      <td>Starwars</td>\n",
       "      <td>7789186202</td>\n",
       "      <td>7.789186</td>\n",
       "    </tr>\n",
       "    <tr>\n",
       "      <td>1</td>\n",
       "      <td>2</td>\n",
       "      <td>Harry Potter</td>\n",
       "      <td>6573694807</td>\n",
       "      <td>6.573695</td>\n",
       "    </tr>\n",
       "    <tr>\n",
       "      <td>2</td>\n",
       "      <td>0</td>\n",
       "      <td>Jurassic Park</td>\n",
       "      <td>4361979246</td>\n",
       "      <td>4.361979</td>\n",
       "    </tr>\n",
       "    <tr>\n",
       "      <td>3</td>\n",
       "      <td>4</td>\n",
       "      <td>Avengers</td>\n",
       "      <td>4102069476</td>\n",
       "      <td>4.102069</td>\n",
       "    </tr>\n",
       "    <tr>\n",
       "      <td>4</td>\n",
       "      <td>1</td>\n",
       "      <td>Fast and the Furious</td>\n",
       "      <td>3622650892</td>\n",
       "      <td>3.622651</td>\n",
       "    </tr>\n",
       "    <tr>\n",
       "      <td>5</td>\n",
       "      <td>6</td>\n",
       "      <td>Transformers</td>\n",
       "      <td>3392515250</td>\n",
       "      <td>3.392515</td>\n",
       "    </tr>\n",
       "    <tr>\n",
       "      <td>6</td>\n",
       "      <td>3</td>\n",
       "      <td>Pirates of the Carribean</td>\n",
       "      <td>3192895352</td>\n",
       "      <td>3.192895</td>\n",
       "    </tr>\n",
       "    <tr>\n",
       "      <td>7</td>\n",
       "      <td>7</td>\n",
       "      <td>X Men</td>\n",
       "      <td>2085643235</td>\n",
       "      <td>2.085643</td>\n",
       "    </tr>\n",
       "  </tbody>\n",
       "</table>\n",
       "</div>"
      ],
      "text/plain": [
       "   index              sequel_title  total_profit  Total_profit_billions\n",
       "0      5                  Starwars    7789186202               7.789186\n",
       "1      2              Harry Potter    6573694807               6.573695\n",
       "2      0             Jurassic Park    4361979246               4.361979\n",
       "3      4                  Avengers    4102069476               4.102069\n",
       "4      1      Fast and the Furious    3622650892               3.622651\n",
       "5      6              Transformers    3392515250               3.392515\n",
       "6      3  Pirates of the Carribean    3192895352               3.192895\n",
       "7      7                     X Men    2085643235               2.085643"
      ]
     },
     "execution_count": 79,
     "metadata": {},
     "output_type": "execute_result"
    }
   ],
   "source": [
    "sequel_profits"
   ]
  },
  {
   "cell_type": "markdown",
   "metadata": {},
   "source": [
    "Lastly, we are plotting the sequel groupings against the total profit billions."
   ]
  },
  {
   "cell_type": "code",
   "execution_count": 81,
   "metadata": {},
   "outputs": [
    {
     "data": {
      "image/png": "[encoded data removed]",
      "text/plain": [
       "<Figure size 432x288 with 1 Axes>"
      ]
     },
     "metadata": {
      "needs_background": "light"
     },
     "output_type": "display_data"
    }
   ],
   "source": [
    "sequels_plt = sns.barplot(x= sequel_profits['sequel_title'], y= sequel_profits['Total_profit_billions'], color= 'blue')\n",
    "sequels_plt.set_xticklabels(sequels_plt.get_xticklabels(), rotation=45, ha='right');\n",
    "sequels_plt.set(xlabel = 'Sequel Root Title', ylabel = 'Total Profit in Billions')\n",
    "plt.title('Sequels vs Profits');"
   ]
  },
  {
   "cell_type": "markdown",
   "metadata": {},
   "source": [
    "### As a note - Each of these have significant monatary exposure outside of box office in the form of merchandise, theme parks, and spin-off movies. Upon further, crude, investigation, the profit from the entire sequel grouping is a small fraction of the profit attributed to merchandise/marketing. One hypothesis to be evaluated further is how the continuous exposure to movies in a sequel, affects the merchandise sales as compared to stand-alone movies."
   ]
  },
  {
   "cell_type": "code",
   "execution_count": null,
   "metadata": {},
   "outputs": [],
   "source": []
  },
  {
   "cell_type": "markdown",
   "metadata": {},
   "source": [
    "# How do Genres Affect Movie Gross?"
   ]
  },
  {
   "cell_type": "code",
   "execution_count": 1,
   "metadata": {},
   "outputs": [],
   "source": [
    "import pandas as pd\n",
    "import numpy as np\n",
    "import matplotlib.pyplot as plt\n",
    "import seaborn as sns\n",
    "%matplotlib inline"
   ]
  },
  {
   "cell_type": "markdown",
   "metadata": {},
   "source": [
    "Import python libraries to excute code"
   ]
  },
  {
   "cell_type": "markdown",
   "metadata": {},
   "source": [
    "EDA: Explore 11 Datasets "
   ]
  },
  {
   "cell_type": "code",
   "execution_count": 2,
   "metadata": {},
   "outputs": [
    {
     "data": {
      "text/html": [
       "<div>\n",
       "<style scoped>\n",
       "    .dataframe tbody tr th:only-of-type {\n",
       "        vertical-align: middle;\n",
       "    }\n",
       "\n",
       "    .dataframe tbody tr th {\n",
       "        vertical-align: top;\n",
       "    }\n",
       "\n",
       "    .dataframe thead th {\n",
       "        text-align: right;\n",
       "    }\n",
       "</style>\n",
       "<table border=\"1\" class=\"dataframe\">\n",
       "  <thead>\n",
       "    <tr style=\"text-align: right;\">\n",
       "      <th></th>\n",
       "      <th>title</th>\n",
       "      <th>studio</th>\n",
       "      <th>domestic_gross</th>\n",
       "      <th>foreign_gross</th>\n",
       "      <th>year</th>\n",
       "    </tr>\n",
       "  </thead>\n",
       "  <tbody>\n",
       "    <tr>\n",
       "      <th>0</th>\n",
       "      <td>Toy Story 3</td>\n",
       "      <td>BV</td>\n",
       "      <td>415000000.0</td>\n",
       "      <td>652000000</td>\n",
       "      <td>2010</td>\n",
       "    </tr>\n",
       "    <tr>\n",
       "      <th>1</th>\n",
       "      <td>Alice in Wonderland (2010)</td>\n",
       "      <td>BV</td>\n",
       "      <td>334200000.0</td>\n",
       "      <td>691300000</td>\n",
       "      <td>2010</td>\n",
       "    </tr>\n",
       "    <tr>\n",
       "      <th>2</th>\n",
       "      <td>Harry Potter and the Deathly Hallows Part 1</td>\n",
       "      <td>WB</td>\n",
       "      <td>296000000.0</td>\n",
       "      <td>664300000</td>\n",
       "      <td>2010</td>\n",
       "    </tr>\n",
       "    <tr>\n",
       "      <th>3</th>\n",
       "      <td>Inception</td>\n",
       "      <td>WB</td>\n",
       "      <td>292600000.0</td>\n",
       "      <td>535700000</td>\n",
       "      <td>2010</td>\n",
       "    </tr>\n",
       "    <tr>\n",
       "      <th>4</th>\n",
       "      <td>Shrek Forever After</td>\n",
       "      <td>P/DW</td>\n",
       "      <td>238700000.0</td>\n",
       "      <td>513900000</td>\n",
       "      <td>2010</td>\n",
       "    </tr>\n",
       "  </tbody>\n",
       "</table>\n",
       "</div>"
      ],
      "text/plain": [
       "                                         title studio  domestic_gross  \\\n",
       "0                                  Toy Story 3     BV     415000000.0   \n",
       "1                   Alice in Wonderland (2010)     BV     334200000.0   \n",
       "2  Harry Potter and the Deathly Hallows Part 1     WB     296000000.0   \n",
       "3                                    Inception     WB     292600000.0   \n",
       "4                          Shrek Forever After   P/DW     238700000.0   \n",
       "\n",
       "  foreign_gross  year  \n",
       "0     652000000  2010  \n",
       "1     691300000  2010  \n",
       "2     664300000  2010  \n",
       "3     535700000  2010  \n",
       "4     513900000  2010  "
      ]
     },
     "execution_count": 2,
     "metadata": {},
     "output_type": "execute_result"
    }
   ],
   "source": [
    "bom_df = pd.read_csv('Data/bom.movie_gross.csv')\n",
    "bom_df.head()"
   ]
  },
  {
   "cell_type": "code",
   "execution_count": 3,
   "metadata": {},
   "outputs": [
    {
     "data": {
      "text/html": [
       "<div>\n",
       "<style scoped>\n",
       "    .dataframe tbody tr th:only-of-type {\n",
       "        vertical-align: middle;\n",
       "    }\n",
       "\n",
       "    .dataframe tbody tr th {\n",
       "        vertical-align: top;\n",
       "    }\n",
       "\n",
       "    .dataframe thead th {\n",
       "        text-align: right;\n",
       "    }\n",
       "</style>\n",
       "<table border=\"1\" class=\"dataframe\">\n",
       "  <thead>\n",
       "    <tr style=\"text-align: right;\">\n",
       "      <th></th>\n",
       "      <th>id</th>\n",
       "      <th>release_date</th>\n",
       "      <th>movie</th>\n",
       "      <th>production_budget</th>\n",
       "      <th>domestic_gross</th>\n",
       "      <th>worldwide_gross</th>\n",
       "    </tr>\n",
       "  </thead>\n",
       "  <tbody>\n",
       "    <tr>\n",
       "      <th>0</th>\n",
       "      <td>1</td>\n",
       "      <td>Dec 18, 2009</td>\n",
       "      <td>Avatar</td>\n",
       "      <td>$425,000,000</td>\n",
       "      <td>$760,507,625</td>\n",
       "      <td>$2,776,345,279</td>\n",
       "    </tr>\n",
       "    <tr>\n",
       "      <th>1</th>\n",
       "      <td>2</td>\n",
       "      <td>May 20, 2011</td>\n",
       "      <td>Pirates of the Caribbean: On Stranger Tides</td>\n",
       "      <td>$410,600,000</td>\n",
       "      <td>$241,063,875</td>\n",
       "      <td>$1,045,663,875</td>\n",
       "    </tr>\n",
       "    <tr>\n",
       "      <th>2</th>\n",
       "      <td>3</td>\n",
       "      <td>Jun 7, 2019</td>\n",
       "      <td>Dark Phoenix</td>\n",
       "      <td>$350,000,000</td>\n",
       "      <td>$42,762,350</td>\n",
       "      <td>$149,762,350</td>\n",
       "    </tr>\n",
       "    <tr>\n",
       "      <th>3</th>\n",
       "      <td>4</td>\n",
       "      <td>May 1, 2015</td>\n",
       "      <td>Avengers: Age of Ultron</td>\n",
       "      <td>$330,600,000</td>\n",
       "      <td>$459,005,868</td>\n",
       "      <td>$1,403,013,963</td>\n",
       "    </tr>\n",
       "    <tr>\n",
       "      <th>4</th>\n",
       "      <td>5</td>\n",
       "      <td>Dec 15, 2017</td>\n",
       "      <td>Star Wars Ep. VIII: The Last Jedi</td>\n",
       "      <td>$317,000,000</td>\n",
       "      <td>$620,181,382</td>\n",
       "      <td>$1,316,721,747</td>\n",
       "    </tr>\n",
       "  </tbody>\n",
       "</table>\n",
       "</div>"
      ],
      "text/plain": [
       "   id  release_date                                        movie  \\\n",
       "0   1  Dec 18, 2009                                       Avatar   \n",
       "1   2  May 20, 2011  Pirates of the Caribbean: On Stranger Tides   \n",
       "2   3   Jun 7, 2019                                 Dark Phoenix   \n",
       "3   4   May 1, 2015                      Avengers: Age of Ultron   \n",
       "4   5  Dec 15, 2017            Star Wars Ep. VIII: The Last Jedi   \n",
       "\n",
       "  production_budget domestic_gross worldwide_gross  \n",
       "0      $425,000,000   $760,507,625  $2,776,345,279  \n",
       "1      $410,600,000   $241,063,875  $1,045,663,875  \n",
       "2      $350,000,000    $42,762,350    $149,762,350  \n",
       "3      $330,600,000   $459,005,868  $1,403,013,963  \n",
       "4      $317,000,000   $620,181,382  $1,316,721,747  "
      ]
     },
     "execution_count": 3,
     "metadata": {},
     "output_type": "execute_result"
    }
   ],
   "source": [
    "import pandas as pd\n",
    "movie_budgetdf = pd.read_csv('Data/tn.movie_budgets.csv')\n",
    "movie_budgetdf.head()"
   ]
  },
  {
   "cell_type": "markdown",
   "metadata": {},
   "source": [
    "I wanted to get the count of the genres in the DataFrame. I called the Data Frame and indexed the column 'genres', and  used the .value_counts() function to get the count of the genres."
   ]
  },
  {
   "cell_type": "code",
   "execution_count": 4,
   "metadata": {},
   "outputs": [
    {
     "data": {
      "text/plain": [
       "Documentary     32185\n",
       "Drama           21486\n",
       "Comedy           9177\n",
       "Horror           4372\n",
       "Comedy,Drama     3519\n",
       "Name: genres, dtype: int64"
      ]
     },
     "execution_count": 4,
     "metadata": {},
     "output_type": "execute_result"
    }
   ],
   "source": [
    "# ratings and reviews\n",
    "#only want movies from 2009-2019\n",
    "title_basicsdf = pd.read_csv('Data/imdb.title.basics.csv')\n",
    "\n",
    "title_basicsdf[\"genres\"].value_counts().head()\n"
   ]
  },
  {
   "cell_type": "markdown",
   "metadata": {},
   "source": [
    "I called this Data Frame becuase I want the domestic_gross and foreign_gross columns."
   ]
  },
  {
   "cell_type": "code",
   "execution_count": 5,
   "metadata": {},
   "outputs": [
    {
     "data": {
      "text/html": [
       "<div>\n",
       "<style scoped>\n",
       "    .dataframe tbody tr th:only-of-type {\n",
       "        vertical-align: middle;\n",
       "    }\n",
       "\n",
       "    .dataframe tbody tr th {\n",
       "        vertical-align: top;\n",
       "    }\n",
       "\n",
       "    .dataframe thead th {\n",
       "        text-align: right;\n",
       "    }\n",
       "</style>\n",
       "<table border=\"1\" class=\"dataframe\">\n",
       "  <thead>\n",
       "    <tr style=\"text-align: right;\">\n",
       "      <th></th>\n",
       "      <th>title</th>\n",
       "      <th>studio</th>\n",
       "      <th>domestic_gross</th>\n",
       "      <th>foreign_gross</th>\n",
       "      <th>year</th>\n",
       "    </tr>\n",
       "  </thead>\n",
       "  <tbody>\n",
       "    <tr>\n",
       "      <th>0</th>\n",
       "      <td>Toy Story 3</td>\n",
       "      <td>BV</td>\n",
       "      <td>415000000.0</td>\n",
       "      <td>652000000</td>\n",
       "      <td>2010</td>\n",
       "    </tr>\n",
       "    <tr>\n",
       "      <th>1</th>\n",
       "      <td>Alice in Wonderland (2010)</td>\n",
       "      <td>BV</td>\n",
       "      <td>334200000.0</td>\n",
       "      <td>691300000</td>\n",
       "      <td>2010</td>\n",
       "    </tr>\n",
       "    <tr>\n",
       "      <th>2</th>\n",
       "      <td>Harry Potter and the Deathly Hallows Part 1</td>\n",
       "      <td>WB</td>\n",
       "      <td>296000000.0</td>\n",
       "      <td>664300000</td>\n",
       "      <td>2010</td>\n",
       "    </tr>\n",
       "    <tr>\n",
       "      <th>3</th>\n",
       "      <td>Inception</td>\n",
       "      <td>WB</td>\n",
       "      <td>292600000.0</td>\n",
       "      <td>535700000</td>\n",
       "      <td>2010</td>\n",
       "    </tr>\n",
       "    <tr>\n",
       "      <th>4</th>\n",
       "      <td>Shrek Forever After</td>\n",
       "      <td>P/DW</td>\n",
       "      <td>238700000.0</td>\n",
       "      <td>513900000</td>\n",
       "      <td>2010</td>\n",
       "    </tr>\n",
       "  </tbody>\n",
       "</table>\n",
       "</div>"
      ],
      "text/plain": [
       "                                         title studio  domestic_gross  \\\n",
       "0                                  Toy Story 3     BV     415000000.0   \n",
       "1                   Alice in Wonderland (2010)     BV     334200000.0   \n",
       "2  Harry Potter and the Deathly Hallows Part 1     WB     296000000.0   \n",
       "3                                    Inception     WB     292600000.0   \n",
       "4                          Shrek Forever After   P/DW     238700000.0   \n",
       "\n",
       "  foreign_gross  year  \n",
       "0     652000000  2010  \n",
       "1     691300000  2010  \n",
       "2     664300000  2010  \n",
       "3     535700000  2010  \n",
       "4     513900000  2010  "
      ]
     },
     "execution_count": 5,
     "metadata": {},
     "output_type": "execute_result"
    }
   ],
   "source": [
    "bom_df = pd.read_csv('Data/bom.movie_gross.csv')\n",
    "bom_df.head()"
   ]
  },
  {
   "cell_type": "markdown",
   "metadata": {},
   "source": [
    "I want to use this Data Frame, but it has too many NaN values.\n",
    "The way I can fix this is by replacing all the NaN with the mean of the box office"
   ]
  },
  {
   "cell_type": "code",
   "execution_count": 6,
   "metadata": {},
   "outputs": [
    {
     "data": {
      "text/plain": [
       "<bound method Series.mean of 0              NaN\n",
       "1          600,000\n",
       "2              NaN\n",
       "3              NaN\n",
       "4              NaN\n",
       "5              NaN\n",
       "6       41,032,915\n",
       "7          224,114\n",
       "8          134,904\n",
       "9              NaN\n",
       "10             NaN\n",
       "11             NaN\n",
       "12             NaN\n",
       "13             NaN\n",
       "14             NaN\n",
       "15       1,039,869\n",
       "16      99,165,609\n",
       "17             NaN\n",
       "18      20,518,224\n",
       "19       1,971,135\n",
       "20             NaN\n",
       "21             NaN\n",
       "22             NaN\n",
       "23             NaN\n",
       "24             NaN\n",
       "25             NaN\n",
       "26             NaN\n",
       "27             NaN\n",
       "28         312,136\n",
       "29         201,010\n",
       "           ...    \n",
       "1530    72,700,000\n",
       "1531           NaN\n",
       "1532           NaN\n",
       "1533           NaN\n",
       "1534           NaN\n",
       "1535           NaN\n",
       "1536       581,813\n",
       "1537     1,320,005\n",
       "1538           NaN\n",
       "1539           NaN\n",
       "1540           NaN\n",
       "1541    25,335,935\n",
       "1542     1,416,189\n",
       "1543           NaN\n",
       "1544           NaN\n",
       "1545        59,371\n",
       "1546       794,306\n",
       "1547           NaN\n",
       "1548           NaN\n",
       "1549           NaN\n",
       "1550           NaN\n",
       "1551           NaN\n",
       "1552           NaN\n",
       "1553           NaN\n",
       "1554           NaN\n",
       "1555    33,886,034\n",
       "1556           NaN\n",
       "1557           NaN\n",
       "1558           NaN\n",
       "1559           NaN\n",
       "Name: box_office, Length: 1560, dtype: object>"
      ]
     },
     "execution_count": 6,
     "metadata": {},
     "output_type": "execute_result"
    }
   ],
   "source": [
    "movie_infodf = pd.read_csv('Data/rt.movie_info.tsv', encoding='Windows-1254', delimiter = '\\t')\n",
    "movie_infodf['box_office'].mean"
   ]
  },
  {
   "cell_type": "code",
   "execution_count": 7,
   "metadata": {},
   "outputs": [
    {
     "data": {
      "text/plain": [
       "(<pandas.core.groupby.generic.DataFrameGroupBy object at 0x1a163569e8>, None)"
      ]
     },
     "execution_count": 7,
     "metadata": {},
     "output_type": "execute_result"
    }
   ],
   "source": [
    "movie_infodf.groupby(['genre']),['box_office'].sort(reverse = False)"
   ]
  },
  {
   "cell_type": "markdown",
   "metadata": {},
   "source": [
    "I merged 2 Data Frames together using the .join() method. I did this because I wanted to put all the Data I need from the 2 Data Frames and put it into 1 Data Frame"
   ]
  },
  {
   "cell_type": "code",
   "execution_count": 8,
   "metadata": {},
   "outputs": [
    {
     "data": {
      "text/html": [
       "<div>\n",
       "<style scoped>\n",
       "    .dataframe tbody tr th:only-of-type {\n",
       "        vertical-align: middle;\n",
       "    }\n",
       "\n",
       "    .dataframe tbody tr th {\n",
       "        vertical-align: top;\n",
       "    }\n",
       "\n",
       "    .dataframe thead th {\n",
       "        text-align: right;\n",
       "    }\n",
       "</style>\n",
       "<table border=\"1\" class=\"dataframe\">\n",
       "  <thead>\n",
       "    <tr style=\"text-align: right;\">\n",
       "      <th></th>\n",
       "      <th>tconst</th>\n",
       "      <th>primary_title</th>\n",
       "      <th>original_title</th>\n",
       "      <th>start_year</th>\n",
       "      <th>runtime_minutes</th>\n",
       "      <th>genres</th>\n",
       "      <th>id</th>\n",
       "      <th>release_date</th>\n",
       "      <th>movie</th>\n",
       "      <th>production_budget</th>\n",
       "      <th>domestic_gross</th>\n",
       "      <th>worldwide_gross</th>\n",
       "    </tr>\n",
       "  </thead>\n",
       "  <tbody>\n",
       "    <tr>\n",
       "      <th>0</th>\n",
       "      <td>tt0063540</td>\n",
       "      <td>Sunghursh</td>\n",
       "      <td>Sunghursh</td>\n",
       "      <td>2013</td>\n",
       "      <td>175.0</td>\n",
       "      <td>Action,Crime,Drama</td>\n",
       "      <td>1.0</td>\n",
       "      <td>Dec 18, 2009</td>\n",
       "      <td>Avatar</td>\n",
       "      <td>$425,000,000</td>\n",
       "      <td>$760,507,625</td>\n",
       "      <td>$2,776,345,279</td>\n",
       "    </tr>\n",
       "    <tr>\n",
       "      <th>1</th>\n",
       "      <td>tt0066787</td>\n",
       "      <td>One Day Before the Rainy Season</td>\n",
       "      <td>Ashad Ka Ek Din</td>\n",
       "      <td>2019</td>\n",
       "      <td>114.0</td>\n",
       "      <td>Biography,Drama</td>\n",
       "      <td>2.0</td>\n",
       "      <td>May 20, 2011</td>\n",
       "      <td>Pirates of the Caribbean: On Stranger Tides</td>\n",
       "      <td>$410,600,000</td>\n",
       "      <td>$241,063,875</td>\n",
       "      <td>$1,045,663,875</td>\n",
       "    </tr>\n",
       "    <tr>\n",
       "      <th>2</th>\n",
       "      <td>tt0069049</td>\n",
       "      <td>The Other Side of the Wind</td>\n",
       "      <td>The Other Side of the Wind</td>\n",
       "      <td>2018</td>\n",
       "      <td>122.0</td>\n",
       "      <td>Drama</td>\n",
       "      <td>3.0</td>\n",
       "      <td>Jun 7, 2019</td>\n",
       "      <td>Dark Phoenix</td>\n",
       "      <td>$350,000,000</td>\n",
       "      <td>$42,762,350</td>\n",
       "      <td>$149,762,350</td>\n",
       "    </tr>\n",
       "    <tr>\n",
       "      <th>3</th>\n",
       "      <td>tt0069204</td>\n",
       "      <td>Sabse Bada Sukh</td>\n",
       "      <td>Sabse Bada Sukh</td>\n",
       "      <td>2018</td>\n",
       "      <td>NaN</td>\n",
       "      <td>Comedy,Drama</td>\n",
       "      <td>4.0</td>\n",
       "      <td>May 1, 2015</td>\n",
       "      <td>Avengers: Age of Ultron</td>\n",
       "      <td>$330,600,000</td>\n",
       "      <td>$459,005,868</td>\n",
       "      <td>$1,403,013,963</td>\n",
       "    </tr>\n",
       "    <tr>\n",
       "      <th>4</th>\n",
       "      <td>tt0100275</td>\n",
       "      <td>The Wandering Soap Opera</td>\n",
       "      <td>La Telenovela Errante</td>\n",
       "      <td>2017</td>\n",
       "      <td>80.0</td>\n",
       "      <td>Comedy,Drama,Fantasy</td>\n",
       "      <td>5.0</td>\n",
       "      <td>Dec 15, 2017</td>\n",
       "      <td>Star Wars Ep. VIII: The Last Jedi</td>\n",
       "      <td>$317,000,000</td>\n",
       "      <td>$620,181,382</td>\n",
       "      <td>$1,316,721,747</td>\n",
       "    </tr>\n",
       "  </tbody>\n",
       "</table>\n",
       "</div>"
      ],
      "text/plain": [
       "      tconst                    primary_title              original_title  \\\n",
       "0  tt0063540                        Sunghursh                   Sunghursh   \n",
       "1  tt0066787  One Day Before the Rainy Season             Ashad Ka Ek Din   \n",
       "2  tt0069049       The Other Side of the Wind  The Other Side of the Wind   \n",
       "3  tt0069204                  Sabse Bada Sukh             Sabse Bada Sukh   \n",
       "4  tt0100275         The Wandering Soap Opera       La Telenovela Errante   \n",
       "\n",
       "   start_year  runtime_minutes                genres   id  release_date  \\\n",
       "0        2013            175.0    Action,Crime,Drama  1.0  Dec 18, 2009   \n",
       "1        2019            114.0       Biography,Drama  2.0  May 20, 2011   \n",
       "2        2018            122.0                 Drama  3.0   Jun 7, 2019   \n",
       "3        2018              NaN          Comedy,Drama  4.0   May 1, 2015   \n",
       "4        2017             80.0  Comedy,Drama,Fantasy  5.0  Dec 15, 2017   \n",
       "\n",
       "                                         movie production_budget  \\\n",
       "0                                       Avatar      $425,000,000   \n",
       "1  Pirates of the Caribbean: On Stranger Tides      $410,600,000   \n",
       "2                                 Dark Phoenix      $350,000,000   \n",
       "3                      Avengers: Age of Ultron      $330,600,000   \n",
       "4            Star Wars Ep. VIII: The Last Jedi      $317,000,000   \n",
       "\n",
       "  domestic_gross worldwide_gross  \n",
       "0   $760,507,625  $2,776,345,279  \n",
       "1   $241,063,875  $1,045,663,875  \n",
       "2    $42,762,350    $149,762,350  \n",
       "3   $459,005,868  $1,403,013,963  \n",
       "4   $620,181,382  $1,316,721,747  "
      ]
     },
     "execution_count": 8,
     "metadata": {},
     "output_type": "execute_result"
    }
   ],
   "source": [
    "#merge title basic and title rating because they have t constant\n",
    "\n",
    "left = title_basicsdf\n",
    "right = movie_budgetdf\n",
    "favorite_df = left.join(right)\n",
    "favorite_df.head()"
   ]
  },
  {
   "cell_type": "markdown",
   "metadata": {},
   "source": [
    "In this cell I am filling the NaN and changing the dtype. I am filling the NaN with the mean value, and changing the dtype from a str to an "
   ]
  },
  {
   "cell_type": "code",
   "execution_count": 9,
   "metadata": {},
   "outputs": [
    {
     "data": {
      "text/plain": [
       "0        8261566\n",
       "1         600000\n",
       "2        8261566\n",
       "3        8261566\n",
       "4        8261566\n",
       "5        8261566\n",
       "6       41032915\n",
       "7         224114\n",
       "8         134904\n",
       "9        8261566\n",
       "10       8261566\n",
       "11       8261566\n",
       "12       8261566\n",
       "13       8261566\n",
       "14       8261566\n",
       "15       1039869\n",
       "16      99165609\n",
       "17       8261566\n",
       "18      20518224\n",
       "19       1971135\n",
       "20       8261566\n",
       "21       8261566\n",
       "22       8261566\n",
       "23       8261566\n",
       "24       8261566\n",
       "25       8261566\n",
       "26       8261566\n",
       "27       8261566\n",
       "28        312136\n",
       "29        201010\n",
       "          ...   \n",
       "1530    72700000\n",
       "1531     8261566\n",
       "1532     8261566\n",
       "1533     8261566\n",
       "1534     8261566\n",
       "1535     8261566\n",
       "1536      581813\n",
       "1537     1320005\n",
       "1538     8261566\n",
       "1539     8261566\n",
       "1540     8261566\n",
       "1541    25335935\n",
       "1542     1416189\n",
       "1543     8261566\n",
       "1544     8261566\n",
       "1545       59371\n",
       "1546      794306\n",
       "1547     8261566\n",
       "1548     8261566\n",
       "1549     8261566\n",
       "1550     8261566\n",
       "1551     8261566\n",
       "1552     8261566\n",
       "1553     8261566\n",
       "1554     8261566\n",
       "1555    33886034\n",
       "1556     8261566\n",
       "1557     8261566\n",
       "1558     8261566\n",
       "1559     8261566\n",
       "Name: box_office, Length: 1560, dtype: int64"
      ]
     },
     "execution_count": 9,
     "metadata": {},
     "output_type": "execute_result"
    }
   ],
   "source": [
    "\n",
    "movie_infodf['box_office'] = movie_infodf['box_office'].fillna(8261566).astype(str).str.replace(\",\", \"\").astype(int)\n",
    "movie_infodf.groupby(['genre'])['box_office'].value_counts()\n",
    "movie_infodf['box_office']\n"
   ]
  },
  {
   "cell_type": "markdown",
   "metadata": {},
   "source": []
  },
  {
   "cell_type": "markdown",
   "metadata": {},
   "source": [
    "This is the new and improved Data Frame. There were very few Nan Values left, so I just dropped them because they would not make that big of a differnce in the Data. Next I use Seaborn to plot my data in a bar plot"
   ]
  },
  {
   "cell_type": "code",
   "execution_count": 10,
   "metadata": {},
   "outputs": [
    {
     "ename": "TypeError",
     "evalue": "'<' not supported between instances of 'float' and 'str'",
     "output_type": "error",
     "traceback": [
      "\u001b[0;31m---------------------------------------------------------------------------\u001b[0m",
      "\u001b[0;31mTypeError\u001b[0m                                 Traceback (most recent call last)",
      "\u001b[0;32m<ipython-input-10-ef8fbecb58a2>\u001b[0m in \u001b[0;36m<module>\u001b[0;34m\u001b[0m\n\u001b[1;32m     12\u001b[0m \u001b[0mbin_intervals\u001b[0m \u001b[0;34m=\u001b[0m \u001b[0;34m[\u001b[0m\u001b[0;36m0\u001b[0m\u001b[0;34m,\u001b[0m \u001b[0;36m0.25\u001b[0m\u001b[0;34m,\u001b[0m \u001b[0;36m0.50\u001b[0m\u001b[0;34m,\u001b[0m \u001b[0;36m0.75\u001b[0m\u001b[0;34m,\u001b[0m \u001b[0;36m1.0\u001b[0m\u001b[0;34m]\u001b[0m\u001b[0;34m\u001b[0m\u001b[0;34m\u001b[0m\u001b[0m\n\u001b[1;32m     13\u001b[0m \u001b[0mbin_labels\u001b[0m \u001b[0;34m=\u001b[0m \u001b[0;34m[\u001b[0m\u001b[0;34m'action'\u001b[0m\u001b[0;34m,\u001b[0m\u001b[0;34m'thiller'\u001b[0m\u001b[0;34m,\u001b[0m\u001b[0;34m'drama'\u001b[0m\u001b[0;34m,\u001b[0m\u001b[0;34m'comedy'\u001b[0m\u001b[0;34m]\u001b[0m\u001b[0;34m\u001b[0m\u001b[0;34m\u001b[0m\u001b[0m\n\u001b[0;32m---> 14\u001b[0;31m \u001b[0mgenre_bodf\u001b[0m\u001b[0;34m[\u001b[0m\u001b[0;34m'genre'\u001b[0m\u001b[0;34m]\u001b[0m \u001b[0;34m=\u001b[0m \u001b[0mpd\u001b[0m\u001b[0;34m.\u001b[0m\u001b[0mcut\u001b[0m\u001b[0;34m(\u001b[0m\u001b[0mgenre_bodf\u001b[0m\u001b[0;34m[\u001b[0m\u001b[0;34m'genre'\u001b[0m\u001b[0;34m]\u001b[0m\u001b[0;34m,\u001b[0m \u001b[0mbins\u001b[0m \u001b[0;34m=\u001b[0m \u001b[0mbin_intervals\u001b[0m\u001b[0;34m,\u001b[0m \u001b[0mlabels\u001b[0m \u001b[0;34m=\u001b[0m \u001b[0mbin_labels\u001b[0m\u001b[0;34m)\u001b[0m\u001b[0;34m\u001b[0m\u001b[0;34m\u001b[0m\u001b[0m\n\u001b[0m\u001b[1;32m     15\u001b[0m \u001b[0;34m\u001b[0m\u001b[0m\n\u001b[1;32m     16\u001b[0m \u001b[0;34m\u001b[0m\u001b[0m\n",
      "\u001b[0;32m~/anaconda3/lib/python3.7/site-packages/pandas/core/reshape/tile.py\u001b[0m in \u001b[0;36mcut\u001b[0;34m(x, bins, right, labels, retbins, precision, include_lowest, duplicates)\u001b[0m\n\u001b[1;32m    239\u001b[0m                               \u001b[0minclude_lowest\u001b[0m\u001b[0;34m=\u001b[0m\u001b[0minclude_lowest\u001b[0m\u001b[0;34m,\u001b[0m\u001b[0;34m\u001b[0m\u001b[0;34m\u001b[0m\u001b[0m\n\u001b[1;32m    240\u001b[0m                               \u001b[0mdtype\u001b[0m\u001b[0;34m=\u001b[0m\u001b[0mdtype\u001b[0m\u001b[0;34m,\u001b[0m\u001b[0;34m\u001b[0m\u001b[0;34m\u001b[0m\u001b[0m\n\u001b[0;32m--> 241\u001b[0;31m                               duplicates=duplicates)\n\u001b[0m\u001b[1;32m    242\u001b[0m \u001b[0;34m\u001b[0m\u001b[0m\n\u001b[1;32m    243\u001b[0m     return _postprocess_for_cut(fac, bins, retbins, x_is_series,\n",
      "\u001b[0;32m~/anaconda3/lib/python3.7/site-packages/pandas/core/reshape/tile.py\u001b[0m in \u001b[0;36m_bins_to_cuts\u001b[0;34m(x, bins, right, labels, precision, include_lowest, dtype, duplicates)\u001b[0m\n\u001b[1;32m    342\u001b[0m \u001b[0;34m\u001b[0m\u001b[0m\n\u001b[1;32m    343\u001b[0m     \u001b[0mside\u001b[0m \u001b[0;34m=\u001b[0m \u001b[0;34m'left'\u001b[0m \u001b[0;32mif\u001b[0m \u001b[0mright\u001b[0m \u001b[0;32melse\u001b[0m \u001b[0;34m'right'\u001b[0m\u001b[0;34m\u001b[0m\u001b[0;34m\u001b[0m\u001b[0m\n\u001b[0;32m--> 344\u001b[0;31m     \u001b[0mids\u001b[0m \u001b[0;34m=\u001b[0m \u001b[0mensure_int64\u001b[0m\u001b[0;34m(\u001b[0m\u001b[0mbins\u001b[0m\u001b[0;34m.\u001b[0m\u001b[0msearchsorted\u001b[0m\u001b[0;34m(\u001b[0m\u001b[0mx\u001b[0m\u001b[0;34m,\u001b[0m \u001b[0mside\u001b[0m\u001b[0;34m=\u001b[0m\u001b[0mside\u001b[0m\u001b[0;34m)\u001b[0m\u001b[0;34m)\u001b[0m\u001b[0;34m\u001b[0m\u001b[0;34m\u001b[0m\u001b[0m\n\u001b[0m\u001b[1;32m    345\u001b[0m \u001b[0;34m\u001b[0m\u001b[0m\n\u001b[1;32m    346\u001b[0m     \u001b[0;32mif\u001b[0m \u001b[0minclude_lowest\u001b[0m\u001b[0;34m:\u001b[0m\u001b[0;34m\u001b[0m\u001b[0;34m\u001b[0m\u001b[0m\n",
      "\u001b[0;31mTypeError\u001b[0m: '<' not supported between instances of 'float' and 'str'"
     ]
    },
    {
     "data": {
      "image/png": "[encoded data removed]",
      "text/plain": [
       "<Figure size 432x288 with 1 Axes>"
      ]
     },
     "metadata": {
      "needs_background": "light"
     },
     "output_type": "display_data"
    }
   ],
   "source": [
    "movie_infodf\n",
    "genre_bodf = pd.DataFrame()\n",
    "genre_bodf['genre'] = movie_infodf['genre']\n",
    "genre_bodf['box_office'] = movie_infodf['box_office']\n",
    "genre_bodf.dropna()\n",
    "box_officedf = pd.DataFrame()\n",
    "box_officedf = genre_bodf['box_office'] \n",
    "genre_bodf.genre = genre_bodf.genre.astype('category')\n",
    "sns.barplot(genre_bodf.genre,genre_bodf.box_office)\n",
    "\n",
    "\n",
    "bin_intervals = [0, 0.25, 0.50, 0.75, 1.0]\n",
    "bin_labels = ['action','thiller','drama','comedy']\n",
    "genre_bodf['genre'] = pd.cut(genre_bodf['genre'], bins = bin_intervals, labels = bin_labels)\n",
    "\n",
    "\n",
    "\n",
    "#df['data'] = pd.DataFrame(x)\n",
    "#binInterval = [0, 0.6, 0.7, 0.8, 0.9]\n",
    "#binLabels   = [0, 4, 3, 2, 1]\n",
    "#df['binned'] = pd.cut(df['data'], bins = binInterval, labels=binLabels)"
   ]
  },
  {
   "cell_type": "markdown",
   "metadata": {},
   "source": [
    "In this cell I made a new Data Frame that contains the 2 columns I want: Box Office & Genre. This new Data Frame shows the Genre of the Movie and how much money it has generated. There were a few NaN values left, so I dropped them. Then I sorted the genres by how much they made in the box office from most box office revenue to least."
   ]
  },
  {
   "cell_type": "code",
   "execution_count": 23,
   "metadata": {},
   "outputs": [],
   "source": [
    "genre_bodf.dropna(inplace=True)\n"
   ]
  },
  {
   "cell_type": "code",
   "execution_count": 24,
   "metadata": {},
   "outputs": [
    {
     "data": {
      "text/html": [
       "<div>\n",
       "<style scoped>\n",
       "    .dataframe tbody tr th:only-of-type {\n",
       "        vertical-align: middle;\n",
       "    }\n",
       "\n",
       "    .dataframe tbody tr th {\n",
       "        vertical-align: top;\n",
       "    }\n",
       "\n",
       "    .dataframe thead th {\n",
       "        text-align: right;\n",
       "    }\n",
       "</style>\n",
       "<table border=\"1\" class=\"dataframe\">\n",
       "  <thead>\n",
       "    <tr style=\"text-align: right;\">\n",
       "      <th></th>\n",
       "      <th>genre</th>\n",
       "      <th>box_office</th>\n",
       "    </tr>\n",
       "  </thead>\n",
       "  <tbody>\n",
       "    <tr>\n",
       "      <th>0</th>\n",
       "      <td>Action and Adventure|Classics|Drama</td>\n",
       "      <td>8261566</td>\n",
       "    </tr>\n",
       "    <tr>\n",
       "      <th>1</th>\n",
       "      <td>Drama|Science Fiction and Fantasy</td>\n",
       "      <td>600000</td>\n",
       "    </tr>\n",
       "    <tr>\n",
       "      <th>2</th>\n",
       "      <td>Drama|Musical and Performing Arts</td>\n",
       "      <td>8261566</td>\n",
       "    </tr>\n",
       "    <tr>\n",
       "      <th>3</th>\n",
       "      <td>Drama|Mystery and Suspense</td>\n",
       "      <td>8261566</td>\n",
       "    </tr>\n",
       "    <tr>\n",
       "      <th>4</th>\n",
       "      <td>Drama|Romance</td>\n",
       "      <td>8261566</td>\n",
       "    </tr>\n",
       "    <tr>\n",
       "      <th>5</th>\n",
       "      <td>Drama|Kids and Family</td>\n",
       "      <td>8261566</td>\n",
       "    </tr>\n",
       "    <tr>\n",
       "      <th>6</th>\n",
       "      <td>Comedy</td>\n",
       "      <td>41032915</td>\n",
       "    </tr>\n",
       "    <tr>\n",
       "      <th>7</th>\n",
       "      <td>Drama</td>\n",
       "      <td>224114</td>\n",
       "    </tr>\n",
       "    <tr>\n",
       "      <th>8</th>\n",
       "      <td>Drama</td>\n",
       "      <td>134904</td>\n",
       "    </tr>\n",
       "    <tr>\n",
       "      <th>9</th>\n",
       "      <td>Action and Adventure|Mystery and Suspense|Scie...</td>\n",
       "      <td>8261566</td>\n",
       "    </tr>\n",
       "  </tbody>\n",
       "</table>\n",
       "</div>"
      ],
      "text/plain": [
       "                                               genre  box_office\n",
       "0                Action and Adventure|Classics|Drama     8261566\n",
       "1                  Drama|Science Fiction and Fantasy      600000\n",
       "2                  Drama|Musical and Performing Arts     8261566\n",
       "3                         Drama|Mystery and Suspense     8261566\n",
       "4                                      Drama|Romance     8261566\n",
       "5                              Drama|Kids and Family     8261566\n",
       "6                                             Comedy    41032915\n",
       "7                                              Drama      224114\n",
       "8                                              Drama      134904\n",
       "9  Action and Adventure|Mystery and Suspense|Scie...     8261566"
      ]
     },
     "execution_count": 24,
     "metadata": {},
     "output_type": "execute_result"
    }
   ],
   "source": [
    "genre_bodf.head(10)"
   ]
  },
  {
   "cell_type": "markdown",
   "metadata": {},
   "source": [
    "I am calling my Data Frame and changing the type to category. Then I am calling the 'genre' collumn to see how many unique values it has using the .unique function. Then I turn my genre column into a list."
   ]
  },
  {
   "cell_type": "code",
   "execution_count": 20,
   "metadata": {},
   "outputs": [],
   "source": [
    "genre_bodf.genre = genre_bodf.genre.astype('category')\n",
    "genre_bodf['genre'].unique()\n",
    "genres_ = list(genre_bodf['genre'])\n"
   ]
  },
  {
   "cell_type": "markdown",
   "metadata": {},
   "source": [
    "After making a list of genres types I made a dictionary that holds the genre as the key and the count as the value."
   ]
  },
  {
   "cell_type": "code",
   "execution_count": 21,
   "metadata": {},
   "outputs": [],
   "source": [
    "#list = genres_\n",
    "\n",
    "#ro_gen = list(genre)\n",
    "#ro_gen_AA = genre_bodf.loc[genre_bodf['genre']== 'Action and Adventure']\n",
    "\n",
    "gen_count_dic = {}\n",
    "\n",
    "# key is the genre\n",
    "# value is the box office revenue\n",
    "\n",
    "for genre in genres_:\n",
    "    gen_count_dic.update({genre:0})\n",
    "\n",
    "#print(gen_count_dic)\n",
    "    \n",
    "    \n",
    "#genre_bodf2019 = genre_bodf.loc[genre_bodf['genre'] == 'Action and Adventure']\n"
   ]
  },
  {
   "cell_type": "markdown",
   "metadata": {},
   "source": [
    "I used a for loop in my dictionary to get the count of how many times a genre come up. I sort the box office values from heighest to lowest using the .sort_values() method. Then I used seaborn to help me visualize my data."
   ]
  },
  {
   "cell_type": "code",
   "execution_count": 22,
   "metadata": {},
   "outputs": [
    {
     "data": {
      "text/plain": [
       "Text(0.5, 1.0, 'Genres With Box Office')"
      ]
     },
     "execution_count": 22,
     "metadata": {},
     "output_type": "execute_result"
    },
    {
     "data": {
      "image/png": "[encoded data removed]",
      "text/plain": [
       "<Figure size 432x288 with 1 Axes>"
      ]
     },
     "metadata": {
      "needs_background": "light"
     },
     "output_type": "display_data"
    }
   ],
   "source": [
    "value, counts = np.unique(genres_ ,return_counts = True)\n",
    "for value, count in zip(value, counts):\n",
    "    gen_count_dic[value]= count\n",
    "\n",
    "gen_count_dic\n",
    "\n",
    "genres_bo2019 = pd.DataFrame(list(gen_count_dic.items()), columns=['genre','box_office'])\n",
    "genres_bo2019\n",
    "\n",
    "genres_bo2019 = genres_bo2019.sort_values('box_office', ascending=False).head(10).reset_index()\n",
    "genres2 = sns.barplot(x= genres_bo2019['genre'],y=genres_bo2019['box_office'])\n",
    "genres2.set_xticklabels(genres2.get_xticklabels(), rotation=40, ha='right');\n",
    "plt.title('Genres With Box Office')"
   ]
  },
  {
   "cell_type": "markdown",
   "metadata": {},
   "source": [
    "# What were the Top 10 Grossing Studios, per year, over the past Decade?"
   ]
  },
  {
   "cell_type": "code",
   "execution_count": 147,
   "metadata": {},
   "outputs": [],
   "source": [
    "import pandas as pd\n",
    "import numpy as np\n",
    "import matplotlib.pyplot as plt\n",
    "import seaborn as sns\n",
    "%matplotlib inline\n",
    "import cleaner\n",
    "import studio_formulas\n",
    "%reload_ext autoreload\n",
    "%autoreload 2"
   ]
  },
  {
   "cell_type": "markdown",
   "metadata": {},
   "source": [
    "### Preform Exploratory Data Analysis: bom_df dataset \n"
   ]
  },
  {
   "cell_type": "markdown",
   "metadata": {},
   "source": [
    "In the following, steps we explored the bom_df dataset utilize the .shape, .items, .doctype methods "
   ]
  },
  {
   "cell_type": "code",
   "execution_count": 138,
   "metadata": {},
   "outputs": [
    {
     "data": {
      "text/plain": [
       "Index(['title', 'studio', 'domestic_gross', 'foreign_gross', 'year'], dtype='object')"
      ]
     },
     "execution_count": 138,
     "metadata": {},
     "output_type": "execute_result"
    }
   ],
   "source": [
    "bom_df = pd.read_csv('data/bom.movie_gross.csv') #import the bom_df dataset\n",
    "bom_df.columns"
   ]
  },
  {
   "cell_type": "code",
   "execution_count": 139,
   "metadata": {},
   "outputs": [
    {
     "data": {
      "text/plain": [
       "(3387, 5)"
      ]
     },
     "execution_count": 139,
     "metadata": {},
     "output_type": "execute_result"
    }
   ],
   "source": [
    "bom_df.shape #here we see that our dataframe is 3387 rows by 5 columns"
   ]
  },
  {
   "cell_type": "code",
   "execution_count": 140,
   "metadata": {},
   "outputs": [
    {
     "name": "stdout",
     "output_type": "stream",
     "text": [
      "<class 'pandas.core.frame.DataFrame'>\n",
      "RangeIndex: 3387 entries, 0 to 3386\n",
      "Data columns (total 5 columns):\n",
      "title             3387 non-null object\n",
      "studio            3382 non-null object\n",
      "domestic_gross    3359 non-null float64\n",
      "foreign_gross     2037 non-null object\n",
      "year              3387 non-null int64\n",
      "dtypes: float64(1), int64(1), object(3)\n",
      "memory usage: 132.4+ KB\n"
     ]
    }
   ],
   "source": [
    "bom_df.info()"
   ]
  },
  {
   "cell_type": "markdown",
   "metadata": {},
   "source": [
    "The .info() method allows us to see how much cleaning we need to do of our indices. It looks like the foreign_gross may present some issues with missing data. This would be a good column to drop."
   ]
  },
  {
   "cell_type": "code",
   "execution_count": 141,
   "metadata": {},
   "outputs": [
    {
     "data": {
      "text/plain": [
       "RangeIndex(start=0, stop=3387, step=1)"
      ]
     },
     "execution_count": 141,
     "metadata": {},
     "output_type": "execute_result"
    }
   ],
   "source": [
    "bom_df.index"
   ]
  },
  {
   "cell_type": "code",
   "execution_count": 205,
   "metadata": {},
   "outputs": [
    {
     "data": {
      "text/plain": [
       "title              object\n",
       "studio             object\n",
       "domestic_gross    float64\n",
       "foreign_gross      object\n",
       "year                int64\n",
       "dtype: object"
      ]
     },
     "execution_count": 205,
     "metadata": {},
     "output_type": "execute_result"
    }
   ],
   "source": [
    "bom_df.dtypes"
   ]
  },
  {
   "cell_type": "markdown",
   "metadata": {},
   "source": [
    "### Define our Question: how do you begin to organize by year, studio, and domestic gross?"
   ]
  },
  {
   "cell_type": "code",
   "execution_count": 4,
   "metadata": {},
   "outputs": [
    {
     "data": {
      "text/html": [
       "<div>\n",
       "<style scoped>\n",
       "    .dataframe tbody tr th:only-of-type {\n",
       "        vertical-align: middle;\n",
       "    }\n",
       "\n",
       "    .dataframe tbody tr th {\n",
       "        vertical-align: top;\n",
       "    }\n",
       "\n",
       "    .dataframe thead th {\n",
       "        text-align: right;\n",
       "    }\n",
       "</style>\n",
       "<table border=\"1\" class=\"dataframe\">\n",
       "  <thead>\n",
       "    <tr style=\"text-align: right;\">\n",
       "      <th></th>\n",
       "      <th>studio</th>\n",
       "      <th>domestic_gross</th>\n",
       "      <th>year</th>\n",
       "    </tr>\n",
       "  </thead>\n",
       "  <tbody>\n",
       "    <tr>\n",
       "      <td>0</td>\n",
       "      <td>BV</td>\n",
       "      <td>415000000.0</td>\n",
       "      <td>2010</td>\n",
       "    </tr>\n",
       "    <tr>\n",
       "      <td>1</td>\n",
       "      <td>BV</td>\n",
       "      <td>334200000.0</td>\n",
       "      <td>2010</td>\n",
       "    </tr>\n",
       "    <tr>\n",
       "      <td>2</td>\n",
       "      <td>WB</td>\n",
       "      <td>296000000.0</td>\n",
       "      <td>2010</td>\n",
       "    </tr>\n",
       "    <tr>\n",
       "      <td>3</td>\n",
       "      <td>WB</td>\n",
       "      <td>292600000.0</td>\n",
       "      <td>2010</td>\n",
       "    </tr>\n",
       "    <tr>\n",
       "      <td>4</td>\n",
       "      <td>P/DW</td>\n",
       "      <td>238700000.0</td>\n",
       "      <td>2010</td>\n",
       "    </tr>\n",
       "  </tbody>\n",
       "</table>\n",
       "</div>"
      ],
      "text/plain": [
       "  studio  domestic_gross  year\n",
       "0     BV     415000000.0  2010\n",
       "1     BV     334200000.0  2010\n",
       "2     WB     296000000.0  2010\n",
       "3     WB     292600000.0  2010\n",
       "4   P/DW     238700000.0  2010"
      ]
     },
     "execution_count": 4,
     "metadata": {},
     "output_type": "execute_result"
    }
   ],
   "source": [
    "studio_gross = bom_df[['studio','domestic_gross','year']]\n",
    "studio_gross.head()"
   ]
  },
  {
   "cell_type": "markdown",
   "metadata": {},
   "source": [
    "Above is our new dataframe studio_gross containing the essentail columns needed to answer our question"
   ]
  },
  {
   "cell_type": "markdown",
   "metadata": {},
   "source": [
    "We can further approach this question with the groupby function. This is a first go, but it appears that the groupby function will be a critical commponent to achieving our answer. The output below breaks out each year 2010 - 2018 and the number of studios, but it's missing the domestic gross\n"
   ]
  },
  {
   "cell_type": "code",
   "execution_count": 5,
   "metadata": {},
   "outputs": [
    {
     "data": {
      "text/plain": [
       "{2010: Int64Index([  0,   1,   2,   3,   4,   5,   6,   7,   8,   9,\n",
       "             ...\n",
       "             318, 319, 320, 321, 322, 323, 324, 325, 326, 327],\n",
       "            dtype='int64', length=328),\n",
       " 2011: Int64Index([328, 329, 330, 331, 332, 333, 334, 335, 336, 337,\n",
       "             ...\n",
       "             717, 718, 719, 720, 721, 722, 723, 724, 725, 726],\n",
       "            dtype='int64', length=399),\n",
       " 2012: Int64Index([ 727,  728,  729,  730,  731,  732,  733,  734,  735,  736,\n",
       "             ...\n",
       "             1117, 1118, 1119, 1120, 1121, 1122, 1123, 1124, 1125, 1126],\n",
       "            dtype='int64', length=400),\n",
       " 2013: Int64Index([1127, 1128, 1129, 1130, 1131, 1132, 1133, 1134, 1135, 1136,\n",
       "             ...\n",
       "             1467, 1468, 1469, 1470, 1471, 1472, 1473, 1474, 1475, 1476],\n",
       "            dtype='int64', length=350),\n",
       " 2014: Int64Index([1477, 1478, 1479, 1480, 1481, 1482, 1483, 1484, 1485, 1486,\n",
       "             ...\n",
       "             1862, 1863, 1864, 1865, 1866, 1867, 1868, 1869, 1870, 1871],\n",
       "            dtype='int64', length=395),\n",
       " 2015: Int64Index([1872, 1873, 1874, 1875, 1876, 1877, 1878, 1879, 1880, 1881,\n",
       "             ...\n",
       "             2312, 2313, 2314, 2315, 2316, 2317, 2318, 2319, 2320, 2321],\n",
       "            dtype='int64', length=450),\n",
       " 2016: Int64Index([2322, 2323, 2324, 2325, 2326, 2327, 2328, 2329, 2330, 2331,\n",
       "             ...\n",
       "             2748, 2749, 2750, 2751, 2752, 2753, 2754, 2755, 2756, 2757],\n",
       "            dtype='int64', length=436),\n",
       " 2017: Int64Index([2758, 2759, 2760, 2761, 2762, 2763, 2764, 2765, 2766, 2767,\n",
       "             ...\n",
       "             3069, 3070, 3071, 3072, 3073, 3074, 3075, 3076, 3077, 3078],\n",
       "            dtype='int64', length=321),\n",
       " 2018: Int64Index([3079, 3080, 3081, 3082, 3083, 3084, 3085, 3086, 3087, 3088,\n",
       "             ...\n",
       "             3377, 3378, 3379, 3380, 3381, 3382, 3383, 3384, 3385, 3386],\n",
       "            dtype='int64', length=308)}"
      ]
     },
     "execution_count": 5,
     "metadata": {},
     "output_type": "execute_result"
    }
   ],
   "source": [
    "studio_gross.groupby(['year', 'studio', 'domestic_gross']).groups\n",
    "studio_gross.groupby('year').groups"
   ]
  },
  {
   "cell_type": "markdown",
   "metadata": {},
   "source": [
    "### continuing to figure out how to organize the data..."
   ]
  },
  {
   "cell_type": "markdown",
   "metadata": {},
   "source": [
    "this is a step in the right direction, the groupby function was able to group the dataframe by year and studio. \n",
    "the .groups method then was able to displays this data \n",
    "to improve this data, we would like to add in domestic_gross data"
   ]
  },
  {
   "cell_type": "markdown",
   "metadata": {},
   "source": [
    "Perhaps we need a list of all of the studios we're working with. This studio list may come in handy in order to preform a future sort"
   ]
  },
  {
   "cell_type": "code",
   "execution_count": 6,
   "metadata": {},
   "outputs": [],
   "source": [
    "studio_list = bom_df['studio'].unique()"
   ]
  },
  {
   "cell_type": "markdown",
   "metadata": {},
   "source": [
    "By utilizing the .unique method, the code above gives us a list of studios "
   ]
  },
  {
   "cell_type": "code",
   "execution_count": 7,
   "metadata": {},
   "outputs": [
    {
     "name": "stdout",
     "output_type": "stream",
     "text": [
      "['BV' 'WB' 'P/DW' 'Sum.' 'Par.' 'Uni.' 'Fox' 'Wein.' 'Sony' 'FoxS' 'SGem'\n",
      " 'WB (NL)' 'LGF' 'MBox' 'CL' 'W/Dim.' 'CBS' 'Focus' 'MGM' 'Over.' 'Mira.'\n",
      " 'IFC' 'CJ' 'NM' 'SPC' 'ParV' 'Gold.' 'JS' 'RAtt.' 'Magn.' 'Free' '3D'\n",
      " 'UTV' 'Rela.' 'Zeit.' 'Anch.' 'PDA' 'Lorb.' 'App.' 'Drft.' 'Osci.' 'IW'\n",
      " 'Rog.' nan 'Eros' 'Relbig.' 'Viv.' 'Hann.' 'Strand' 'NGE' 'Scre.' 'Kino'\n",
      " 'Abr.' 'CZ' 'ATO' 'First' 'GK' 'FInd.' 'NFC' 'TFC' 'Pala.' 'Imag.' 'NAV'\n",
      " 'Arth.' 'CLS' 'Mont.' 'Olive' 'CGld' 'FOAK' 'IVP' 'Yash' 'ICir' 'FM'\n",
      " 'Vita.' 'WOW' 'Truly' 'Indic.' 'FD' 'Vari.' 'TriS' 'ORF' 'IM' 'Elev.'\n",
      " 'Cohen' 'NeoC' 'Jan.' 'MNE' 'Trib.' 'Rocket' 'OMNI/FSR' 'KKM' 'Argo.'\n",
      " 'SMod' 'Libre' 'FRun' 'WHE' 'P4' 'KC' 'SD' 'AM' 'MPFT' 'Icar.' 'AGF'\n",
      " 'A23' 'Da.' 'NYer' 'Rialto' 'DF' 'KL' 'ALP' 'LG/S' 'WGUSA' 'MPI' 'RTWC'\n",
      " 'FIP' 'RF' 'ArcEnt' 'PalUni' 'EpicPics' 'EOne' 'LD' 'AF' 'TFA' 'Myr.'\n",
      " 'BM&DH' 'SEG' 'PalT' 'Outs' 'OutF' 'BSM' 'WAMCR' 'PM&E' 'A24' 'Cdgm.'\n",
      " 'Distrib.' 'Imax' 'PH' 'HTR' 'ELS' 'PI' 'E1' 'TVC' 'FEF' 'EXCL' 'MSF'\n",
      " 'P/108' 'FCW' 'XL' 'Shout!' 'SV' 'CE' 'VPD' 'KE' 'Saban' 'CF&SR' 'Triu'\n",
      " 'DR' 'Crnth' 'Ampl.' 'CP' 'Proud' 'BGP' 'Abk.' 'DLA' 'B360' 'BWP' 'SEA'\n",
      " 'RME' 'KS' 'VE' 'LGP' 'EC' 'FUN' 'STX' 'AR' 'BG' 'PFR' 'BST' 'BH Tilt'\n",
      " 'BSC' 'U/P' 'UHE' 'CLF' 'FR' 'AaF' 'Orch.' 'Alc' 'PBS' 'SHO' 'Grav.'\n",
      " 'Gathr' 'Asp.' 'ADC' 'Rel.' 'SM' 'AZ' 'UEP' 'ITL' 'TA' 'MR' 'BBC'\n",
      " 'CFilms' 'Part.' 'FOR' 'TAFC' 'JBG' 'PNT' 'CineGalaxy' 'Fathom' 'Zee'\n",
      " 'Men.' 'YFG' 'Gaatri' 'Mon' 'Ghop' 'Cleopatra' 'Dreamwest' 'SDS' 'Linn'\n",
      " 'Electric' 'Jampa' 'HC' 'GrtIndia' 'Neon' 'ENTMP' 'Good Deed' 'ParC'\n",
      " 'Aviron' 'Annapurna' 'Amazon' 'Affirm' 'MOM' 'Orion' 'CFI' 'UTMW'\n",
      " 'Crimson' 'CAVU' 'EF' 'Arrow' 'Hiber' 'Studio 8' 'Global Road'\n",
      " 'Trafalgar' 'Greenwich' 'Spanglish' 'Blue Fox' 'RLJ' 'Swen' 'PackYourBag'\n",
      " 'Gaum.' 'Grindstone' 'Conglomerate' 'MUBI' 'Darin Southa' 'Super'\n",
      " 'CARUSEL' 'PDF' 'Synergetic']\n"
     ]
    }
   ],
   "source": [
    "print(studio_list)"
   ]
  },
  {
   "cell_type": "markdown",
   "metadata": {},
   "source": [
    "We're moving in the right direction. Below is an even better appraoch at answering our question. We've utilized the groupby., value_counts, and reset_index method in order to count the number of movies a studio produced by year. This is stil missing the domestic gross component. "
   ]
  },
  {
   "cell_type": "code",
   "execution_count": 4,
   "metadata": {},
   "outputs": [
    {
     "data": {
      "text/html": [
       "<div>\n",
       "<style scoped>\n",
       "    .dataframe tbody tr th:only-of-type {\n",
       "        vertical-align: middle;\n",
       "    }\n",
       "\n",
       "    .dataframe tbody tr th {\n",
       "        vertical-align: top;\n",
       "    }\n",
       "\n",
       "    .dataframe thead th {\n",
       "        text-align: right;\n",
       "    }\n",
       "</style>\n",
       "<table border=\"1\" class=\"dataframe\">\n",
       "  <thead>\n",
       "    <tr style=\"text-align: right;\">\n",
       "      <th></th>\n",
       "      <th>year</th>\n",
       "      <th>studio</th>\n",
       "      <th>counts</th>\n",
       "    </tr>\n",
       "  </thead>\n",
       "  <tbody>\n",
       "    <tr>\n",
       "      <td>0</td>\n",
       "      <td>2010</td>\n",
       "      <td>IFC</td>\n",
       "      <td>22</td>\n",
       "    </tr>\n",
       "    <tr>\n",
       "      <td>1</td>\n",
       "      <td>2010</td>\n",
       "      <td>SPC</td>\n",
       "      <td>19</td>\n",
       "    </tr>\n",
       "    <tr>\n",
       "      <td>2</td>\n",
       "      <td>2010</td>\n",
       "      <td>WB</td>\n",
       "      <td>19</td>\n",
       "    </tr>\n",
       "    <tr>\n",
       "      <td>3</td>\n",
       "      <td>2010</td>\n",
       "      <td>Fox</td>\n",
       "      <td>17</td>\n",
       "    </tr>\n",
       "    <tr>\n",
       "      <td>4</td>\n",
       "      <td>2010</td>\n",
       "      <td>Magn.</td>\n",
       "      <td>16</td>\n",
       "    </tr>\n",
       "    <tr>\n",
       "      <td>...</td>\n",
       "      <td>...</td>\n",
       "      <td>...</td>\n",
       "      <td>...</td>\n",
       "    </tr>\n",
       "    <tr>\n",
       "      <td>737</td>\n",
       "      <td>2018</td>\n",
       "      <td>Swen</td>\n",
       "      <td>1</td>\n",
       "    </tr>\n",
       "    <tr>\n",
       "      <td>738</td>\n",
       "      <td>2018</td>\n",
       "      <td>Synergetic</td>\n",
       "      <td>1</td>\n",
       "    </tr>\n",
       "    <tr>\n",
       "      <td>739</td>\n",
       "      <td>2018</td>\n",
       "      <td>Trafalgar</td>\n",
       "      <td>1</td>\n",
       "    </tr>\n",
       "    <tr>\n",
       "      <td>740</td>\n",
       "      <td>2018</td>\n",
       "      <td>Vita.</td>\n",
       "      <td>1</td>\n",
       "    </tr>\n",
       "    <tr>\n",
       "      <td>741</td>\n",
       "      <td>2018</td>\n",
       "      <td>Yash</td>\n",
       "      <td>1</td>\n",
       "    </tr>\n",
       "  </tbody>\n",
       "</table>\n",
       "<p>742 rows × 3 columns</p>\n",
       "</div>"
      ],
      "text/plain": [
       "     year      studio  counts\n",
       "0    2010         IFC      22\n",
       "1    2010         SPC      19\n",
       "2    2010          WB      19\n",
       "3    2010         Fox      17\n",
       "4    2010       Magn.      16\n",
       "..    ...         ...     ...\n",
       "737  2018        Swen       1\n",
       "738  2018  Synergetic       1\n",
       "739  2018   Trafalgar       1\n",
       "740  2018       Vita.       1\n",
       "741  2018        Yash       1\n",
       "\n",
       "[742 rows x 3 columns]"
      ]
     },
     "execution_count": 4,
     "metadata": {},
     "output_type": "execute_result"
    }
   ],
   "source": [
    "bom_df.groupby('year').studio.value_counts().reset_index(name='counts')\n"
   ]
  },
  {
   "cell_type": "markdown",
   "metadata": {},
   "source": [
    "Here's another version of the groupby function and value counts "
   ]
  },
  {
   "cell_type": "code",
   "execution_count": 231,
   "metadata": {},
   "outputs": [
    {
     "data": {
      "text/plain": [
       "year  studio    \n",
       "2010  IFC           22\n",
       "      SPC           19\n",
       "      WB            19\n",
       "      Fox           17\n",
       "      Magn.         16\n",
       "                    ..\n",
       "2018  Swen           1\n",
       "      Synergetic     1\n",
       "      Trafalgar      1\n",
       "      Vita.          1\n",
       "      Yash           1\n",
       "Name: studio, Length: 742, dtype: int64"
      ]
     },
     "execution_count": 231,
     "metadata": {},
     "output_type": "execute_result"
    }
   ],
   "source": [
    "bom_df.groupby('year').studio.value_counts()"
   ]
  },
  {
   "cell_type": "markdown",
   "metadata": {},
   "source": [
    "This is great progress. However, how do we incorporate domestic gross? "
   ]
  },
  {
   "cell_type": "code",
   "execution_count": 9,
   "metadata": {},
   "outputs": [
    {
     "data": {
      "text/plain": [
       "<pandas.core.groupby.generic.SeriesGroupBy object at 0x1070d6470>"
      ]
     },
     "execution_count": 9,
     "metadata": {},
     "output_type": "execute_result"
    }
   ],
   "source": [
    "bom_df.groupby(['year','studio'])['domestic_gross']"
   ]
  },
  {
   "cell_type": "code",
   "execution_count": 10,
   "metadata": {},
   "outputs": [],
   "source": [
    "bom_dfdf = bom_df.groupby(['studio','domestic_gross'])\n"
   ]
  },
  {
   "cell_type": "code",
   "execution_count": 5,
   "metadata": {},
   "outputs": [
    {
     "data": {
      "text/html": [
       "<div>\n",
       "<style scoped>\n",
       "    .dataframe tbody tr th:only-of-type {\n",
       "        vertical-align: middle;\n",
       "    }\n",
       "\n",
       "    .dataframe tbody tr th {\n",
       "        vertical-align: top;\n",
       "    }\n",
       "\n",
       "    .dataframe thead th {\n",
       "        text-align: right;\n",
       "    }\n",
       "</style>\n",
       "<table border=\"1\" class=\"dataframe\">\n",
       "  <thead>\n",
       "    <tr style=\"text-align: right;\">\n",
       "      <th></th>\n",
       "      <th>title</th>\n",
       "      <th>studio</th>\n",
       "      <th>domestic_gross</th>\n",
       "      <th>foreign_gross</th>\n",
       "      <th>year</th>\n",
       "    </tr>\n",
       "  </thead>\n",
       "  <tbody>\n",
       "    <tr>\n",
       "      <td>3079</td>\n",
       "      <td>Avengers: Infinity War</td>\n",
       "      <td>BV</td>\n",
       "      <td>678800000.0</td>\n",
       "      <td>1,369.5</td>\n",
       "      <td>2018</td>\n",
       "    </tr>\n",
       "    <tr>\n",
       "      <td>3080</td>\n",
       "      <td>Black Panther</td>\n",
       "      <td>BV</td>\n",
       "      <td>700100000.0</td>\n",
       "      <td>646900000</td>\n",
       "      <td>2018</td>\n",
       "    </tr>\n",
       "    <tr>\n",
       "      <td>3081</td>\n",
       "      <td>Jurassic World: Fallen Kingdom</td>\n",
       "      <td>Uni.</td>\n",
       "      <td>417700000.0</td>\n",
       "      <td>891800000</td>\n",
       "      <td>2018</td>\n",
       "    </tr>\n",
       "    <tr>\n",
       "      <td>3082</td>\n",
       "      <td>Incredibles 2</td>\n",
       "      <td>BV</td>\n",
       "      <td>608600000.0</td>\n",
       "      <td>634200000</td>\n",
       "      <td>2018</td>\n",
       "    </tr>\n",
       "    <tr>\n",
       "      <td>3083</td>\n",
       "      <td>Aquaman</td>\n",
       "      <td>WB</td>\n",
       "      <td>335100000.0</td>\n",
       "      <td>812700000</td>\n",
       "      <td>2018</td>\n",
       "    </tr>\n",
       "    <tr>\n",
       "      <td>...</td>\n",
       "      <td>...</td>\n",
       "      <td>...</td>\n",
       "      <td>...</td>\n",
       "      <td>...</td>\n",
       "      <td>...</td>\n",
       "    </tr>\n",
       "    <tr>\n",
       "      <td>3382</td>\n",
       "      <td>The Quake</td>\n",
       "      <td>Magn.</td>\n",
       "      <td>6200.0</td>\n",
       "      <td>NaN</td>\n",
       "      <td>2018</td>\n",
       "    </tr>\n",
       "    <tr>\n",
       "      <td>3383</td>\n",
       "      <td>Edward II (2018 re-release)</td>\n",
       "      <td>FM</td>\n",
       "      <td>4800.0</td>\n",
       "      <td>NaN</td>\n",
       "      <td>2018</td>\n",
       "    </tr>\n",
       "    <tr>\n",
       "      <td>3384</td>\n",
       "      <td>El Pacto</td>\n",
       "      <td>Sony</td>\n",
       "      <td>2500.0</td>\n",
       "      <td>NaN</td>\n",
       "      <td>2018</td>\n",
       "    </tr>\n",
       "    <tr>\n",
       "      <td>3385</td>\n",
       "      <td>The Swan</td>\n",
       "      <td>Synergetic</td>\n",
       "      <td>2400.0</td>\n",
       "      <td>NaN</td>\n",
       "      <td>2018</td>\n",
       "    </tr>\n",
       "    <tr>\n",
       "      <td>3386</td>\n",
       "      <td>An Actor Prepares</td>\n",
       "      <td>Grav.</td>\n",
       "      <td>1700.0</td>\n",
       "      <td>NaN</td>\n",
       "      <td>2018</td>\n",
       "    </tr>\n",
       "  </tbody>\n",
       "</table>\n",
       "<p>308 rows × 5 columns</p>\n",
       "</div>"
      ],
      "text/plain": [
       "                               title      studio  domestic_gross  \\\n",
       "3079          Avengers: Infinity War          BV     678800000.0   \n",
       "3080                   Black Panther          BV     700100000.0   \n",
       "3081  Jurassic World: Fallen Kingdom        Uni.     417700000.0   \n",
       "3082                   Incredibles 2          BV     608600000.0   \n",
       "3083                         Aquaman          WB     335100000.0   \n",
       "...                              ...         ...             ...   \n",
       "3382                       The Quake       Magn.          6200.0   \n",
       "3383     Edward II (2018 re-release)          FM          4800.0   \n",
       "3384                        El Pacto        Sony          2500.0   \n",
       "3385                        The Swan  Synergetic          2400.0   \n",
       "3386               An Actor Prepares       Grav.          1700.0   \n",
       "\n",
       "     foreign_gross  year  \n",
       "3079       1,369.5  2018  \n",
       "3080     646900000  2018  \n",
       "3081     891800000  2018  \n",
       "3082     634200000  2018  \n",
       "3083     812700000  2018  \n",
       "...            ...   ...  \n",
       "3382           NaN  2018  \n",
       "3383           NaN  2018  \n",
       "3384           NaN  2018  \n",
       "3385           NaN  2018  \n",
       "3386           NaN  2018  \n",
       "\n",
       "[308 rows x 5 columns]"
      ]
     },
     "execution_count": 5,
     "metadata": {},
     "output_type": "execute_result"
    }
   ],
   "source": [
    "bom_df2018 = bom_df.loc[bom_df['year'] == 2018 ]\n",
    "bom_df2018\n"
   ]
  },
  {
   "cell_type": "code",
   "execution_count": 250,
   "metadata": {},
   "outputs": [],
   "source": [
    "bom_df2018_WB = bom_df2018.loc[bom_df2018['studio'] == 'WB']"
   ]
  },
  {
   "cell_type": "code",
   "execution_count": 293,
   "metadata": {},
   "outputs": [
    {
     "data": {
      "text/plain": [
       "1729100000.0"
      ]
     },
     "execution_count": 293,
     "metadata": {},
     "output_type": "execute_result"
    }
   ],
   "source": [
    "bom_df2018_WB['domestic_gross'].sum()"
   ]
  },
  {
   "cell_type": "code",
   "execution_count": 251,
   "metadata": {},
   "outputs": [
    {
     "data": {
      "text/html": [
       "<div>\n",
       "<style scoped>\n",
       "    .dataframe tbody tr th:only-of-type {\n",
       "        vertical-align: middle;\n",
       "    }\n",
       "\n",
       "    .dataframe tbody tr th {\n",
       "        vertical-align: top;\n",
       "    }\n",
       "\n",
       "    .dataframe thead th {\n",
       "        text-align: right;\n",
       "    }\n",
       "</style>\n",
       "<table border=\"1\" class=\"dataframe\">\n",
       "  <thead>\n",
       "    <tr style=\"text-align: right;\">\n",
       "      <th></th>\n",
       "      <th>title</th>\n",
       "      <th>studio</th>\n",
       "      <th>domestic_gross</th>\n",
       "      <th>foreign_gross</th>\n",
       "      <th>year</th>\n",
       "    </tr>\n",
       "  </thead>\n",
       "  <tbody>\n",
       "    <tr>\n",
       "      <td>3083</td>\n",
       "      <td>Aquaman</td>\n",
       "      <td>WB</td>\n",
       "      <td>335100000.0</td>\n",
       "      <td>812700000</td>\n",
       "      <td>2018</td>\n",
       "    </tr>\n",
       "    <tr>\n",
       "      <td>3088</td>\n",
       "      <td>Fantastic Beasts: The Crimes of Grindelwald</td>\n",
       "      <td>WB</td>\n",
       "      <td>159600000.0</td>\n",
       "      <td>494100000</td>\n",
       "      <td>2018</td>\n",
       "    </tr>\n",
       "    <tr>\n",
       "      <td>3090</td>\n",
       "      <td>Ready Player One</td>\n",
       "      <td>WB</td>\n",
       "      <td>137700000.0</td>\n",
       "      <td>445200000</td>\n",
       "      <td>2018</td>\n",
       "    </tr>\n",
       "    <tr>\n",
       "      <td>3092</td>\n",
       "      <td>Detective Chinatown 2</td>\n",
       "      <td>WB</td>\n",
       "      <td>2000000.0</td>\n",
       "      <td>542100000</td>\n",
       "      <td>2018</td>\n",
       "    </tr>\n",
       "    <tr>\n",
       "      <td>3093</td>\n",
       "      <td>The Meg</td>\n",
       "      <td>WB</td>\n",
       "      <td>145400000.0</td>\n",
       "      <td>384800000</td>\n",
       "      <td>2018</td>\n",
       "    </tr>\n",
       "  </tbody>\n",
       "</table>\n",
       "</div>"
      ],
      "text/plain": [
       "                                            title studio  domestic_gross  \\\n",
       "3083                                      Aquaman     WB     335100000.0   \n",
       "3088  Fantastic Beasts: The Crimes of Grindelwald     WB     159600000.0   \n",
       "3090                             Ready Player One     WB     137700000.0   \n",
       "3092                        Detective Chinatown 2     WB       2000000.0   \n",
       "3093                                      The Meg     WB     145400000.0   \n",
       "\n",
       "     foreign_gross  year  \n",
       "3083     812700000  2018  \n",
       "3088     494100000  2018  \n",
       "3090     445200000  2018  \n",
       "3092     542100000  2018  \n",
       "3093     384800000  2018  "
      ]
     },
     "execution_count": 251,
     "metadata": {},
     "output_type": "execute_result"
    }
   ],
   "source": [
    "bom_df2018_WB.head()\n"
   ]
  },
  {
   "cell_type": "markdown",
   "metadata": {},
   "source": [
    "I'm able to make a dataframe that is filtered by year and by a single studio. Now, I would like to iterate this across all studios in 2018 "
   ]
  },
  {
   "cell_type": "code",
   "execution_count": 8,
   "metadata": {},
   "outputs": [],
   "source": [
    "#List of all studios active in 2018 \n",
    "\n",
    "bom_df.dropna(subset = ['foreign_gross'], inplace = True)"
   ]
  },
  {
   "cell_type": "code",
   "execution_count": 9,
   "metadata": {},
   "outputs": [],
   "source": [
    "bom_df2018 = bom_df.loc[bom_df['year'] == 2018]\n",
    "bom_df2018['studio'].unique()\n",
    "studios_2018 = bom_df2018['studio'].unique()"
   ]
  },
  {
   "cell_type": "code",
   "execution_count": 291,
   "metadata": {},
   "outputs": [],
   "source": [
    "\n",
    "#bom_df2018['total_gross'] = bom_df2018['domestic_gross'] + bom_df2018['foreign_gross']"
   ]
  },
  {
   "cell_type": "code",
   "execution_count": 10,
   "metadata": {},
   "outputs": [
    {
     "data": {
      "text/plain": [
       "array(['BV', 'Uni.', 'WB', 'Fox', 'Sony', 'Par.', 'WGUSA', 'WB (NL)',\n",
       "       'LGF', 'MGM', 'Studio 8', 'FoxS', 'STX', 'Focus', 'PNT', 'LG/S',\n",
       "       'A24', 'Annapurna', 'SGem', 'FIP', 'VPD', 'Global Road', 'CL',\n",
       "       'IFC', 'Affirm', 'Trafalgar', 'SPC', 'ENTMP', 'Amazon', 'BH Tilt',\n",
       "       'BST', 'Magn.', 'MBox', 'Greenwich', 'CJ', 'GK', 'Spanglish',\n",
       "       'Distrib.', 'Blue Fox', 'Scre.', 'Yash', 'Aviron', 'Cohen', 'VE',\n",
       "       'Grindstone', 'Darin Southa', 'FM'], dtype=object)"
      ]
     },
     "execution_count": 10,
     "metadata": {},
     "output_type": "execute_result"
    }
   ],
   "source": [
    "studios_2018 #here is my list of studios for 2018 "
   ]
  },
  {
   "cell_type": "markdown",
   "metadata": {},
   "source": [
    "Below is the best attempt yet at iterating through all of the studios for 2018. It's a bit bulky, especially in the directory portion (I inserted 3 lines of code for the value part of the key:value pair) but it worked!"
   ]
  },
  {
   "cell_type": "code",
   "execution_count": 70,
   "metadata": {},
   "outputs": [
    {
     "name": "stdout",
     "output_type": "stream",
     "text": [
      "{'BV': 3045600000.0, 'Uni.': 1789600000.0, 'WB': 1707900000.0, 'Fox': 840300000.0, 'Sony': 956690000.0, 'Par.': 699400000.0, 'WGUSA': 2538000.0, 'WB (NL)': 395500000.0, 'LGF': 202355400.0, 'MGM': 115700000.0, 'Studio 8': 59900000.0, 'FoxS': 66400000.0, 'STX': 261600000.0, 'Focus': 111900000.0, 'PNT': 50300000.0, 'LG/S': 77600000.0, 'A24': 44648000.0, 'Annapurna': 67300000.0, 'SGem': 92300000.0, 'FIP': 9200000.0, 'VPD': 12216000.0, 'Global Road': 34200000.0, 'CL': 70800.0, 'IFC': 9825000.0, 'Affirm': 17600000.0, 'Trafalgar': 4200000.0, 'SPC': 9600000.0, 'ENTMP': 17400000.0, 'Amazon': 15599999.0, 'BH Tilt': 20900000.0, 'BST': 18500000.0, 'Magn.': 1400.0, 'MBox': 258000.0, 'Greenwich': 1600000.0, 'CJ': 94500.0, 'GK': 35800.0, 'Spanglish': 2600000.0, 'Distrib.': 37100.0, 'Blue Fox': 91000.0, 'Scre.': 29500.0, 'Yash': 330000.0, 'Aviron': 1600000.0, 'Cohen': 200000.0, 'VE': 492300.0, 'Grindstone': 10000.0, 'Darin Southa': 93200.0, 'FM': 43200.0}\n"
     ]
    }
   ],
   "source": [
    "#Create a list of studios for 2018 \n",
    "\n",
    "bom_df2018 = bom_df.loc[bom_df['year'] == 2018]\n",
    "bom_df2018['studio'].unique()\n",
    "studios_2018 = bom_df2018['studio'].unique()\n",
    "\n",
    "studios_2018 #list of  studios in 2018 \n",
    "\n",
    "#Finding an example studio (WB) and what the studio grossed in year 2018:\n",
    "bom_df2018 = bom_df.loc[bom_df['year'] == 2018 ]\n",
    "bom_df2018_WB = bom_df2018.loc[bom_df2018['studio'] == 'WB']\n",
    "bom_df2018_WB['domestic_gross'].sum()\n",
    "\n",
    "\n",
    "#Now make a function to preform this on every studio in studios_2018 list \n",
    "#I would like a dictionary of studio and its gross for 2018 \n",
    "\n",
    "studios_2018 \n",
    "studio_gross_dic = {} #this dictionary contains studio and 2018 domestic gross \n",
    "\n",
    "#key = studio name\n",
    "#value = domestic_gross\n",
    "\n",
    "for studio in studios_2018: \n",
    "    \n",
    "    \n",
    "    bom_df2018 = bom_df.loc[bom_df['year'] == 2018 ]\n",
    "    bom_df2018_WB = bom_df2018.loc[bom_df2018['studio'] == studio]\n",
    "    bom_df2018_WB['domestic_gross'].sum()\n",
    "\n",
    "    studio_gross_dic.update({studio : bom_df2018_WB['domestic_gross'].sum()\n",
    "                             \n",
    "                             })\n",
    "                             \n",
    "                            \n",
    "print(studio_gross_dic)"
   ]
  },
  {
   "cell_type": "code",
   "execution_count": 12,
   "metadata": {},
   "outputs": [
    {
     "data": {
      "image/png": "[encoded data removed]",
      "text/plain": [
       "<Figure size 432x288 with 1 Axes>"
      ]
     },
     "metadata": {
      "needs_background": "light"
     },
     "output_type": "display_data"
    }
   ],
   "source": [
    "import matplotlib.pylab as plt\n",
    "\n",
    "lists = sorted(studio_gross_dic.items()) # sorted by key, return a list of tuples\n",
    "\n",
    "x, y = zip(*lists) # unpack a list of pairs into two tuples\n",
    "\n",
    "plt.plot(x, y)\n",
    "plt.show()"
   ]
  },
  {
   "cell_type": "code",
   "execution_count": 18,
   "metadata": {},
   "outputs": [],
   "source": [
    "studio_gross = pd.DataFrame(list(studio_gross_dic.items()), columns=['studio','domestic_gross'])\n",
    "top_10 = studio_gross.sort_values(by ='domestic_gross', ascending=False).head(10)"
   ]
  },
  {
   "cell_type": "code",
   "execution_count": 64,
   "metadata": {},
   "outputs": [
    {
     "data": {
      "text/plain": [
       "Text(0.5, 1.0, 'Top 10 Domestic Grossing Studios 2018')"
      ]
     },
     "execution_count": 64,
     "metadata": {},
     "output_type": "execute_result"
    },
    {
     "data": {
      "image/png": "[encoded data removed]",
      "text/plain": [
       "<Figure size 432x288 with 1 Axes>"
      ]
     },
     "metadata": {
      "needs_background": "light"
     },
     "output_type": "display_data"
    }
   ],
   "source": [
    "top_10['total_domestic_gross_billions'] = (top_10['domestic_gross']/1000000000)\n",
    "\n",
    "sns.barplot(x=\"studio\", y=\"total_domestic_gross_billions\", palette= 'pastel', color= 'blue', data=top_10)\n",
    "plt.title('Top 10 Domestic Grossing Studios 2018')"
   ]
  },
  {
   "cell_type": "markdown",
   "metadata": {},
   "source": [
    "Now, do the same for 2016"
   ]
  },
  {
   "cell_type": "code",
   "execution_count": 71,
   "metadata": {},
   "outputs": [
    {
     "name": "stdout",
     "output_type": "stream",
     "text": [
      "{'BV': 2378200000.0, 'Uni.': 1443500000.0, 'Sony': 1062636000.0, 'HC': 2700000.0, 'WB': 1479400000.0, 'WB (NL)': 532400000.0, 'Fox': 1345000000.0, 'Par.': 484699999.0, 'FUN': 5424000.0, 'SGem': 57200000.0, 'LGF': 422465000.0, 'WGUSA': 2081000.0, 'GrtIndia': 20200000.0, 'TriS': 135300000.0, 'STX': 206800000.0, 'FoxS': 154200000.0, 'LG/S': 224900000.0, 'CL': 865000.0, 'Focus': 179900000.0, nan: 0.0, 'Wein.': 44556000.0, 'Yash': 5600000.0, 'A24': 84100000.0, 'ORF': 59699999.0, 'PNT': 32100000.0, 'CJ': 1576000.0, 'Neon': 30000000.0, 'BST': 36400000.0, 'Good Deed': 6700000.0, 'SPC': 19791000.0, 'ParC': 5900.0, 'FIP': 6334000.0, 'Elev.': 1500000.0, 'PFR': 14700000.0, 'Amazon': 1400000.0, 'BBC': 81300.0, 'FR': 211000.0, 'RAtt.': 14824000.0, 'IFC': 1275700.0, 'W/Dim.': 700.0, 'BG': 6223000.0, 'Affirm': 5800000.0, 'Distrib.': 1000000.0, 'Annapurna': 2100000.0, 'FCW': 515000.0, 'Imax': 1500000.0, 'Magn.': 528000.0, 'MOM': 14800.0, 'Vita.': 360000.0}\n"
     ]
    }
   ],
   "source": [
    "\n",
    "bom_df2017 = bom_df.loc[bom_df['year'] == 2017]\n",
    "bom_df2017['studio'].unique()\n",
    "studios_2017 = bom_df2017['studio'].unique()\n",
    "\n",
    "studios_2017 #list of  studios in 2017 \n",
    "\n",
    "#Finding an example studio (WB) and what the studio grossed in year 2018:\n",
    "bom_df2017 = bom_df.loc[bom_df['year'] == 2017 ]\n",
    "bom_df2017_WB = bom_df2017.loc[bom_df2017['studio'] == 'WB']\n",
    "bom_df2017_WB['domestic_gross'].sum()\n",
    "\n",
    "\n",
    "#Now make a function to preform this on every studio in studios_2018 list \n",
    "#I would like a dictionary of studio and its gross for 2018 \n",
    "\n",
    "studios_2017 \n",
    "studio_gross_dic2017 = {} #this dictionary contains studio and 2018 domestic gross \n",
    "\n",
    "#key = studio name\n",
    "#value = domestic_gross\n",
    "\n",
    "for studio in studios_2017: \n",
    "    \n",
    "    \n",
    "    bom_df2017 = bom_df.loc[bom_df['year'] == 2017 ]\n",
    "    bom_df2017_WB = bom_df2017.loc[bom_df2017['studio'] == studio]\n",
    "    bom_df2017_WB['domestic_gross'].sum()\n",
    "\n",
    "    studio_gross_dic2017.update({studio : bom_df2017_WB['domestic_gross'].sum()\n",
    "                             \n",
    "                             })\n",
    "                             \n",
    "                            \n",
    "print(studio_gross_dic2017)\n"
   ]
  },
  {
   "cell_type": "code",
   "execution_count": 69,
   "metadata": {},
   "outputs": [],
   "source": [
    "studio_gross_2017 = pd.DataFrame(list(studio_gross_dic2017.items()), columns=['studio','domestic_gross'])\n",
    "top_10_2017 = studio_gross_2017.sort_values(by ='domestic_gross', ascending=False).head(10)"
   ]
  },
  {
   "cell_type": "code",
   "execution_count": 68,
   "metadata": {},
   "outputs": [
    {
     "data": {
      "text/plain": [
       "Text(0.5, 1.0, 'Top 10 Domestic Grossing Studios 2017')"
      ]
     },
     "execution_count": 68,
     "metadata": {},
     "output_type": "execute_result"
    },
    {
     "data": {
      "image/png": "[encoded data removed]",
      "text/plain": [
       "<Figure size 432x288 with 1 Axes>"
      ]
     },
     "metadata": {
      "needs_background": "light"
     },
     "output_type": "display_data"
    }
   ],
   "source": [
    "\n",
    "top_10_2017['total_domestic_gross_billions'] = (top_10_2017['domestic_gross']/1000000000)\n",
    "\n",
    "sns.barplot(x=\"studio\", y=\"total_domestic_gross_billions\", palette= 'pastel', color= 'blue', data=top_10_2017)\n",
    "plt.title('Top 10 Domestic Grossing Studios 2017')"
   ]
  },
  {
   "cell_type": "code",
   "execution_count": 154,
   "metadata": {},
   "outputs": [],
   "source": [
    "df = bom_df"
   ]
  },
  {
   "cell_type": "markdown",
   "metadata": {},
   "source": [
    "Below was some miscellaneous code accessing movie production "
   ]
  },
  {
   "cell_type": "markdown",
   "metadata": {},
   "source": [
    "# What were the most active studios in the past 5 years in terms of movie production?"
   ]
  },
  {
   "cell_type": "markdown",
   "metadata": {},
   "source": [
    "How many active studios in 2018 "
   ]
  },
  {
   "cell_type": "code",
   "execution_count": 66,
   "metadata": {},
   "outputs": [
    {
     "data": {
      "text/plain": [
       "47"
      ]
     },
     "execution_count": 66,
     "metadata": {},
     "output_type": "execute_result"
    }
   ],
   "source": [
    "df_studios = bom_df.loc[bom_df['year'] == 2018]\n",
    "len(bom_df2018['studio'].unique())"
   ]
  },
  {
   "cell_type": "code",
   "execution_count": null,
   "metadata": {},
   "outputs": [],
   "source": []
  },
  {
   "cell_type": "markdown",
   "metadata": {},
   "source": [
    "How many active studios in 2017"
   ]
  },
  {
   "cell_type": "code",
   "execution_count": 67,
   "metadata": {},
   "outputs": [
    {
     "data": {
      "text/plain": [
       "49"
      ]
     },
     "execution_count": 67,
     "metadata": {},
     "output_type": "execute_result"
    }
   ],
   "source": [
    "bom_df2017 = bom_df.loc[bom_df['year'] == 2017]\n",
    "len(bom_df2017['studio'].unique())"
   ]
  },
  {
   "cell_type": "markdown",
   "metadata": {},
   "source": [
    "How many active studios in 2016"
   ]
  },
  {
   "cell_type": "code",
   "execution_count": 129,
   "metadata": {},
   "outputs": [
    {
     "data": {
      "text/plain": [
       "92"
      ]
     },
     "execution_count": 129,
     "metadata": {},
     "output_type": "execute_result"
    }
   ],
   "source": [
    "bom_df2016 = bom_df.loc[bom_df['year'] == 2016]\n",
    "len(bom_df2016['studio'].unique())"
   ]
  },
  {
   "cell_type": "markdown",
   "metadata": {},
   "source": [
    "How many active studios in 2015\n"
   ]
  },
  {
   "cell_type": "code",
   "execution_count": 133,
   "metadata": {},
   "outputs": [
    {
     "data": {
      "text/plain": [
       "94"
      ]
     },
     "execution_count": 133,
     "metadata": {},
     "output_type": "execute_result"
    }
   ],
   "source": [
    "bom_df2015 = bom_df.loc[bom_df['year'] == 2015]\n",
    "len(bom_df2015['studio'].unique())"
   ]
  },
  {
   "cell_type": "markdown",
   "metadata": {},
   "source": [
    "How many active studios in 2014\n"
   ]
  },
  {
   "cell_type": "code",
   "execution_count": 136,
   "metadata": {},
   "outputs": [
    {
     "data": {
      "text/plain": [
       "81"
      ]
     },
     "execution_count": 136,
     "metadata": {},
     "output_type": "execute_result"
    }
   ],
   "source": [
    "bom_df2014 = bom_df.loc[bom_df['year'] == 2014]\n",
    "len(bom_df2014['studio'].unique())"
   ]
  },
  {
   "cell_type": "code",
   "execution_count": null,
   "metadata": {},
   "outputs": [],
   "source": [
    "studio_df = pd.DataFrame(bom_df2018.groupby('studio').sum())['']"
   ]
  },
  {
   "cell_type": "code",
   "execution_count": null,
   "metadata": {},
   "outputs": [],
   "source": []
  }
 ],
 "metadata": {
  "kernelspec": {
   "display_name": "Python 3",
   "language": "python",
   "name": "python3"
  },
  "language_info": {
   "codemirror_mode": {
    "name": "ipython",
    "version": 3
   },
   "file_extension": ".py",
   "mimetype": "text/x-python",
   "name": "python",
   "nbconvert_exporter": "python",
   "pygments_lexer": "ipython3",
   "version": "3.7.4"
  }
 },
 "nbformat": 4,
 "nbformat_minor": 4
}
