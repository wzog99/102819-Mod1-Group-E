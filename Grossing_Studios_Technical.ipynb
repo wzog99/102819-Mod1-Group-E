{
 "cells": [
  {
   "cell_type": "markdown",
   "metadata": {},
   "source": [
    "# Technical : What were the Top 10 Grossing Studios, per year, over the past Decade"
   ]
  },
  {
   "cell_type": "code",
   "execution_count": 147,
   "metadata": {},
   "outputs": [],
   "source": [
    "import pandas as pd\n",
    "import numpy as np\n",
    "import matplotlib.pyplot as plt\n",
    "import seaborn as sns\n",
    "%matplotlib inline\n",
    "import cleaner\n",
    "import studio_formulas\n",
    "%reload_ext autoreload\n",
    "%autoreload 2"
   ]
  },
  {
   "cell_type": "markdown",
   "metadata": {},
   "source": [
    "### Preform Exploratory Data Analysis: bom_df dataset \n"
   ]
  },
  {
   "cell_type": "markdown",
   "metadata": {},
   "source": [
    "In the following, steps we explored the bom_df dataset utilize the .shape, .items, .doctype methods "
   ]
  },
  {
   "cell_type": "code",
   "execution_count": 138,
   "metadata": {},
   "outputs": [
    {
     "data": {
      "text/plain": [
       "Index(['title', 'studio', 'domestic_gross', 'foreign_gross', 'year'], dtype='object')"
      ]
     },
     "execution_count": 138,
     "metadata": {},
     "output_type": "execute_result"
    }
   ],
   "source": [
    "bom_df = pd.read_csv('data/bom.movie_gross.csv') #import the bom_df dataset\n",
    "bom_df.columns"
   ]
  },
  {
   "cell_type": "code",
   "execution_count": 139,
   "metadata": {},
   "outputs": [
    {
     "data": {
      "text/plain": [
       "(3387, 5)"
      ]
     },
     "execution_count": 139,
     "metadata": {},
     "output_type": "execute_result"
    }
   ],
   "source": [
    "bom_df.shape #here we see that our dataframe is 3387 rows by 5 columns"
   ]
  },
  {
   "cell_type": "code",
   "execution_count": 140,
   "metadata": {},
   "outputs": [
    {
     "name": "stdout",
     "output_type": "stream",
     "text": [
      "<class 'pandas.core.frame.DataFrame'>\n",
      "RangeIndex: 3387 entries, 0 to 3386\n",
      "Data columns (total 5 columns):\n",
      "title             3387 non-null object\n",
      "studio            3382 non-null object\n",
      "domestic_gross    3359 non-null float64\n",
      "foreign_gross     2037 non-null object\n",
      "year              3387 non-null int64\n",
      "dtypes: float64(1), int64(1), object(3)\n",
      "memory usage: 132.4+ KB\n"
     ]
    }
   ],
   "source": [
    "bom_df.info()"
   ]
  },
  {
   "cell_type": "markdown",
   "metadata": {},
   "source": [
    "The .info() method allows us to see how much cleaning we need to do of our indices. It looks like the foreign_gross may present some issues with missing data. This would be a good column to drop."
   ]
  },
  {
   "cell_type": "code",
   "execution_count": 141,
   "metadata": {},
   "outputs": [
    {
     "data": {
      "text/plain": [
       "RangeIndex(start=0, stop=3387, step=1)"
      ]
     },
     "execution_count": 141,
     "metadata": {},
     "output_type": "execute_result"
    }
   ],
   "source": [
    "bom_df.index"
   ]
  },
  {
   "cell_type": "code",
   "execution_count": 205,
   "metadata": {},
   "outputs": [
    {
     "data": {
      "text/plain": [
       "title              object\n",
       "studio             object\n",
       "domestic_gross    float64\n",
       "foreign_gross      object\n",
       "year                int64\n",
       "dtype: object"
      ]
     },
     "execution_count": 205,
     "metadata": {},
     "output_type": "execute_result"
    }
   ],
   "source": [
    "bom_df.dtypes"
   ]
  },
  {
   "cell_type": "markdown",
   "metadata": {},
   "source": [
    "### Define our Question: how do you begin to organize by year, studio, and domestic gross?"
   ]
  },
  {
   "cell_type": "code",
   "execution_count": 4,
   "metadata": {},
   "outputs": [
    {
     "data": {
      "text/html": [
       "<div>\n",
       "<style scoped>\n",
       "    .dataframe tbody tr th:only-of-type {\n",
       "        vertical-align: middle;\n",
       "    }\n",
       "\n",
       "    .dataframe tbody tr th {\n",
       "        vertical-align: top;\n",
       "    }\n",
       "\n",
       "    .dataframe thead th {\n",
       "        text-align: right;\n",
       "    }\n",
       "</style>\n",
       "<table border=\"1\" class=\"dataframe\">\n",
       "  <thead>\n",
       "    <tr style=\"text-align: right;\">\n",
       "      <th></th>\n",
       "      <th>studio</th>\n",
       "      <th>domestic_gross</th>\n",
       "      <th>year</th>\n",
       "    </tr>\n",
       "  </thead>\n",
       "  <tbody>\n",
       "    <tr>\n",
       "      <td>0</td>\n",
       "      <td>BV</td>\n",
       "      <td>415000000.0</td>\n",
       "      <td>2010</td>\n",
       "    </tr>\n",
       "    <tr>\n",
       "      <td>1</td>\n",
       "      <td>BV</td>\n",
       "      <td>334200000.0</td>\n",
       "      <td>2010</td>\n",
       "    </tr>\n",
       "    <tr>\n",
       "      <td>2</td>\n",
       "      <td>WB</td>\n",
       "      <td>296000000.0</td>\n",
       "      <td>2010</td>\n",
       "    </tr>\n",
       "    <tr>\n",
       "      <td>3</td>\n",
       "      <td>WB</td>\n",
       "      <td>292600000.0</td>\n",
       "      <td>2010</td>\n",
       "    </tr>\n",
       "    <tr>\n",
       "      <td>4</td>\n",
       "      <td>P/DW</td>\n",
       "      <td>238700000.0</td>\n",
       "      <td>2010</td>\n",
       "    </tr>\n",
       "  </tbody>\n",
       "</table>\n",
       "</div>"
      ],
      "text/plain": [
       "  studio  domestic_gross  year\n",
       "0     BV     415000000.0  2010\n",
       "1     BV     334200000.0  2010\n",
       "2     WB     296000000.0  2010\n",
       "3     WB     292600000.0  2010\n",
       "4   P/DW     238700000.0  2010"
      ]
     },
     "execution_count": 4,
     "metadata": {},
     "output_type": "execute_result"
    }
   ],
   "source": [
    "studio_gross = bom_df[['studio','domestic_gross','year']]\n",
    "studio_gross.head()"
   ]
  },
  {
   "cell_type": "markdown",
   "metadata": {},
   "source": [
    "Above is our new dataframe studio_gross containing the essentail columns needed to answer our question"
   ]
  },
  {
   "cell_type": "markdown",
   "metadata": {},
   "source": [
    "We can further approach this question with the groupby function. This is a first go, but it appears that the groupby function will be a critical commponent to achieving our answer. The output below breaks out each year 2010 - 2018 and the number of studios, but it's missing the domestic gross\n"
   ]
  },
  {
   "cell_type": "code",
   "execution_count": 5,
   "metadata": {},
   "outputs": [
    {
     "data": {
      "text/plain": [
       "{2010: Int64Index([  0,   1,   2,   3,   4,   5,   6,   7,   8,   9,\n",
       "             ...\n",
       "             318, 319, 320, 321, 322, 323, 324, 325, 326, 327],\n",
       "            dtype='int64', length=328),\n",
       " 2011: Int64Index([328, 329, 330, 331, 332, 333, 334, 335, 336, 337,\n",
       "             ...\n",
       "             717, 718, 719, 720, 721, 722, 723, 724, 725, 726],\n",
       "            dtype='int64', length=399),\n",
       " 2012: Int64Index([ 727,  728,  729,  730,  731,  732,  733,  734,  735,  736,\n",
       "             ...\n",
       "             1117, 1118, 1119, 1120, 1121, 1122, 1123, 1124, 1125, 1126],\n",
       "            dtype='int64', length=400),\n",
       " 2013: Int64Index([1127, 1128, 1129, 1130, 1131, 1132, 1133, 1134, 1135, 1136,\n",
       "             ...\n",
       "             1467, 1468, 1469, 1470, 1471, 1472, 1473, 1474, 1475, 1476],\n",
       "            dtype='int64', length=350),\n",
       " 2014: Int64Index([1477, 1478, 1479, 1480, 1481, 1482, 1483, 1484, 1485, 1486,\n",
       "             ...\n",
       "             1862, 1863, 1864, 1865, 1866, 1867, 1868, 1869, 1870, 1871],\n",
       "            dtype='int64', length=395),\n",
       " 2015: Int64Index([1872, 1873, 1874, 1875, 1876, 1877, 1878, 1879, 1880, 1881,\n",
       "             ...\n",
       "             2312, 2313, 2314, 2315, 2316, 2317, 2318, 2319, 2320, 2321],\n",
       "            dtype='int64', length=450),\n",
       " 2016: Int64Index([2322, 2323, 2324, 2325, 2326, 2327, 2328, 2329, 2330, 2331,\n",
       "             ...\n",
       "             2748, 2749, 2750, 2751, 2752, 2753, 2754, 2755, 2756, 2757],\n",
       "            dtype='int64', length=436),\n",
       " 2017: Int64Index([2758, 2759, 2760, 2761, 2762, 2763, 2764, 2765, 2766, 2767,\n",
       "             ...\n",
       "             3069, 3070, 3071, 3072, 3073, 3074, 3075, 3076, 3077, 3078],\n",
       "            dtype='int64', length=321),\n",
       " 2018: Int64Index([3079, 3080, 3081, 3082, 3083, 3084, 3085, 3086, 3087, 3088,\n",
       "             ...\n",
       "             3377, 3378, 3379, 3380, 3381, 3382, 3383, 3384, 3385, 3386],\n",
       "            dtype='int64', length=308)}"
      ]
     },
     "execution_count": 5,
     "metadata": {},
     "output_type": "execute_result"
    }
   ],
   "source": [
    "studio_gross.groupby(['year', 'studio', 'domestic_gross']).groups\n",
    "studio_gross.groupby('year').groups"
   ]
  },
  {
   "cell_type": "markdown",
   "metadata": {},
   "source": [
    "### continuing to figure out how to organize the data..."
   ]
  },
  {
   "cell_type": "markdown",
   "metadata": {},
   "source": [
    "this is a step in the right direction, the groupby function was able to group the dataframe by year and studio. \n",
    "the .groups method then was able to displays this data \n",
    "to improve this data, we would like to add in domestic_gross data"
   ]
  },
  {
   "cell_type": "markdown",
   "metadata": {},
   "source": [
    "Perhaps we need a list of all of the studios we're working with. This studio list may come in handy in order to preform a future sort"
   ]
  },
  {
   "cell_type": "code",
   "execution_count": 6,
   "metadata": {},
   "outputs": [],
   "source": [
    "studio_list = bom_df['studio'].unique()"
   ]
  },
  {
   "cell_type": "markdown",
   "metadata": {},
   "source": [
    "By utilizing the .unique method, the code above gives us a list of studios "
   ]
  },
  {
   "cell_type": "code",
   "execution_count": 7,
   "metadata": {},
   "outputs": [
    {
     "name": "stdout",
     "output_type": "stream",
     "text": [
      "['BV' 'WB' 'P/DW' 'Sum.' 'Par.' 'Uni.' 'Fox' 'Wein.' 'Sony' 'FoxS' 'SGem'\n",
      " 'WB (NL)' 'LGF' 'MBox' 'CL' 'W/Dim.' 'CBS' 'Focus' 'MGM' 'Over.' 'Mira.'\n",
      " 'IFC' 'CJ' 'NM' 'SPC' 'ParV' 'Gold.' 'JS' 'RAtt.' 'Magn.' 'Free' '3D'\n",
      " 'UTV' 'Rela.' 'Zeit.' 'Anch.' 'PDA' 'Lorb.' 'App.' 'Drft.' 'Osci.' 'IW'\n",
      " 'Rog.' nan 'Eros' 'Relbig.' 'Viv.' 'Hann.' 'Strand' 'NGE' 'Scre.' 'Kino'\n",
      " 'Abr.' 'CZ' 'ATO' 'First' 'GK' 'FInd.' 'NFC' 'TFC' 'Pala.' 'Imag.' 'NAV'\n",
      " 'Arth.' 'CLS' 'Mont.' 'Olive' 'CGld' 'FOAK' 'IVP' 'Yash' 'ICir' 'FM'\n",
      " 'Vita.' 'WOW' 'Truly' 'Indic.' 'FD' 'Vari.' 'TriS' 'ORF' 'IM' 'Elev.'\n",
      " 'Cohen' 'NeoC' 'Jan.' 'MNE' 'Trib.' 'Rocket' 'OMNI/FSR' 'KKM' 'Argo.'\n",
      " 'SMod' 'Libre' 'FRun' 'WHE' 'P4' 'KC' 'SD' 'AM' 'MPFT' 'Icar.' 'AGF'\n",
      " 'A23' 'Da.' 'NYer' 'Rialto' 'DF' 'KL' 'ALP' 'LG/S' 'WGUSA' 'MPI' 'RTWC'\n",
      " 'FIP' 'RF' 'ArcEnt' 'PalUni' 'EpicPics' 'EOne' 'LD' 'AF' 'TFA' 'Myr.'\n",
      " 'BM&DH' 'SEG' 'PalT' 'Outs' 'OutF' 'BSM' 'WAMCR' 'PM&E' 'A24' 'Cdgm.'\n",
      " 'Distrib.' 'Imax' 'PH' 'HTR' 'ELS' 'PI' 'E1' 'TVC' 'FEF' 'EXCL' 'MSF'\n",
      " 'P/108' 'FCW' 'XL' 'Shout!' 'SV' 'CE' 'VPD' 'KE' 'Saban' 'CF&SR' 'Triu'\n",
      " 'DR' 'Crnth' 'Ampl.' 'CP' 'Proud' 'BGP' 'Abk.' 'DLA' 'B360' 'BWP' 'SEA'\n",
      " 'RME' 'KS' 'VE' 'LGP' 'EC' 'FUN' 'STX' 'AR' 'BG' 'PFR' 'BST' 'BH Tilt'\n",
      " 'BSC' 'U/P' 'UHE' 'CLF' 'FR' 'AaF' 'Orch.' 'Alc' 'PBS' 'SHO' 'Grav.'\n",
      " 'Gathr' 'Asp.' 'ADC' 'Rel.' 'SM' 'AZ' 'UEP' 'ITL' 'TA' 'MR' 'BBC'\n",
      " 'CFilms' 'Part.' 'FOR' 'TAFC' 'JBG' 'PNT' 'CineGalaxy' 'Fathom' 'Zee'\n",
      " 'Men.' 'YFG' 'Gaatri' 'Mon' 'Ghop' 'Cleopatra' 'Dreamwest' 'SDS' 'Linn'\n",
      " 'Electric' 'Jampa' 'HC' 'GrtIndia' 'Neon' 'ENTMP' 'Good Deed' 'ParC'\n",
      " 'Aviron' 'Annapurna' 'Amazon' 'Affirm' 'MOM' 'Orion' 'CFI' 'UTMW'\n",
      " 'Crimson' 'CAVU' 'EF' 'Arrow' 'Hiber' 'Studio 8' 'Global Road'\n",
      " 'Trafalgar' 'Greenwich' 'Spanglish' 'Blue Fox' 'RLJ' 'Swen' 'PackYourBag'\n",
      " 'Gaum.' 'Grindstone' 'Conglomerate' 'MUBI' 'Darin Southa' 'Super'\n",
      " 'CARUSEL' 'PDF' 'Synergetic']\n"
     ]
    }
   ],
   "source": [
    "print(studio_list)"
   ]
  },
  {
   "cell_type": "markdown",
   "metadata": {},
   "source": [
    "We're moving in the right direction. Below is an even better appraoch at answering our question. We've utilized the groupby., value_counts, and reset_index method in order to count the number of movies a studio produced by year. This is stil missing the domestic gross component. "
   ]
  },
  {
   "cell_type": "code",
   "execution_count": 4,
   "metadata": {},
   "outputs": [
    {
     "data": {
      "text/html": [
       "<div>\n",
       "<style scoped>\n",
       "    .dataframe tbody tr th:only-of-type {\n",
       "        vertical-align: middle;\n",
       "    }\n",
       "\n",
       "    .dataframe tbody tr th {\n",
       "        vertical-align: top;\n",
       "    }\n",
       "\n",
       "    .dataframe thead th {\n",
       "        text-align: right;\n",
       "    }\n",
       "</style>\n",
       "<table border=\"1\" class=\"dataframe\">\n",
       "  <thead>\n",
       "    <tr style=\"text-align: right;\">\n",
       "      <th></th>\n",
       "      <th>year</th>\n",
       "      <th>studio</th>\n",
       "      <th>counts</th>\n",
       "    </tr>\n",
       "  </thead>\n",
       "  <tbody>\n",
       "    <tr>\n",
       "      <td>0</td>\n",
       "      <td>2010</td>\n",
       "      <td>IFC</td>\n",
       "      <td>22</td>\n",
       "    </tr>\n",
       "    <tr>\n",
       "      <td>1</td>\n",
       "      <td>2010</td>\n",
       "      <td>SPC</td>\n",
       "      <td>19</td>\n",
       "    </tr>\n",
       "    <tr>\n",
       "      <td>2</td>\n",
       "      <td>2010</td>\n",
       "      <td>WB</td>\n",
       "      <td>19</td>\n",
       "    </tr>\n",
       "    <tr>\n",
       "      <td>3</td>\n",
       "      <td>2010</td>\n",
       "      <td>Fox</td>\n",
       "      <td>17</td>\n",
       "    </tr>\n",
       "    <tr>\n",
       "      <td>4</td>\n",
       "      <td>2010</td>\n",
       "      <td>Magn.</td>\n",
       "      <td>16</td>\n",
       "    </tr>\n",
       "    <tr>\n",
       "      <td>...</td>\n",
       "      <td>...</td>\n",
       "      <td>...</td>\n",
       "      <td>...</td>\n",
       "    </tr>\n",
       "    <tr>\n",
       "      <td>737</td>\n",
       "      <td>2018</td>\n",
       "      <td>Swen</td>\n",
       "      <td>1</td>\n",
       "    </tr>\n",
       "    <tr>\n",
       "      <td>738</td>\n",
       "      <td>2018</td>\n",
       "      <td>Synergetic</td>\n",
       "      <td>1</td>\n",
       "    </tr>\n",
       "    <tr>\n",
       "      <td>739</td>\n",
       "      <td>2018</td>\n",
       "      <td>Trafalgar</td>\n",
       "      <td>1</td>\n",
       "    </tr>\n",
       "    <tr>\n",
       "      <td>740</td>\n",
       "      <td>2018</td>\n",
       "      <td>Vita.</td>\n",
       "      <td>1</td>\n",
       "    </tr>\n",
       "    <tr>\n",
       "      <td>741</td>\n",
       "      <td>2018</td>\n",
       "      <td>Yash</td>\n",
       "      <td>1</td>\n",
       "    </tr>\n",
       "  </tbody>\n",
       "</table>\n",
       "<p>742 rows × 3 columns</p>\n",
       "</div>"
      ],
      "text/plain": [
       "     year      studio  counts\n",
       "0    2010         IFC      22\n",
       "1    2010         SPC      19\n",
       "2    2010          WB      19\n",
       "3    2010         Fox      17\n",
       "4    2010       Magn.      16\n",
       "..    ...         ...     ...\n",
       "737  2018        Swen       1\n",
       "738  2018  Synergetic       1\n",
       "739  2018   Trafalgar       1\n",
       "740  2018       Vita.       1\n",
       "741  2018        Yash       1\n",
       "\n",
       "[742 rows x 3 columns]"
      ]
     },
     "execution_count": 4,
     "metadata": {},
     "output_type": "execute_result"
    }
   ],
   "source": [
    "bom_df.groupby('year').studio.value_counts().reset_index(name='counts')\n"
   ]
  },
  {
   "cell_type": "markdown",
   "metadata": {},
   "source": [
    "Here's another version of the groupby function and value counts "
   ]
  },
  {
   "cell_type": "code",
   "execution_count": 231,
   "metadata": {},
   "outputs": [
    {
     "data": {
      "text/plain": [
       "year  studio    \n",
       "2010  IFC           22\n",
       "      SPC           19\n",
       "      WB            19\n",
       "      Fox           17\n",
       "      Magn.         16\n",
       "                    ..\n",
       "2018  Swen           1\n",
       "      Synergetic     1\n",
       "      Trafalgar      1\n",
       "      Vita.          1\n",
       "      Yash           1\n",
       "Name: studio, Length: 742, dtype: int64"
      ]
     },
     "execution_count": 231,
     "metadata": {},
     "output_type": "execute_result"
    }
   ],
   "source": [
    "bom_df.groupby('year').studio.value_counts()"
   ]
  },
  {
   "cell_type": "markdown",
   "metadata": {},
   "source": [
    "This is great progress. However, how do we incorporate domestic gross? "
   ]
  },
  {
   "cell_type": "code",
   "execution_count": 9,
   "metadata": {},
   "outputs": [
    {
     "data": {
      "text/plain": [
       "<pandas.core.groupby.generic.SeriesGroupBy object at 0x1070d6470>"
      ]
     },
     "execution_count": 9,
     "metadata": {},
     "output_type": "execute_result"
    }
   ],
   "source": [
    "bom_df.groupby(['year','studio'])['domestic_gross']"
   ]
  },
  {
   "cell_type": "code",
   "execution_count": 10,
   "metadata": {},
   "outputs": [],
   "source": [
    "bom_dfdf = bom_df.groupby(['studio','domestic_gross'])\n"
   ]
  },
  {
   "cell_type": "code",
   "execution_count": 5,
   "metadata": {},
   "outputs": [
    {
     "data": {
      "text/html": [
       "<div>\n",
       "<style scoped>\n",
       "    .dataframe tbody tr th:only-of-type {\n",
       "        vertical-align: middle;\n",
       "    }\n",
       "\n",
       "    .dataframe tbody tr th {\n",
       "        vertical-align: top;\n",
       "    }\n",
       "\n",
       "    .dataframe thead th {\n",
       "        text-align: right;\n",
       "    }\n",
       "</style>\n",
       "<table border=\"1\" class=\"dataframe\">\n",
       "  <thead>\n",
       "    <tr style=\"text-align: right;\">\n",
       "      <th></th>\n",
       "      <th>title</th>\n",
       "      <th>studio</th>\n",
       "      <th>domestic_gross</th>\n",
       "      <th>foreign_gross</th>\n",
       "      <th>year</th>\n",
       "    </tr>\n",
       "  </thead>\n",
       "  <tbody>\n",
       "    <tr>\n",
       "      <td>3079</td>\n",
       "      <td>Avengers: Infinity War</td>\n",
       "      <td>BV</td>\n",
       "      <td>678800000.0</td>\n",
       "      <td>1,369.5</td>\n",
       "      <td>2018</td>\n",
       "    </tr>\n",
       "    <tr>\n",
       "      <td>3080</td>\n",
       "      <td>Black Panther</td>\n",
       "      <td>BV</td>\n",
       "      <td>700100000.0</td>\n",
       "      <td>646900000</td>\n",
       "      <td>2018</td>\n",
       "    </tr>\n",
       "    <tr>\n",
       "      <td>3081</td>\n",
       "      <td>Jurassic World: Fallen Kingdom</td>\n",
       "      <td>Uni.</td>\n",
       "      <td>417700000.0</td>\n",
       "      <td>891800000</td>\n",
       "      <td>2018</td>\n",
       "    </tr>\n",
       "    <tr>\n",
       "      <td>3082</td>\n",
       "      <td>Incredibles 2</td>\n",
       "      <td>BV</td>\n",
       "      <td>608600000.0</td>\n",
       "      <td>634200000</td>\n",
       "      <td>2018</td>\n",
       "    </tr>\n",
       "    <tr>\n",
       "      <td>3083</td>\n",
       "      <td>Aquaman</td>\n",
       "      <td>WB</td>\n",
       "      <td>335100000.0</td>\n",
       "      <td>812700000</td>\n",
       "      <td>2018</td>\n",
       "    </tr>\n",
       "    <tr>\n",
       "      <td>...</td>\n",
       "      <td>...</td>\n",
       "      <td>...</td>\n",
       "      <td>...</td>\n",
       "      <td>...</td>\n",
       "      <td>...</td>\n",
       "    </tr>\n",
       "    <tr>\n",
       "      <td>3382</td>\n",
       "      <td>The Quake</td>\n",
       "      <td>Magn.</td>\n",
       "      <td>6200.0</td>\n",
       "      <td>NaN</td>\n",
       "      <td>2018</td>\n",
       "    </tr>\n",
       "    <tr>\n",
       "      <td>3383</td>\n",
       "      <td>Edward II (2018 re-release)</td>\n",
       "      <td>FM</td>\n",
       "      <td>4800.0</td>\n",
       "      <td>NaN</td>\n",
       "      <td>2018</td>\n",
       "    </tr>\n",
       "    <tr>\n",
       "      <td>3384</td>\n",
       "      <td>El Pacto</td>\n",
       "      <td>Sony</td>\n",
       "      <td>2500.0</td>\n",
       "      <td>NaN</td>\n",
       "      <td>2018</td>\n",
       "    </tr>\n",
       "    <tr>\n",
       "      <td>3385</td>\n",
       "      <td>The Swan</td>\n",
       "      <td>Synergetic</td>\n",
       "      <td>2400.0</td>\n",
       "      <td>NaN</td>\n",
       "      <td>2018</td>\n",
       "    </tr>\n",
       "    <tr>\n",
       "      <td>3386</td>\n",
       "      <td>An Actor Prepares</td>\n",
       "      <td>Grav.</td>\n",
       "      <td>1700.0</td>\n",
       "      <td>NaN</td>\n",
       "      <td>2018</td>\n",
       "    </tr>\n",
       "  </tbody>\n",
       "</table>\n",
       "<p>308 rows × 5 columns</p>\n",
       "</div>"
      ],
      "text/plain": [
       "                               title      studio  domestic_gross  \\\n",
       "3079          Avengers: Infinity War          BV     678800000.0   \n",
       "3080                   Black Panther          BV     700100000.0   \n",
       "3081  Jurassic World: Fallen Kingdom        Uni.     417700000.0   \n",
       "3082                   Incredibles 2          BV     608600000.0   \n",
       "3083                         Aquaman          WB     335100000.0   \n",
       "...                              ...         ...             ...   \n",
       "3382                       The Quake       Magn.          6200.0   \n",
       "3383     Edward II (2018 re-release)          FM          4800.0   \n",
       "3384                        El Pacto        Sony          2500.0   \n",
       "3385                        The Swan  Synergetic          2400.0   \n",
       "3386               An Actor Prepares       Grav.          1700.0   \n",
       "\n",
       "     foreign_gross  year  \n",
       "3079       1,369.5  2018  \n",
       "3080     646900000  2018  \n",
       "3081     891800000  2018  \n",
       "3082     634200000  2018  \n",
       "3083     812700000  2018  \n",
       "...            ...   ...  \n",
       "3382           NaN  2018  \n",
       "3383           NaN  2018  \n",
       "3384           NaN  2018  \n",
       "3385           NaN  2018  \n",
       "3386           NaN  2018  \n",
       "\n",
       "[308 rows x 5 columns]"
      ]
     },
     "execution_count": 5,
     "metadata": {},
     "output_type": "execute_result"
    }
   ],
   "source": [
    "bom_df2018 = bom_df.loc[bom_df['year'] == 2018 ]\n",
    "bom_df2018\n"
   ]
  },
  {
   "cell_type": "code",
   "execution_count": 250,
   "metadata": {},
   "outputs": [],
   "source": [
    "bom_df2018_WB = bom_df2018.loc[bom_df2018['studio'] == 'WB']"
   ]
  },
  {
   "cell_type": "code",
   "execution_count": 293,
   "metadata": {},
   "outputs": [
    {
     "data": {
      "text/plain": [
       "1729100000.0"
      ]
     },
     "execution_count": 293,
     "metadata": {},
     "output_type": "execute_result"
    }
   ],
   "source": [
    "bom_df2018_WB['domestic_gross'].sum()"
   ]
  },
  {
   "cell_type": "code",
   "execution_count": 251,
   "metadata": {},
   "outputs": [
    {
     "data": {
      "text/html": [
       "<div>\n",
       "<style scoped>\n",
       "    .dataframe tbody tr th:only-of-type {\n",
       "        vertical-align: middle;\n",
       "    }\n",
       "\n",
       "    .dataframe tbody tr th {\n",
       "        vertical-align: top;\n",
       "    }\n",
       "\n",
       "    .dataframe thead th {\n",
       "        text-align: right;\n",
       "    }\n",
       "</style>\n",
       "<table border=\"1\" class=\"dataframe\">\n",
       "  <thead>\n",
       "    <tr style=\"text-align: right;\">\n",
       "      <th></th>\n",
       "      <th>title</th>\n",
       "      <th>studio</th>\n",
       "      <th>domestic_gross</th>\n",
       "      <th>foreign_gross</th>\n",
       "      <th>year</th>\n",
       "    </tr>\n",
       "  </thead>\n",
       "  <tbody>\n",
       "    <tr>\n",
       "      <td>3083</td>\n",
       "      <td>Aquaman</td>\n",
       "      <td>WB</td>\n",
       "      <td>335100000.0</td>\n",
       "      <td>812700000</td>\n",
       "      <td>2018</td>\n",
       "    </tr>\n",
       "    <tr>\n",
       "      <td>3088</td>\n",
       "      <td>Fantastic Beasts: The Crimes of Grindelwald</td>\n",
       "      <td>WB</td>\n",
       "      <td>159600000.0</td>\n",
       "      <td>494100000</td>\n",
       "      <td>2018</td>\n",
       "    </tr>\n",
       "    <tr>\n",
       "      <td>3090</td>\n",
       "      <td>Ready Player One</td>\n",
       "      <td>WB</td>\n",
       "      <td>137700000.0</td>\n",
       "      <td>445200000</td>\n",
       "      <td>2018</td>\n",
       "    </tr>\n",
       "    <tr>\n",
       "      <td>3092</td>\n",
       "      <td>Detective Chinatown 2</td>\n",
       "      <td>WB</td>\n",
       "      <td>2000000.0</td>\n",
       "      <td>542100000</td>\n",
       "      <td>2018</td>\n",
       "    </tr>\n",
       "    <tr>\n",
       "      <td>3093</td>\n",
       "      <td>The Meg</td>\n",
       "      <td>WB</td>\n",
       "      <td>145400000.0</td>\n",
       "      <td>384800000</td>\n",
       "      <td>2018</td>\n",
       "    </tr>\n",
       "  </tbody>\n",
       "</table>\n",
       "</div>"
      ],
      "text/plain": [
       "                                            title studio  domestic_gross  \\\n",
       "3083                                      Aquaman     WB     335100000.0   \n",
       "3088  Fantastic Beasts: The Crimes of Grindelwald     WB     159600000.0   \n",
       "3090                             Ready Player One     WB     137700000.0   \n",
       "3092                        Detective Chinatown 2     WB       2000000.0   \n",
       "3093                                      The Meg     WB     145400000.0   \n",
       "\n",
       "     foreign_gross  year  \n",
       "3083     812700000  2018  \n",
       "3088     494100000  2018  \n",
       "3090     445200000  2018  \n",
       "3092     542100000  2018  \n",
       "3093     384800000  2018  "
      ]
     },
     "execution_count": 251,
     "metadata": {},
     "output_type": "execute_result"
    }
   ],
   "source": [
    "bom_df2018_WB.head()\n"
   ]
  },
  {
   "cell_type": "markdown",
   "metadata": {},
   "source": [
    "I'm able to make a dataframe that is filtered by year and by a single studio. Now, I would like to iterate this across all studios in 2018 "
   ]
  },
  {
   "cell_type": "code",
   "execution_count": 8,
   "metadata": {},
   "outputs": [],
   "source": [
    "#List of all studios active in 2018 \n",
    "\n",
    "bom_df.dropna(subset = ['foreign_gross'], inplace = True)"
   ]
  },
  {
   "cell_type": "code",
   "execution_count": 9,
   "metadata": {},
   "outputs": [],
   "source": [
    "bom_df2018 = bom_df.loc[bom_df['year'] == 2018]\n",
    "bom_df2018['studio'].unique()\n",
    "studios_2018 = bom_df2018['studio'].unique()"
   ]
  },
  {
   "cell_type": "code",
   "execution_count": 291,
   "metadata": {},
   "outputs": [],
   "source": [
    "\n",
    "#bom_df2018['total_gross'] = bom_df2018['domestic_gross'] + bom_df2018['foreign_gross']"
   ]
  },
  {
   "cell_type": "code",
   "execution_count": 10,
   "metadata": {},
   "outputs": [
    {
     "data": {
      "text/plain": [
       "array(['BV', 'Uni.', 'WB', 'Fox', 'Sony', 'Par.', 'WGUSA', 'WB (NL)',\n",
       "       'LGF', 'MGM', 'Studio 8', 'FoxS', 'STX', 'Focus', 'PNT', 'LG/S',\n",
       "       'A24', 'Annapurna', 'SGem', 'FIP', 'VPD', 'Global Road', 'CL',\n",
       "       'IFC', 'Affirm', 'Trafalgar', 'SPC', 'ENTMP', 'Amazon', 'BH Tilt',\n",
       "       'BST', 'Magn.', 'MBox', 'Greenwich', 'CJ', 'GK', 'Spanglish',\n",
       "       'Distrib.', 'Blue Fox', 'Scre.', 'Yash', 'Aviron', 'Cohen', 'VE',\n",
       "       'Grindstone', 'Darin Southa', 'FM'], dtype=object)"
      ]
     },
     "execution_count": 10,
     "metadata": {},
     "output_type": "execute_result"
    }
   ],
   "source": [
    "studios_2018 #here is my list of studios for 2018 "
   ]
  },
  {
   "cell_type": "markdown",
   "metadata": {},
   "source": [
    "Below is the best attempt yet at iterating through all of the studios for 2018. It's a bit bulky, especially in the directory portion (I inserted 3 lines of code for the value part of the key:value pair) but it worked!"
   ]
  },
  {
   "cell_type": "code",
   "execution_count": 70,
   "metadata": {},
   "outputs": [
    {
     "name": "stdout",
     "output_type": "stream",
     "text": [
      "{'BV': 3045600000.0, 'Uni.': 1789600000.0, 'WB': 1707900000.0, 'Fox': 840300000.0, 'Sony': 956690000.0, 'Par.': 699400000.0, 'WGUSA': 2538000.0, 'WB (NL)': 395500000.0, 'LGF': 202355400.0, 'MGM': 115700000.0, 'Studio 8': 59900000.0, 'FoxS': 66400000.0, 'STX': 261600000.0, 'Focus': 111900000.0, 'PNT': 50300000.0, 'LG/S': 77600000.0, 'A24': 44648000.0, 'Annapurna': 67300000.0, 'SGem': 92300000.0, 'FIP': 9200000.0, 'VPD': 12216000.0, 'Global Road': 34200000.0, 'CL': 70800.0, 'IFC': 9825000.0, 'Affirm': 17600000.0, 'Trafalgar': 4200000.0, 'SPC': 9600000.0, 'ENTMP': 17400000.0, 'Amazon': 15599999.0, 'BH Tilt': 20900000.0, 'BST': 18500000.0, 'Magn.': 1400.0, 'MBox': 258000.0, 'Greenwich': 1600000.0, 'CJ': 94500.0, 'GK': 35800.0, 'Spanglish': 2600000.0, 'Distrib.': 37100.0, 'Blue Fox': 91000.0, 'Scre.': 29500.0, 'Yash': 330000.0, 'Aviron': 1600000.0, 'Cohen': 200000.0, 'VE': 492300.0, 'Grindstone': 10000.0, 'Darin Southa': 93200.0, 'FM': 43200.0}\n"
     ]
    }
   ],
   "source": [
    "#Create a list of studios for 2018 \n",
    "\n",
    "bom_df2018 = bom_df.loc[bom_df['year'] == 2018]\n",
    "bom_df2018['studio'].unique()\n",
    "studios_2018 = bom_df2018['studio'].unique()\n",
    "\n",
    "studios_2018 #list of  studios in 2018 \n",
    "\n",
    "#Finding an example studio (WB) and what the studio grossed in year 2018:\n",
    "bom_df2018 = bom_df.loc[bom_df['year'] == 2018 ]\n",
    "bom_df2018_WB = bom_df2018.loc[bom_df2018['studio'] == 'WB']\n",
    "bom_df2018_WB['domestic_gross'].sum()\n",
    "\n",
    "\n",
    "#Now make a function to preform this on every studio in studios_2018 list \n",
    "#I would like a dictionary of studio and its gross for 2018 \n",
    "\n",
    "studios_2018 \n",
    "studio_gross_dic = {} #this dictionary contains studio and 2018 domestic gross \n",
    "\n",
    "#key = studio name\n",
    "#value = domestic_gross\n",
    "\n",
    "for studio in studios_2018: \n",
    "    \n",
    "    \n",
    "    bom_df2018 = bom_df.loc[bom_df['year'] == 2018 ]\n",
    "    bom_df2018_WB = bom_df2018.loc[bom_df2018['studio'] == studio]\n",
    "    bom_df2018_WB['domestic_gross'].sum()\n",
    "\n",
    "    studio_gross_dic.update({studio : bom_df2018_WB['domestic_gross'].sum()\n",
    "                             \n",
    "                             })\n",
    "                             \n",
    "                            \n",
    "print(studio_gross_dic)"
   ]
  },
  {
   "cell_type": "code",
   "execution_count": 12,
   "metadata": {},
   "outputs": [
    {
     "data": {
      "image/png": "[encoded data removed]",
      "text/plain": [
       "<Figure size 432x288 with 1 Axes>"
      ]
     },
     "metadata": {
      "needs_background": "light"
     },
     "output_type": "display_data"
    }
   ],
   "source": [
    "import matplotlib.pylab as plt\n",
    "\n",
    "lists = sorted(studio_gross_dic.items()) # sorted by key, return a list of tuples\n",
    "\n",
    "x, y = zip(*lists) # unpack a list of pairs into two tuples\n",
    "\n",
    "plt.plot(x, y)\n",
    "plt.show()"
   ]
  },
  {
   "cell_type": "code",
   "execution_count": 18,
   "metadata": {},
   "outputs": [],
   "source": [
    "studio_gross = pd.DataFrame(list(studio_gross_dic.items()), columns=['studio','domestic_gross'])\n",
    "top_10 = studio_gross.sort_values(by ='domestic_gross', ascending=False).head(10)"
   ]
  },
  {
   "cell_type": "code",
   "execution_count": 64,
   "metadata": {},
   "outputs": [
    {
     "data": {
      "text/plain": [
       "Text(0.5, 1.0, 'Top 10 Domestic Grossing Studios 2018')"
      ]
     },
     "execution_count": 64,
     "metadata": {},
     "output_type": "execute_result"
    },
    {
     "data": {
      "image/png": "[encoded data removed]",
      "text/plain": [
       "<Figure size 432x288 with 1 Axes>"
      ]
     },
     "metadata": {
      "needs_background": "light"
     },
     "output_type": "display_data"
    }
   ],
   "source": [
    "top_10['total_domestic_gross_billions'] = (top_10['domestic_gross']/1000000000)\n",
    "\n",
    "sns.barplot(x=\"studio\", y=\"total_domestic_gross_billions\", palette= 'pastel', color= 'blue', data=top_10)\n",
    "plt.title('Top 10 Domestic Grossing Studios 2018')"
   ]
  },
  {
   "cell_type": "markdown",
   "metadata": {},
   "source": [
    "Now, do the same for 2016"
   ]
  },
  {
   "cell_type": "code",
   "execution_count": 71,
   "metadata": {},
   "outputs": [
    {
     "name": "stdout",
     "output_type": "stream",
     "text": [
      "{'BV': 2378200000.0, 'Uni.': 1443500000.0, 'Sony': 1062636000.0, 'HC': 2700000.0, 'WB': 1479400000.0, 'WB (NL)': 532400000.0, 'Fox': 1345000000.0, 'Par.': 484699999.0, 'FUN': 5424000.0, 'SGem': 57200000.0, 'LGF': 422465000.0, 'WGUSA': 2081000.0, 'GrtIndia': 20200000.0, 'TriS': 135300000.0, 'STX': 206800000.0, 'FoxS': 154200000.0, 'LG/S': 224900000.0, 'CL': 865000.0, 'Focus': 179900000.0, nan: 0.0, 'Wein.': 44556000.0, 'Yash': 5600000.0, 'A24': 84100000.0, 'ORF': 59699999.0, 'PNT': 32100000.0, 'CJ': 1576000.0, 'Neon': 30000000.0, 'BST': 36400000.0, 'Good Deed': 6700000.0, 'SPC': 19791000.0, 'ParC': 5900.0, 'FIP': 6334000.0, 'Elev.': 1500000.0, 'PFR': 14700000.0, 'Amazon': 1400000.0, 'BBC': 81300.0, 'FR': 211000.0, 'RAtt.': 14824000.0, 'IFC': 1275700.0, 'W/Dim.': 700.0, 'BG': 6223000.0, 'Affirm': 5800000.0, 'Distrib.': 1000000.0, 'Annapurna': 2100000.0, 'FCW': 515000.0, 'Imax': 1500000.0, 'Magn.': 528000.0, 'MOM': 14800.0, 'Vita.': 360000.0}\n"
     ]
    }
   ],
   "source": [
    "\n",
    "bom_df2017 = bom_df.loc[bom_df['year'] == 2017]\n",
    "bom_df2017['studio'].unique()\n",
    "studios_2017 = bom_df2017['studio'].unique()\n",
    "\n",
    "studios_2017 #list of  studios in 2017 \n",
    "\n",
    "#Finding an example studio (WB) and what the studio grossed in year 2018:\n",
    "bom_df2017 = bom_df.loc[bom_df['year'] == 2017 ]\n",
    "bom_df2017_WB = bom_df2017.loc[bom_df2017['studio'] == 'WB']\n",
    "bom_df2017_WB['domestic_gross'].sum()\n",
    "\n",
    "\n",
    "#Now make a function to preform this on every studio in studios_2018 list \n",
    "#I would like a dictionary of studio and its gross for 2018 \n",
    "\n",
    "studios_2017 \n",
    "studio_gross_dic2017 = {} #this dictionary contains studio and 2018 domestic gross \n",
    "\n",
    "#key = studio name\n",
    "#value = domestic_gross\n",
    "\n",
    "for studio in studios_2017: \n",
    "    \n",
    "    \n",
    "    bom_df2017 = bom_df.loc[bom_df['year'] == 2017 ]\n",
    "    bom_df2017_WB = bom_df2017.loc[bom_df2017['studio'] == studio]\n",
    "    bom_df2017_WB['domestic_gross'].sum()\n",
    "\n",
    "    studio_gross_dic2017.update({studio : bom_df2017_WB['domestic_gross'].sum()\n",
    "                             \n",
    "                             })\n",
    "                             \n",
    "                            \n",
    "print(studio_gross_dic2017)\n"
   ]
  },
  {
   "cell_type": "code",
   "execution_count": 69,
   "metadata": {},
   "outputs": [],
   "source": [
    "studio_gross_2017 = pd.DataFrame(list(studio_gross_dic2017.items()), columns=['studio','domestic_gross'])\n",
    "top_10_2017 = studio_gross_2017.sort_values(by ='domestic_gross', ascending=False).head(10)"
   ]
  },
  {
   "cell_type": "code",
   "execution_count": 68,
   "metadata": {},
   "outputs": [
    {
     "data": {
      "text/plain": [
       "Text(0.5, 1.0, 'Top 10 Domestic Grossing Studios 2017')"
      ]
     },
     "execution_count": 68,
     "metadata": {},
     "output_type": "execute_result"
    },
    {
     "data": {
      "image/png": "[encoded data removed]",
      "text/plain": [
       "<Figure size 432x288 with 1 Axes>"
      ]
     },
     "metadata": {
      "needs_background": "light"
     },
     "output_type": "display_data"
    }
   ],
   "source": [
    "\n",
    "top_10_2017['total_domestic_gross_billions'] = (top_10_2017['domestic_gross']/1000000000)\n",
    "\n",
    "sns.barplot(x=\"studio\", y=\"total_domestic_gross_billions\", palette= 'pastel', color= 'blue', data=top_10_2017)\n",
    "plt.title('Top 10 Domestic Grossing Studios 2017')"
   ]
  },
  {
   "cell_type": "code",
   "execution_count": 154,
   "metadata": {},
   "outputs": [],
   "source": [
    "df = bom_df"
   ]
  },
  {
   "cell_type": "markdown",
   "metadata": {},
   "source": [
    "Below was some miscellaneous code accessing movie production "
   ]
  },
  {
   "cell_type": "markdown",
   "metadata": {},
   "source": [
    "# What were the most active studios in the past 5 years in terms of movie production?"
   ]
  },
  {
   "cell_type": "markdown",
   "metadata": {},
   "source": [
    "How many active studios in 2018 "
   ]
  },
  {
   "cell_type": "code",
   "execution_count": 66,
   "metadata": {},
   "outputs": [
    {
     "data": {
      "text/plain": [
       "47"
      ]
     },
     "execution_count": 66,
     "metadata": {},
     "output_type": "execute_result"
    }
   ],
   "source": [
    "df_studios = bom_df.loc[bom_df['year'] == 2018]\n",
    "len(bom_df2018['studio'].unique())"
   ]
  },
  {
   "cell_type": "code",
   "execution_count": null,
   "metadata": {},
   "outputs": [],
   "source": []
  },
  {
   "cell_type": "markdown",
   "metadata": {},
   "source": [
    "How many active studios in 2017"
   ]
  },
  {
   "cell_type": "code",
   "execution_count": 67,
   "metadata": {},
   "outputs": [
    {
     "data": {
      "text/plain": [
       "49"
      ]
     },
     "execution_count": 67,
     "metadata": {},
     "output_type": "execute_result"
    }
   ],
   "source": [
    "bom_df2017 = bom_df.loc[bom_df['year'] == 2017]\n",
    "len(bom_df2017['studio'].unique())"
   ]
  },
  {
   "cell_type": "markdown",
   "metadata": {},
   "source": [
    "How many active studios in 2016"
   ]
  },
  {
   "cell_type": "code",
   "execution_count": 129,
   "metadata": {},
   "outputs": [
    {
     "data": {
      "text/plain": [
       "92"
      ]
     },
     "execution_count": 129,
     "metadata": {},
     "output_type": "execute_result"
    }
   ],
   "source": [
    "bom_df2016 = bom_df.loc[bom_df['year'] == 2016]\n",
    "len(bom_df2016['studio'].unique())"
   ]
  },
  {
   "cell_type": "markdown",
   "metadata": {},
   "source": [
    "How many active studios in 2015\n"
   ]
  },
  {
   "cell_type": "code",
   "execution_count": 133,
   "metadata": {},
   "outputs": [
    {
     "data": {
      "text/plain": [
       "94"
      ]
     },
     "execution_count": 133,
     "metadata": {},
     "output_type": "execute_result"
    }
   ],
   "source": [
    "bom_df2015 = bom_df.loc[bom_df['year'] == 2015]\n",
    "len(bom_df2015['studio'].unique())"
   ]
  },
  {
   "cell_type": "markdown",
   "metadata": {},
   "source": [
    "How many active studios in 2014\n"
   ]
  },
  {
   "cell_type": "code",
   "execution_count": 136,
   "metadata": {},
   "outputs": [
    {
     "data": {
      "text/plain": [
       "81"
      ]
     },
     "execution_count": 136,
     "metadata": {},
     "output_type": "execute_result"
    }
   ],
   "source": [
    "bom_df2014 = bom_df.loc[bom_df['year'] == 2014]\n",
    "len(bom_df2014['studio'].unique())"
   ]
  },
  {
   "cell_type": "code",
   "execution_count": null,
   "metadata": {},
   "outputs": [],
   "source": [
    "studio_df = pd.DataFrame(bom_df2018.groupby('studio').sum())['']"
   ]
  },
  {
   "cell_type": "code",
   "execution_count": null,
   "metadata": {},
   "outputs": [],
   "source": []
  }
 ],
 "metadata": {
  "kernelspec": {
   "display_name": "Python 3",
   "language": "python",
   "name": "python3"
  },
  "language_info": {
   "codemirror_mode": {
    "name": "ipython",
    "version": 3
   },
   "file_extension": ".py",
   "mimetype": "text/x-python",
   "name": "python",
   "nbconvert_exporter": "python",
   "pygments_lexer": "ipython3",
   "version": "3.6.9"
  }
 },
 "nbformat": 4,
 "nbformat_minor": 2
}
